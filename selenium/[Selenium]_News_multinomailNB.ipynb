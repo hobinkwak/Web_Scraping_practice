{
 "cells": [
  {
   "cell_type": "markdown",
   "metadata": {},
   "source": [
    "- requests나 beautifulsoup을 사용해서 하면 네이버가 막음."
   ]
  },
  {
   "cell_type": "code",
   "execution_count": 1,
   "metadata": {
    "ExecuteTime": {
     "end_time": "2021-03-03T15:30:27.619857Z",
     "start_time": "2021-03-03T15:30:27.397215Z"
    }
   },
   "outputs": [],
   "source": [
    "from fake_useragent import UserAgent\n",
    "from selenium import webdriver\n",
    "import time"
   ]
  },
  {
   "cell_type": "code",
   "execution_count": 2,
   "metadata": {
    "ExecuteTime": {
     "end_time": "2021-03-03T15:30:27.948798Z",
     "start_time": "2021-03-03T15:30:27.941772Z"
    }
   },
   "outputs": [],
   "source": [
    "categories = {\n",
    "100 : '정치',\n",
    "    101 : '경제',\n",
    "    102 : '사회',\n",
    "    103 : '생활/문화',\n",
    "    104 : '세계',\n",
    "    105 :'IT/과학'}"
   ]
  },
  {
   "cell_type": "code",
   "execution_count": 3,
   "metadata": {
    "ExecuteTime": {
     "end_time": "2021-03-03T15:30:28.298316Z",
     "start_time": "2021-03-03T15:30:28.290338Z"
    }
   },
   "outputs": [],
   "source": [
    "category, date, page = 100, 20210205, 1\n",
    "url = 'https://news.naver.com/main/list.nhn?mode=LSD&mid=sec&sid1={}&date={}&page={}'.format(category, date, page)"
   ]
  },
  {
   "cell_type": "code",
   "execution_count": 4,
   "metadata": {
    "ExecuteTime": {
     "end_time": "2021-03-03T15:30:31.817382Z",
     "start_time": "2021-03-03T15:30:28.878854Z"
    }
   },
   "outputs": [],
   "source": [
    "driver = webdriver.Chrome()\n",
    "driver.get(url)"
   ]
  },
  {
   "cell_type": "code",
   "execution_count": 5,
   "metadata": {
    "ExecuteTime": {
     "end_time": "2021-03-03T15:30:31.896172Z",
     "start_time": "2021-03-03T15:30:31.853288Z"
    }
   },
   "outputs": [
    {
     "data": {
      "text/plain": [
       "20"
      ]
     },
     "execution_count": 5,
     "metadata": {},
     "output_type": "execute_result"
    }
   ],
   "source": [
    "articles = driver.find_elements_by_css_selector(\".list_body > ul > li\")\n",
    "len(articles)"
   ]
  },
  {
   "cell_type": "code",
   "execution_count": 6,
   "metadata": {
    "ExecuteTime": {
     "end_time": "2021-03-03T15:30:31.943046Z",
     "start_time": "2021-03-03T15:30:31.930081Z"
    }
   },
   "outputs": [
    {
     "data": {
      "text/plain": [
       "<selenium.webdriver.remote.webelement.WebElement (session=\"b9a30baa8d18689526c37c243f307dc4\", element=\"6670e7cb-07f6-4114-957e-48ce5e813fd1\")>"
      ]
     },
     "execution_count": 6,
     "metadata": {},
     "output_type": "execute_result"
    }
   ],
   "source": [
    "articles[0]"
   ]
  },
  {
   "cell_type": "code",
   "execution_count": 7,
   "metadata": {
    "ExecuteTime": {
     "end_time": "2021-03-03T15:30:32.096642Z",
     "start_time": "2021-03-03T15:30:32.032612Z"
    }
   },
   "outputs": [
    {
     "data": {
      "text/plain": [
       "('\"대선후보 적합도…윤석열 28.3%·이재명 26.6%·이낙연 14.8%\"',\n",
       " 'https://news.naver.com/main/read.nhn?mode=LSD&mid=sec&sid1=100&oid=016&aid=0001790561')"
      ]
     },
     "execution_count": 7,
     "metadata": {},
     "output_type": "execute_result"
    }
   ],
   "source": [
    "title = articles[0].find_element_by_css_selector('dt:not(.photo) > a').text\n",
    "link = articles[0].find_element_by_css_selector('dt:not(.photo) > a').get_attribute('href')\n",
    "title, link"
   ]
  },
  {
   "cell_type": "markdown",
   "metadata": {},
   "source": [
    "- 제목이랑 링크만 확보하면 requests 씹가능\n",
    "    - 이었는데 다시 막힘....\n",
    "    - fake useragent 해보자\n",
    "    - 아니면 selenium인데 너무느리네"
   ]
  },
  {
   "cell_type": "code",
   "execution_count": 18,
   "metadata": {
    "ExecuteTime": {
     "end_time": "2021-03-03T15:31:59.933136Z",
     "start_time": "2021-03-03T15:31:59.649944Z"
    }
   },
   "outputs": [],
   "source": [
    "headers = {'User-Agent':UserAgent().Chrome}\n",
    "response = requests.get(link, headers=headers)\n",
    "dom = BeautifulSoup(response.text, 'html5lib')"
   ]
  },
  {
   "cell_type": "code",
   "execution_count": 19,
   "metadata": {
    "ExecuteTime": {
     "end_time": "2021-03-03T15:32:00.361301Z",
     "start_time": "2021-03-03T15:32:00.347366Z"
    },
    "scrolled": true
   },
   "outputs": [
    {
     "data": {
      "text/plain": [
       "\" 오류를 우회하기 위한 함수 추가 윤석열,이재명,이낙연[헤럴드경제] 차기 대선후보 적합도 조사에서 윤석열 검찰총장이 이재명 경기도지사를 오차범위 내 앞선다는 여론조사 결과가 5일 나왔다.조원씨앤아이가 시사저널 의뢰로 지난 2~3일 전국 만 18세 이상 남녀 1천11명을 대상으로 조사한 결과 윤 총장은 28.3%를 기록하며 이 지사(26.6%)를 1.7%포인트 앞섰다.더불어민주당 이낙연 대표는 14.8%로 집계됐다.무소속 홍준표 의원(8.0%), 정세균 국무총리(3.5%), 유시민 노무현재단 이사장(2.9%), 원희룡 제주도지사(2.6%)가 뒤를 이었다.윤 총장은 이 지사와의 가상 양자 대결에서도 42.0%를 기록하며 이 지사(39.5%)를 미세한 차이로 꺾었다. 윤 총장과 이 대표와의 가상 양자 대결에서 윤 총장은 40.5%를 기록하면서 이 대표(31.7%)를 오차범위 밖으로 앞섰다.다만 윤 총장의 정치 참여의 적절성 여부를 묻는 말에선 '적절하다'(46.6%)와 '부적절하다'(45.2%)가 팽팽했다.이 조사의 오차범위는 95% 신뢰수준에 ±3.1%포인트다.자세한 내용은 중앙선거여론조사심의위원회 홈페이지를 참조하면 된다.onlinenews@heraldcorp.com▶환경적 대화기구 '헤럴드에코'▶밀리터리 전문 콘텐츠 ‘헤밀’▶헤럴드경제 네이버 채널 구독- Copyrights ⓒ 헤럴드경제 & heraldbiz.com, 무단 전재 및 재배포 금지 -\""
      ]
     },
     "execution_count": 19,
     "metadata": {},
     "output_type": "execute_result"
    }
   ],
   "source": [
    "content = dom.select_one('#articleBodyContents').text.replace('\\n', '').replace('\\\\','').replace('\\t','').replace('{}','').replace('// flash','').replace('function _flash_removeCallback()','')\n",
    "content"
   ]
  },
  {
   "cell_type": "code",
   "execution_count": 20,
   "metadata": {
    "ExecuteTime": {
     "end_time": "2021-03-03T15:32:01.712520Z",
     "start_time": "2021-03-03T15:32:01.393333Z"
    }
   },
   "outputs": [
    {
     "data": {
      "text/plain": [
       "'\\n\\t\\n\\t\\n\\n\\n\\n// flash 오류를 우회하기 위한 함수 추가\\nfunction _flash_removeCallback() {}\\n\\n\\t\\n\\t[자료사진][서울=뉴시스]박미소 기자 = 황기철 국가보훈처장이 5일 설명절계기 정책현장방문의 일환으로 서울 서초구 서울남부보훈지청을 방문하여 직원들과 인사를 나누고 있다. (사진=국가보훈처 제공) 2021.02.05. photo@newsis.com 재판매 및 DB 금지[사진 영상 제보받습니다] 공감언론 뉴시스가 독자 여러분의 소중한 제보를 기다립니다. 뉴스 가치나 화제성이 있다고 판단되는 사진 또는 영상을 뉴시스 사진영상부(n-photo@newsis.com)로 보내주시면 적극 반영하겠습니다.<ⓒ 공감언론 뉴시스통신사. 무단전재-재배포 금지>\\n\\t\\n\\t'"
      ]
     },
     "execution_count": 20,
     "metadata": {},
     "output_type": "execute_result"
    }
   ],
   "source": [
    "response = requests.get('https://news.naver.com/main/read.nhn?mode=LSD&mid=sec&sid1=100&oid=003&aid=0010333342', headers=headers)\n",
    "dom = BeautifulSoup(response.content, 'html5lib')\n",
    "dom.select_one('#articleBodyContents').text"
   ]
  },
  {
   "cell_type": "code",
   "execution_count": 12,
   "metadata": {
    "ExecuteTime": {
     "end_time": "2021-03-03T15:30:53.473603Z",
     "start_time": "2021-03-03T15:30:53.459641Z"
    }
   },
   "outputs": [],
   "source": [
    "def get_article(category, date, page):\n",
    "    url = 'http://news.naver.com/main/list.nhn?mode=LSD&mid=sec&sid1={}&date={}&page={}'.format(category, date, page)\n",
    "    driver = webdriver.Chrome()\n",
    "    driver.get(url)\n",
    "    articles = driver.find_elements_by_css_selector(\".list_body > ul > li\")\n",
    "    headers = {'User-Agent':UserAgent().Chrome}\n",
    "    datas = []\n",
    "    for article in articles:\n",
    "        time.sleep(2)\n",
    "        try: \n",
    "            title = article.find_element_by_css_selector('dt:not(.photo) > a').text\n",
    "            link = article.find_element_by_css_selector('dt:not(.photo) > a').get_attribute('href')\n",
    "            \n",
    "            response = requests.get(link, headers=headers)\n",
    "            dom = BeautifulSoup(response.content, 'html5lib')\n",
    "            content = dom.select_one('#articleBodyContents').text.replace('\\n', '').replace('\\\\','').replace('\\t','').replace('{}','').replace('// flash','').replace('function _flash_removeCallback()','')\n",
    "            datas.append({\n",
    "                'title':title,\n",
    "                'link':link,\n",
    "                'content':content,\n",
    "                'category':category\n",
    "            })\n",
    "        except:\n",
    "            headers = {'User-Agent':UserAgent().Chrome}\n",
    "            response = requests.get(link, headers=headers)\n",
    "            dom = BeautifulSoup(response.content, 'html5lib')\n",
    "            content = dom.select_one('#articleBodyContents').text.replace('\\n', '').replace('\\\\','').replace('\\t','').replace('{}','').replace('// flash','').replace('function _flash_removeCallback()','')\n",
    "            datas.append({\n",
    "                'title':title,\n",
    "                'link':link,\n",
    "                'content':content,\n",
    "                'category':category\n",
    "            })\n",
    "    driver.quit()\n",
    "    return pd.DataFrame(datas)            "
   ]
  },
  {
   "cell_type": "code",
   "execution_count": 13,
   "metadata": {
    "ExecuteTime": {
     "end_time": "2021-03-03T15:31:49.082090Z",
     "start_time": "2021-03-03T15:30:53.706289Z"
    }
   },
   "outputs": [
    {
     "data": {
      "text/html": [
       "<div>\n",
       "<style scoped>\n",
       "    .dataframe tbody tr th:only-of-type {\n",
       "        vertical-align: middle;\n",
       "    }\n",
       "\n",
       "    .dataframe tbody tr th {\n",
       "        vertical-align: top;\n",
       "    }\n",
       "\n",
       "    .dataframe thead th {\n",
       "        text-align: right;\n",
       "    }\n",
       "</style>\n",
       "<table border=\"1\" class=\"dataframe\">\n",
       "  <thead>\n",
       "    <tr style=\"text-align: right;\">\n",
       "      <th></th>\n",
       "      <th>title</th>\n",
       "      <th>link</th>\n",
       "      <th>content</th>\n",
       "      <th>category</th>\n",
       "    </tr>\n",
       "  </thead>\n",
       "  <tbody>\n",
       "    <tr>\n",
       "      <th>0</th>\n",
       "      <td>\"대선후보 적합도…윤석열 28.3%·이재명 26.6%·이낙연 14.8%\"</td>\n",
       "      <td>https://news.naver.com/main/read.nhn?mode=LSD&amp;...</td>\n",
       "      <td>오류를 우회하기 위한 함수 추가 윤석열,이재명,이낙연[헤럴드경제] 차기 대선후보 ...</td>\n",
       "      <td>100</td>\n",
       "    </tr>\n",
       "    <tr>\n",
       "      <th>1</th>\n",
       "      <td>유시민 “‘86책임론’, 보수 언론이 지어낸 프레임”</td>\n",
       "      <td>https://news.naver.com/main/read.nhn?mode=LSD&amp;...</td>\n",
       "      <td>오류를 우회하기 위한 함수 추가 /유튜브유시민 노무현재단 이사장은 이른바 ’86 ...</td>\n",
       "      <td>100</td>\n",
       "    </tr>\n",
       "    <tr>\n",
       "      <th>2</th>\n",
       "      <td>대선후보 적합도…“윤석열(28.3%),이재명(26.6%) 앞서”</td>\n",
       "      <td>https://news.naver.com/main/read.nhn?mode=LSD&amp;...</td>\n",
       "      <td>오류를 우회하기 위한 함수 추가 조원씨앤아이, 시사저널 의뢰 조사차기 대선후보 적...</td>\n",
       "      <td>100</td>\n",
       "    </tr>\n",
       "    <tr>\n",
       "      <th>3</th>\n",
       "      <td>권영세 \"동자동 쪽방촌 개발, 빈곤 탈출이 중요..복지 확대해야\"</td>\n",
       "      <td>https://news.naver.com/main/read.nhn?mode=LSD&amp;...</td>\n",
       "      <td>오류를 우회하기 위한 함수 추가 \"선거 전부터 쪽방촌 골목 돌며어르신들 주거 환경...</td>\n",
       "      <td>100</td>\n",
       "    </tr>\n",
       "    <tr>\n",
       "      <th>4</th>\n",
       "      <td>유시민 \"통일, 목표로 삼지 말아야…자유왕래가 우선\"</td>\n",
       "      <td>https://news.naver.com/main/read.nhn?mode=LSD&amp;...</td>\n",
       "      <td>오류를 우회하기 위한 함수 추가 유시민 노무현재단 이사장이 남북통일과 관련해, \"...</td>\n",
       "      <td>100</td>\n",
       "    </tr>\n",
       "    <tr>\n",
       "      <th>5</th>\n",
       "      <td>“택시 기본요금 1200원” 답했다 진땀 뺀 변창흠</td>\n",
       "      <td>https://news.naver.com/main/read.nhn?mode=LSD&amp;...</td>\n",
       "      <td>오류를 우회하기 위한 함수 추가  변창흠 국토교통부 장관이 5일 국회 본회의에서 ...</td>\n",
       "      <td>100</td>\n",
       "    </tr>\n",
       "    <tr>\n",
       "      <th>6</th>\n",
       "      <td>봉하 간 추미애 “공수처출범, 이제 盧께 제대로 인사”</td>\n",
       "      <td>https://news.naver.com/main/read.nhn?mode=LSD&amp;...</td>\n",
       "      <td>오류를 우회하기 위한 함수 추가 페이스북에 故노무현 전 대통령 묘소 방문 사진 올...</td>\n",
       "      <td>100</td>\n",
       "    </tr>\n",
       "    <tr>\n",
       "      <th>7</th>\n",
       "      <td>추미애 “촛불 힘으로 공수처 출범”…盧 전 대통령 묘소 참배</td>\n",
       "      <td>https://news.naver.com/main/read.nhn?mode=LSD&amp;...</td>\n",
       "      <td>오류를 우회하기 위한 함수 추가 봉하 찾은 추미애 전 장관 - 추미애 전 법무부 ...</td>\n",
       "      <td>100</td>\n",
       "    </tr>\n",
       "    <tr>\n",
       "      <th>8</th>\n",
       "      <td>\"대선후보 적합도…윤석열 28.3%·이재명 26.6%·이낙연 14.8%\"</td>\n",
       "      <td>https://news.naver.com/main/read.nhn?mode=LSD&amp;...</td>\n",
       "      <td>오류를 우회하기 위한 함수 추가 [연합뉴스TV 제공](서울=연합뉴스) 강민경 기자...</td>\n",
       "      <td>100</td>\n",
       "    </tr>\n",
       "    <tr>\n",
       "      <th>9</th>\n",
       "      <td>쇠사슬·인간벽 뒤에 숨은 김명수 “잘해보겠다” 사퇴 거부</td>\n",
       "      <td>https://news.naver.com/main/read.nhn?mode=LSD&amp;...</td>\n",
       "      <td>오류를 우회하기 위한 함수 추가 野의원들 대법원 항의 방문하자 출입문 봉쇄하고 버...</td>\n",
       "      <td>100</td>\n",
       "    </tr>\n",
       "    <tr>\n",
       "      <th>10</th>\n",
       "      <td>김예지 \"황희, 피감기관 사업 장애물 제거해주고 고액 후원받아\"</td>\n",
       "      <td>https://news.naver.com/main/read.nhn?mode=LSD&amp;...</td>\n",
       "      <td>오류를 우회하기 위한 함수 추가 \"사장실 직속 고위간부 연 500만원씩 2년 연속...</td>\n",
       "      <td>100</td>\n",
       "    </tr>\n",
       "    <tr>\n",
       "      <th>11</th>\n",
       "      <td>봉하 찾은 추미애 전 장관</td>\n",
       "      <td>https://news.naver.com/main/read.nhn?mode=LSD&amp;...</td>\n",
       "      <td>오류를 우회하기 위한 함수 추가     (서울=연합뉴스) 추미애 전 법무부 장관이...</td>\n",
       "      <td>100</td>\n",
       "    </tr>\n",
       "    <tr>\n",
       "      <th>12</th>\n",
       "      <td>봉하 찾은 추미애 전 장관</td>\n",
       "      <td>https://news.naver.com/main/read.nhn?mode=LSD&amp;...</td>\n",
       "      <td>오류를 우회하기 위한 함수 추가     (서울=연합뉴스) 추미애 전 법무부 장관이...</td>\n",
       "      <td>100</td>\n",
       "    </tr>\n",
       "    <tr>\n",
       "      <th>13</th>\n",
       "      <td>與 권인숙 \"나경원 돈 퍼주기 식 저출산 대책 한심해\" 비판</td>\n",
       "      <td>https://news.naver.com/main/read.nhn?mode=LSD&amp;...</td>\n",
       "      <td>오류를 우회하기 위한 함수 추가 더불어민주당 권인숙 의원. 연합뉴스국민의힘 나경원...</td>\n",
       "      <td>100</td>\n",
       "    </tr>\n",
       "    <tr>\n",
       "      <th>14</th>\n",
       "      <td>유명희, WTO 사무총장 후보직 최종 사퇴 결정</td>\n",
       "      <td>https://news.naver.com/main/read.nhn?mode=LSD&amp;...</td>\n",
       "      <td>오류를 우회하기 위한 함수 추가 미국 신행정부 출범에 맞춰 미측과 협의 거쳐 사퇴...</td>\n",
       "      <td>100</td>\n",
       "    </tr>\n",
       "    <tr>\n",
       "      <th>15</th>\n",
       "      <td>유시민 “86책임론은 보수언론 프레임…위로해주고 싶다”</td>\n",
       "      <td>https://news.naver.com/main/read.nhn?mode=LSD&amp;...</td>\n",
       "      <td>오류를 우회하기 위한 함수 추가 유시민 노무현재단 이사장 ‘알릴레오 시즌3’. 노...</td>\n",
       "      <td>100</td>\n",
       "    </tr>\n",
       "    <tr>\n",
       "      <th>16</th>\n",
       "      <td>나경원 \"서울서 결혼·출산, 1억1천700만원 보조할 것\"</td>\n",
       "      <td>https://news.naver.com/main/read.nhn?mode=LSD&amp;...</td>\n",
       "      <td>오류를 우회하기 위한 함수 추가 [한국경제TV 조시형 기자]국민의힘 나경원 서울시...</td>\n",
       "      <td>100</td>\n",
       "    </tr>\n",
       "    <tr>\n",
       "      <th>17</th>\n",
       "      <td>안철수·금태섭 '제3지대 단일화' 첫 발에 이태규 \"박영선 이길 후보 안철수 유일\"</td>\n",
       "      <td>https://news.naver.com/main/read.nhn?mode=LSD&amp;...</td>\n",
       "      <td>오류를 우회하기 위한 함수 추가 안철수 국민의당 대표/연합뉴스[서울경제] 안철수 ...</td>\n",
       "      <td>100</td>\n",
       "    </tr>\n",
       "    <tr>\n",
       "      <th>18</th>\n",
       "      <td>\"조민 선생님은 제인 에어\" 응원한 진혜원 \"선한 마음 갖고 계신 것으로 짐작\"</td>\n",
       "      <td>https://news.naver.com/main/read.nhn?mode=LSD&amp;...</td>\n",
       "      <td>오류를 우회하기 위한 함수 추가 조국 전 법무부 장관/연합뉴스[서울경제] 지난해 ...</td>\n",
       "      <td>100</td>\n",
       "    </tr>\n",
       "    <tr>\n",
       "      <th>19</th>\n",
       "      <td>김예지 \"황희, 수공 사업법 발의후 고액후원 받아\"</td>\n",
       "      <td>https://news.naver.com/main/read.nhn?mode=LSD&amp;...</td>\n",
       "      <td>오류를 우회하기 위한 함수 추가 (서울=연합뉴스) 류미나 기자 = 황희 문화체육관...</td>\n",
       "      <td>100</td>\n",
       "    </tr>\n",
       "  </tbody>\n",
       "</table>\n",
       "</div>"
      ],
      "text/plain": [
       "                                             title  \\\n",
       "0         \"대선후보 적합도…윤석열 28.3%·이재명 26.6%·이낙연 14.8%\"   \n",
       "1                    유시민 “‘86책임론’, 보수 언론이 지어낸 프레임”   \n",
       "2              대선후보 적합도…“윤석열(28.3%),이재명(26.6%) 앞서”   \n",
       "3             권영세 \"동자동 쪽방촌 개발, 빈곤 탈출이 중요..복지 확대해야\"   \n",
       "4                    유시민 \"통일, 목표로 삼지 말아야…자유왕래가 우선\"   \n",
       "5                     “택시 기본요금 1200원” 답했다 진땀 뺀 변창흠   \n",
       "6                   봉하 간 추미애 “공수처출범, 이제 盧께 제대로 인사”   \n",
       "7                추미애 “촛불 힘으로 공수처 출범”…盧 전 대통령 묘소 참배   \n",
       "8         \"대선후보 적합도…윤석열 28.3%·이재명 26.6%·이낙연 14.8%\"   \n",
       "9                  쇠사슬·인간벽 뒤에 숨은 김명수 “잘해보겠다” 사퇴 거부   \n",
       "10             김예지 \"황희, 피감기관 사업 장애물 제거해주고 고액 후원받아\"   \n",
       "11                                  봉하 찾은 추미애 전 장관   \n",
       "12                                  봉하 찾은 추미애 전 장관   \n",
       "13               與 권인숙 \"나경원 돈 퍼주기 식 저출산 대책 한심해\" 비판   \n",
       "14                      유명희, WTO 사무총장 후보직 최종 사퇴 결정   \n",
       "15                  유시민 “86책임론은 보수언론 프레임…위로해주고 싶다”   \n",
       "16                나경원 \"서울서 결혼·출산, 1억1천700만원 보조할 것\"   \n",
       "17  안철수·금태섭 '제3지대 단일화' 첫 발에 이태규 \"박영선 이길 후보 안철수 유일\"   \n",
       "18    \"조민 선생님은 제인 에어\" 응원한 진혜원 \"선한 마음 갖고 계신 것으로 짐작\"   \n",
       "19                    김예지 \"황희, 수공 사업법 발의후 고액후원 받아\"   \n",
       "\n",
       "                                                 link  \\\n",
       "0   https://news.naver.com/main/read.nhn?mode=LSD&...   \n",
       "1   https://news.naver.com/main/read.nhn?mode=LSD&...   \n",
       "2   https://news.naver.com/main/read.nhn?mode=LSD&...   \n",
       "3   https://news.naver.com/main/read.nhn?mode=LSD&...   \n",
       "4   https://news.naver.com/main/read.nhn?mode=LSD&...   \n",
       "5   https://news.naver.com/main/read.nhn?mode=LSD&...   \n",
       "6   https://news.naver.com/main/read.nhn?mode=LSD&...   \n",
       "7   https://news.naver.com/main/read.nhn?mode=LSD&...   \n",
       "8   https://news.naver.com/main/read.nhn?mode=LSD&...   \n",
       "9   https://news.naver.com/main/read.nhn?mode=LSD&...   \n",
       "10  https://news.naver.com/main/read.nhn?mode=LSD&...   \n",
       "11  https://news.naver.com/main/read.nhn?mode=LSD&...   \n",
       "12  https://news.naver.com/main/read.nhn?mode=LSD&...   \n",
       "13  https://news.naver.com/main/read.nhn?mode=LSD&...   \n",
       "14  https://news.naver.com/main/read.nhn?mode=LSD&...   \n",
       "15  https://news.naver.com/main/read.nhn?mode=LSD&...   \n",
       "16  https://news.naver.com/main/read.nhn?mode=LSD&...   \n",
       "17  https://news.naver.com/main/read.nhn?mode=LSD&...   \n",
       "18  https://news.naver.com/main/read.nhn?mode=LSD&...   \n",
       "19  https://news.naver.com/main/read.nhn?mode=LSD&...   \n",
       "\n",
       "                                              content  category  \n",
       "0    오류를 우회하기 위한 함수 추가 윤석열,이재명,이낙연[헤럴드경제] 차기 대선후보 ...       100  \n",
       "1    오류를 우회하기 위한 함수 추가 /유튜브유시민 노무현재단 이사장은 이른바 ’86 ...       100  \n",
       "2    오류를 우회하기 위한 함수 추가 조원씨앤아이, 시사저널 의뢰 조사차기 대선후보 적...       100  \n",
       "3    오류를 우회하기 위한 함수 추가 \"선거 전부터 쪽방촌 골목 돌며어르신들 주거 환경...       100  \n",
       "4    오류를 우회하기 위한 함수 추가 유시민 노무현재단 이사장이 남북통일과 관련해, \"...       100  \n",
       "5    오류를 우회하기 위한 함수 추가  변창흠 국토교통부 장관이 5일 국회 본회의에서 ...       100  \n",
       "6    오류를 우회하기 위한 함수 추가 페이스북에 故노무현 전 대통령 묘소 방문 사진 올...       100  \n",
       "7    오류를 우회하기 위한 함수 추가 봉하 찾은 추미애 전 장관 - 추미애 전 법무부 ...       100  \n",
       "8    오류를 우회하기 위한 함수 추가 [연합뉴스TV 제공](서울=연합뉴스) 강민경 기자...       100  \n",
       "9    오류를 우회하기 위한 함수 추가 野의원들 대법원 항의 방문하자 출입문 봉쇄하고 버...       100  \n",
       "10   오류를 우회하기 위한 함수 추가 \"사장실 직속 고위간부 연 500만원씩 2년 연속...       100  \n",
       "11   오류를 우회하기 위한 함수 추가     (서울=연합뉴스) 추미애 전 법무부 장관이...       100  \n",
       "12   오류를 우회하기 위한 함수 추가     (서울=연합뉴스) 추미애 전 법무부 장관이...       100  \n",
       "13   오류를 우회하기 위한 함수 추가 더불어민주당 권인숙 의원. 연합뉴스국민의힘 나경원...       100  \n",
       "14   오류를 우회하기 위한 함수 추가 미국 신행정부 출범에 맞춰 미측과 협의 거쳐 사퇴...       100  \n",
       "15   오류를 우회하기 위한 함수 추가 유시민 노무현재단 이사장 ‘알릴레오 시즌3’. 노...       100  \n",
       "16   오류를 우회하기 위한 함수 추가 [한국경제TV 조시형 기자]국민의힘 나경원 서울시...       100  \n",
       "17   오류를 우회하기 위한 함수 추가 안철수 국민의당 대표/연합뉴스[서울경제] 안철수 ...       100  \n",
       "18   오류를 우회하기 위한 함수 추가 조국 전 법무부 장관/연합뉴스[서울경제] 지난해 ...       100  \n",
       "19   오류를 우회하기 위한 함수 추가 (서울=연합뉴스) 류미나 기자 = 황희 문화체육관...       100  "
      ]
     },
     "execution_count": 13,
     "metadata": {},
     "output_type": "execute_result"
    }
   ],
   "source": [
    "get_article(100, 20210205, 1)"
   ]
  },
  {
   "cell_type": "code",
   "execution_count": 6,
   "metadata": {
    "ExecuteTime": {
     "end_time": "2021-02-05T12:38:25.135107Z",
     "start_time": "2021-02-05T12:38:25.122144Z"
    }
   },
   "outputs": [],
   "source": [
    "date = 20210204"
   ]
  },
  {
   "cell_type": "code",
   "execution_count": 9,
   "metadata": {
    "ExecuteTime": {
     "end_time": "2021-02-05T12:55:26.774366Z",
     "start_time": "2021-02-05T12:38:33.730233Z"
    },
    "scrolled": true
   },
   "outputs": [
    {
     "name": "stdout",
     "output_type": "stream",
     "text": [
      "정치 1 2 3 4 5 경제 1 2 3 4 5 사회 1 2 3 4 5 생활/문화 1 2 3 4 5 세계 1 2 3 4 5 IT/과학 1 2 3 4 5 "
     ]
    },
    {
     "data": {
      "text/html": [
       "<div>\n",
       "<style scoped>\n",
       "    .dataframe tbody tr th:only-of-type {\n",
       "        vertical-align: middle;\n",
       "    }\n",
       "\n",
       "    .dataframe tbody tr th {\n",
       "        vertical-align: top;\n",
       "    }\n",
       "\n",
       "    .dataframe thead th {\n",
       "        text-align: right;\n",
       "    }\n",
       "</style>\n",
       "<table border=\"1\" class=\"dataframe\">\n",
       "  <thead>\n",
       "    <tr style=\"text-align: right;\">\n",
       "      <th></th>\n",
       "      <th>title</th>\n",
       "      <th>link</th>\n",
       "      <th>content</th>\n",
       "      <th>category</th>\n",
       "    </tr>\n",
       "  </thead>\n",
       "  <tbody>\n",
       "    <tr>\n",
       "      <th>595</th>\n",
       "      <td>페북, 코로나19·백신 관련 허위정보 1천만개 넘게 지웠다</td>\n",
       "      <td>https://news.naver.com/main/read.nhn?mode=LSD&amp;...</td>\n",
       "      <td>오류를 우회하기 위한 함수 추가 삭제·감소·알림 전략 통해 유해콘텐츠 문제 해결(...</td>\n",
       "      <td>105</td>\n",
       "    </tr>\n",
       "    <tr>\n",
       "      <th>596</th>\n",
       "      <td>델타·아메리칸항공도 적자인데...대한항공, 코로나 뚫고 '흑자'</td>\n",
       "      <td>https://news.naver.com/main/read.nhn?mode=LSD&amp;...</td>\n",
       "      <td>오류를 우회하기 위한 함수 추가  대한항공이 코로나 19에 따른 항공업 고사 위기...</td>\n",
       "      <td>105</td>\n",
       "    </tr>\n",
       "    <tr>\n",
       "      <th>597</th>\n",
       "      <td>CJ ENM, 작년 영업익 2721억원…4Q TV 광고 회복</td>\n",
       "      <td>https://news.naver.com/main/read.nhn?mode=LSD&amp;...</td>\n",
       "      <td>오류를 우회하기 위한 함수 추가 코로나 여파 커머스 영화 부문 실적 주춤(지디넷코...</td>\n",
       "      <td>105</td>\n",
       "    </tr>\n",
       "    <tr>\n",
       "      <th>598</th>\n",
       "      <td>하이퍼커넥트, 지난해 韓 앱 배급사 중 매출 6위</td>\n",
       "      <td>https://news.naver.com/main/read.nhn?mode=LSD&amp;...</td>\n",
       "      <td>오류를 우회하기 위한 함수 추가 앱애니 '2021 상위 퍼블리셔 어워드'에 2개 ...</td>\n",
       "      <td>105</td>\n",
       "    </tr>\n",
       "    <tr>\n",
       "      <th>599</th>\n",
       "      <td>新 폴더블폰 내놓는 화웨이…고가 스마트폰 '매각설' 잠재울까</td>\n",
       "      <td>https://news.naver.com/main/read.nhn?mode=LSD&amp;...</td>\n",
       "      <td>오류를 우회하기 위한 함수 추가 첫 인폴딩 방식 적용한 '메이트 X2' 22일 발...</td>\n",
       "      <td>105</td>\n",
       "    </tr>\n",
       "  </tbody>\n",
       "</table>\n",
       "</div>"
      ],
      "text/plain": [
       "                                   title  \\\n",
       "595     페북, 코로나19·백신 관련 허위정보 1천만개 넘게 지웠다   \n",
       "596  델타·아메리칸항공도 적자인데...대한항공, 코로나 뚫고 '흑자'   \n",
       "597    CJ ENM, 작년 영업익 2721억원…4Q TV 광고 회복   \n",
       "598          하이퍼커넥트, 지난해 韓 앱 배급사 중 매출 6위   \n",
       "599    新 폴더블폰 내놓는 화웨이…고가 스마트폰 '매각설' 잠재울까   \n",
       "\n",
       "                                                  link  \\\n",
       "595  https://news.naver.com/main/read.nhn?mode=LSD&...   \n",
       "596  https://news.naver.com/main/read.nhn?mode=LSD&...   \n",
       "597  https://news.naver.com/main/read.nhn?mode=LSD&...   \n",
       "598  https://news.naver.com/main/read.nhn?mode=LSD&...   \n",
       "599  https://news.naver.com/main/read.nhn?mode=LSD&...   \n",
       "\n",
       "                                               content  category  \n",
       "595   오류를 우회하기 위한 함수 추가 삭제·감소·알림 전략 통해 유해콘텐츠 문제 해결(...       105  \n",
       "596   오류를 우회하기 위한 함수 추가  대한항공이 코로나 19에 따른 항공업 고사 위기...       105  \n",
       "597   오류를 우회하기 위한 함수 추가 코로나 여파 커머스 영화 부문 실적 주춤(지디넷코...       105  \n",
       "598   오류를 우회하기 위한 함수 추가 앱애니 '2021 상위 퍼블리셔 어워드'에 2개 ...       105  \n",
       "599   오류를 우회하기 위한 함수 추가 첫 인폴딩 방식 적용한 '메이트 X2' 22일 발...       105  "
      ]
     },
     "execution_count": 9,
     "metadata": {},
     "output_type": "execute_result"
    }
   ],
   "source": [
    "dfs = []\n",
    "for category in categories:\n",
    "    print(categories[category],end=' ')\n",
    "    for page in range(1, 6):\n",
    "        print(page, end=' ')\n",
    "        df = get_article(category, date, page)\n",
    "        dfs.append(df)\n",
    "        \n",
    "articles_df = pd.concat(dfs, ignore_index=True)\n",
    "articles_df.tail()"
   ]
  },
  {
   "cell_type": "code",
   "execution_count": 11,
   "metadata": {
    "ExecuteTime": {
     "end_time": "2021-02-05T12:56:13.107616Z",
     "start_time": "2021-02-05T12:56:13.069693Z"
    }
   },
   "outputs": [],
   "source": [
    "articles_df.to_csv('articles_df.csv')"
   ]
  },
  {
   "cell_type": "code",
   "execution_count": 24,
   "metadata": {
    "ExecuteTime": {
     "end_time": "2021-03-03T15:32:19.105813Z",
     "start_time": "2021-03-03T15:32:19.062787Z"
    }
   },
   "outputs": [],
   "source": [
    "articles_df = pd.read_csv('articles_df.csv')"
   ]
  },
  {
   "cell_type": "code",
   "execution_count": 22,
   "metadata": {
    "ExecuteTime": {
     "end_time": "2021-03-03T15:32:08.881219Z",
     "start_time": "2021-03-03T15:32:08.869254Z"
    }
   },
   "outputs": [],
   "source": [
    "articles_df['content'] = articles_df['content'].str.replace('오류를 우회하기 위한 함수 추가', '')"
   ]
  },
  {
   "cell_type": "code",
   "execution_count": 17,
   "metadata": {
    "ExecuteTime": {
     "end_time": "2021-02-05T12:58:29.274948Z",
     "start_time": "2021-02-05T12:58:29.234090Z"
    }
   },
   "outputs": [],
   "source": [
    "articles_df.to_csv('articles_df.csv')"
   ]
  },
  {
   "cell_type": "code",
   "execution_count": 25,
   "metadata": {
    "ExecuteTime": {
     "end_time": "2021-03-03T15:32:20.202405Z",
     "start_time": "2021-03-03T15:32:20.158488Z"
    }
   },
   "outputs": [
    {
     "data": {
      "text/html": [
       "<div>\n",
       "<style scoped>\n",
       "    .dataframe tbody tr th:only-of-type {\n",
       "        vertical-align: middle;\n",
       "    }\n",
       "\n",
       "    .dataframe tbody tr th {\n",
       "        vertical-align: top;\n",
       "    }\n",
       "\n",
       "    .dataframe thead th {\n",
       "        text-align: right;\n",
       "    }\n",
       "</style>\n",
       "<table border=\"1\" class=\"dataframe\">\n",
       "  <thead>\n",
       "    <tr style=\"text-align: right;\">\n",
       "      <th></th>\n",
       "      <th>Unnamed: 0</th>\n",
       "      <th>Unnamed: 0.1</th>\n",
       "      <th>title</th>\n",
       "      <th>link</th>\n",
       "      <th>content</th>\n",
       "      <th>category</th>\n",
       "    </tr>\n",
       "  </thead>\n",
       "  <tbody>\n",
       "    <tr>\n",
       "      <th>0</th>\n",
       "      <td>0</td>\n",
       "      <td>0</td>\n",
       "      <td>‘재판 독립 침해’ 판사 탄핵 소추안 첫 가결</td>\n",
       "      <td>https://news.naver.com/main/read.nhn?mode=LSD&amp;...</td>\n",
       "      <td>‘재판 독립 침해’ 판사 탄핵 소추안 첫 가결김지숙 (vox@kbs.co.kr)...</td>\n",
       "      <td>100</td>\n",
       "    </tr>\n",
       "    <tr>\n",
       "      <th>1</th>\n",
       "      <td>1</td>\n",
       "      <td>1</td>\n",
       "      <td>변창흠, 뉴스데스크 출연…\"도심에 신속 주택 공급해 국민 불안 해소할 것\"</td>\n",
       "      <td>https://news.naver.com/main/read.nhn?mode=LSD&amp;...</td>\n",
       "      <td>변창흠 국토교통부 장관은 \"공공이 주도하는 개발사업을 통해 도심에 신속히 주택을...</td>\n",
       "      <td>100</td>\n",
       "    </tr>\n",
       "    <tr>\n",
       "      <th>2</th>\n",
       "      <td>2</td>\n",
       "      <td>2</td>\n",
       "      <td>文 “한반도 비핵화·항구적 평화 공동 노력”…바이든 “양국 70여 년간 계속 진전”</td>\n",
       "      <td>https://news.naver.com/main/read.nhn?mode=LSD&amp;...</td>\n",
       "      <td>文대통령, 32분 동안 바이든과 첫 한미정상 통화 / 양 정상 “조속히 포괄적 ...</td>\n",
       "      <td>100</td>\n",
       "    </tr>\n",
       "    <tr>\n",
       "      <th>3</th>\n",
       "      <td>3</td>\n",
       "      <td>3</td>\n",
       "      <td>25번째 대책 발표날… 이재명 “공직자가 다주택자면 정책 신뢰도 떨어져”</td>\n",
       "      <td>https://news.naver.com/main/read.nhn?mode=LSD&amp;...</td>\n",
       "      <td>이재명 경기도지사. 경기사진공동취재단    정부가 25번째 부동산 정책...</td>\n",
       "      <td>100</td>\n",
       "    </tr>\n",
       "    <tr>\n",
       "      <th>4</th>\n",
       "      <td>4</td>\n",
       "      <td>4</td>\n",
       "      <td>[종합] \"부산 약화시킬 것\" vs \"친일 관계 없어\"…'한일 해저터널' 與野 설전</td>\n",
       "      <td>https://news.naver.com/main/read.nhn?mode=LSD&amp;...</td>\n",
       "      <td>野 부산 '한일 해저터널' 두고 공방與 \"일본 대륙진출 야심에 이용될 것\" 맹공...</td>\n",
       "      <td>100</td>\n",
       "    </tr>\n",
       "    <tr>\n",
       "      <th>...</th>\n",
       "      <td>...</td>\n",
       "      <td>...</td>\n",
       "      <td>...</td>\n",
       "      <td>...</td>\n",
       "      <td>...</td>\n",
       "      <td>...</td>\n",
       "    </tr>\n",
       "    <tr>\n",
       "      <th>595</th>\n",
       "      <td>595</td>\n",
       "      <td>595</td>\n",
       "      <td>페북, 코로나19·백신 관련 허위정보 1천만개 넘게 지웠다</td>\n",
       "      <td>https://news.naver.com/main/read.nhn?mode=LSD&amp;...</td>\n",
       "      <td>삭제·감소·알림 전략 통해 유해콘텐츠 문제 해결(지디넷코리아=안희정  기자)최근...</td>\n",
       "      <td>105</td>\n",
       "    </tr>\n",
       "    <tr>\n",
       "      <th>596</th>\n",
       "      <td>596</td>\n",
       "      <td>596</td>\n",
       "      <td>델타·아메리칸항공도 적자인데...대한항공, 코로나 뚫고 '흑자'</td>\n",
       "      <td>https://news.naver.com/main/read.nhn?mode=LSD&amp;...</td>\n",
       "      <td>대한항공이 코로나 19에 따른 항공업 고사 위기 속에서도 화물 운송 부문의 선...</td>\n",
       "      <td>105</td>\n",
       "    </tr>\n",
       "    <tr>\n",
       "      <th>597</th>\n",
       "      <td>597</td>\n",
       "      <td>597</td>\n",
       "      <td>CJ ENM, 작년 영업익 2721억원…4Q TV 광고 회복</td>\n",
       "      <td>https://news.naver.com/main/read.nhn?mode=LSD&amp;...</td>\n",
       "      <td>코로나 여파 커머스 영화 부문 실적 주춤(지디넷코리아=박수형  기자)CJ ENM...</td>\n",
       "      <td>105</td>\n",
       "    </tr>\n",
       "    <tr>\n",
       "      <th>598</th>\n",
       "      <td>598</td>\n",
       "      <td>598</td>\n",
       "      <td>하이퍼커넥트, 지난해 韓 앱 배급사 중 매출 6위</td>\n",
       "      <td>https://news.naver.com/main/read.nhn?mode=LSD&amp;...</td>\n",
       "      <td>앱애니 '2021 상위 퍼블리셔 어워드'에 2개 부문 톱10 올라[아이뉴스24 ...</td>\n",
       "      <td>105</td>\n",
       "    </tr>\n",
       "    <tr>\n",
       "      <th>599</th>\n",
       "      <td>599</td>\n",
       "      <td>599</td>\n",
       "      <td>新 폴더블폰 내놓는 화웨이…고가 스마트폰 '매각설' 잠재울까</td>\n",
       "      <td>https://news.naver.com/main/read.nhn?mode=LSD&amp;...</td>\n",
       "      <td>첫 인폴딩 방식 적용한 '메이트 X2' 22일 발표…업계, 몸값 띄우기용 관측도...</td>\n",
       "      <td>105</td>\n",
       "    </tr>\n",
       "  </tbody>\n",
       "</table>\n",
       "<p>600 rows × 6 columns</p>\n",
       "</div>"
      ],
      "text/plain": [
       "     Unnamed: 0  Unnamed: 0.1                                           title  \\\n",
       "0             0             0                       ‘재판 독립 침해’ 판사 탄핵 소추안 첫 가결   \n",
       "1             1             1       변창흠, 뉴스데스크 출연…\"도심에 신속 주택 공급해 국민 불안 해소할 것\"   \n",
       "2             2             2  文 “한반도 비핵화·항구적 평화 공동 노력”…바이든 “양국 70여 년간 계속 진전”   \n",
       "3             3             3        25번째 대책 발표날… 이재명 “공직자가 다주택자면 정책 신뢰도 떨어져”   \n",
       "4             4             4  [종합] \"부산 약화시킬 것\" vs \"친일 관계 없어\"…'한일 해저터널' 與野 설전   \n",
       "..          ...           ...                                             ...   \n",
       "595         595           595                페북, 코로나19·백신 관련 허위정보 1천만개 넘게 지웠다   \n",
       "596         596           596             델타·아메리칸항공도 적자인데...대한항공, 코로나 뚫고 '흑자'   \n",
       "597         597           597               CJ ENM, 작년 영업익 2721억원…4Q TV 광고 회복   \n",
       "598         598           598                     하이퍼커넥트, 지난해 韓 앱 배급사 중 매출 6위   \n",
       "599         599           599               新 폴더블폰 내놓는 화웨이…고가 스마트폰 '매각설' 잠재울까   \n",
       "\n",
       "                                                  link  \\\n",
       "0    https://news.naver.com/main/read.nhn?mode=LSD&...   \n",
       "1    https://news.naver.com/main/read.nhn?mode=LSD&...   \n",
       "2    https://news.naver.com/main/read.nhn?mode=LSD&...   \n",
       "3    https://news.naver.com/main/read.nhn?mode=LSD&...   \n",
       "4    https://news.naver.com/main/read.nhn?mode=LSD&...   \n",
       "..                                                 ...   \n",
       "595  https://news.naver.com/main/read.nhn?mode=LSD&...   \n",
       "596  https://news.naver.com/main/read.nhn?mode=LSD&...   \n",
       "597  https://news.naver.com/main/read.nhn?mode=LSD&...   \n",
       "598  https://news.naver.com/main/read.nhn?mode=LSD&...   \n",
       "599  https://news.naver.com/main/read.nhn?mode=LSD&...   \n",
       "\n",
       "                                               content  category  \n",
       "0      ‘재판 독립 침해’ 판사 탄핵 소추안 첫 가결김지숙 (vox@kbs.co.kr)...       100  \n",
       "1      변창흠 국토교통부 장관은 \"공공이 주도하는 개발사업을 통해 도심에 신속히 주택을...       100  \n",
       "2      文대통령, 32분 동안 바이든과 첫 한미정상 통화 / 양 정상 “조속히 포괄적 ...       100  \n",
       "3           이재명 경기도지사. 경기사진공동취재단    정부가 25번째 부동산 정책...       100  \n",
       "4      野 부산 '한일 해저터널' 두고 공방與 \"일본 대륙진출 야심에 이용될 것\" 맹공...       100  \n",
       "..                                                 ...       ...  \n",
       "595    삭제·감소·알림 전략 통해 유해콘텐츠 문제 해결(지디넷코리아=안희정  기자)최근...       105  \n",
       "596     대한항공이 코로나 19에 따른 항공업 고사 위기 속에서도 화물 운송 부문의 선...       105  \n",
       "597    코로나 여파 커머스 영화 부문 실적 주춤(지디넷코리아=박수형  기자)CJ ENM...       105  \n",
       "598    앱애니 '2021 상위 퍼블리셔 어워드'에 2개 부문 톱10 올라[아이뉴스24 ...       105  \n",
       "599    첫 인폴딩 방식 적용한 '메이트 X2' 22일 발표…업계, 몸값 띄우기용 관측도...       105  \n",
       "\n",
       "[600 rows x 6 columns]"
      ]
     },
     "execution_count": 25,
     "metadata": {},
     "output_type": "execute_result"
    }
   ],
   "source": [
    "pd.read_csv('articles_df.csv')"
   ]
  },
  {
   "cell_type": "markdown",
   "metadata": {},
   "source": [
    "- selenium으로 하는 방식"
   ]
  },
  {
   "cell_type": "code",
   "execution_count": null,
   "metadata": {
    "ExecuteTime": {
     "end_time": "2021-02-05T08:05:50.920297Z",
     "start_time": "2021-02-05T08:05:50.428858Z"
    }
   },
   "outputs": [],
   "source": [
    "driver.get(link)"
   ]
  },
  {
   "cell_type": "code",
   "execution_count": null,
   "metadata": {
    "ExecuteTime": {
     "end_time": "2021-02-05T08:07:48.895890Z",
     "start_time": "2021-02-05T08:07:48.855254Z"
    }
   },
   "outputs": [],
   "source": [
    "content = driver.find_element_by_css_selector('#articleBodyContents').text.replace('\\n', '')\n",
    "content"
   ]
  },
  {
   "cell_type": "code",
   "execution_count": null,
   "metadata": {
    "ExecuteTime": {
     "end_time": "2021-02-05T11:30:39.274676Z",
     "start_time": "2021-02-05T11:30:39.260714Z"
    },
    "code_folding": []
   },
   "outputs": [],
   "source": [
    "def get_article(category, date, page):\n",
    "    url = 'http://news.naver.com/main/list.nhn?mode=LSD&mid=sec&sid1={}&date={}&page={}'.format(category, date, page)\n",
    "    driver = webdriver.Chrome()\n",
    "    driver.get(url)\n",
    "    articles = driver.find_elements_by_css_selector(\".list_body > ul > li\")\n",
    "    datas = []\n",
    "    for article in articles:\n",
    "        title = article.find_element_by_css_selector('dt:not(.photo) > a').text\n",
    "        link = article.find_element_by_css_selector('dt:not(.photo) > a').get_attribute('href')\n",
    "        driver = webdriver.Chrome()\n",
    "        driver.get(link)\n",
    "        content = driver.find_element_by_css_selector('#articleBodyContents').text.replace('\\n', '').replace('\\\\','')\n",
    "        driver.quit()\n",
    "        datas.append({\n",
    "            'title':title,\n",
    "            'link':link,\n",
    "            'content':content,\n",
    "            'category':category,\n",
    "        })\n",
    "    driver.implicitly_wait(3)\n",
    "    driver.quit()\n",
    "    return pd.DataFrame(datas)"
   ]
  },
  {
   "cell_type": "code",
   "execution_count": null,
   "metadata": {
    "ExecuteTime": {
     "end_time": "2021-02-05T10:39:39.804402Z",
     "start_time": "2021-02-05T10:39:34.314720Z"
    }
   },
   "outputs": [],
   "source": [
    "get_article(100, 20210205,1)"
   ]
  },
  {
   "cell_type": "code",
   "execution_count": null,
   "metadata": {
    "ExecuteTime": {
     "end_time": "2021-02-05T11:30:41.399148Z",
     "start_time": "2021-02-05T11:30:41.388148Z"
    }
   },
   "outputs": [],
   "source": [
    "date =20210205"
   ]
  },
  {
   "cell_type": "code",
   "execution_count": null,
   "metadata": {
    "ExecuteTime": {
     "end_time": "2021-02-05T11:32:51.347159Z",
     "start_time": "2021-02-05T11:30:41.642984Z"
    }
   },
   "outputs": [],
   "source": [
    "dfs = []\n",
    "for category in categories:\n",
    "    print(categories[category], end = \" \")\n",
    "    for page in range(1, 6):\n",
    "        print(page, end=\" \")\n",
    "        df = get_article(category, date, page)\n",
    "        dfs.append(df)\n",
    "articles_df = pd.concat(dfs, ignore_index=True)  # index reset해주는 거임\n",
    "articles_df.tail()"
   ]
  },
  {
   "cell_type": "markdown",
   "metadata": {},
   "source": [
    "# Multinomail NB"
   ]
  },
  {
   "cell_type": "code",
   "execution_count": 28,
   "metadata": {
    "ExecuteTime": {
     "end_time": "2021-03-03T15:35:40.289592Z",
     "start_time": "2021-03-03T15:35:40.204685Z"
    }
   },
   "outputs": [],
   "source": [
    "import pickle\n",
    "from sklearn.feature_extraction.text import TfidfVectorizer\n",
    "from sklearn.model_selection import train_test_split\n",
    "from sklearn.naive_bayes import MultinomialNB\n",
    "from sklearn.pipeline import Pipeline\n",
    "from sklearn.metrics import classification_report"
   ]
  },
  {
   "cell_type": "code",
   "execution_count": 34,
   "metadata": {
    "ExecuteTime": {
     "end_time": "2021-03-03T15:39:24.850738Z",
     "start_time": "2021-03-03T15:39:24.799561Z"
    }
   },
   "outputs": [
    {
     "data": {
      "text/html": [
       "<div>\n",
       "<style scoped>\n",
       "    .dataframe tbody tr th:only-of-type {\n",
       "        vertical-align: middle;\n",
       "    }\n",
       "\n",
       "    .dataframe tbody tr th {\n",
       "        vertical-align: top;\n",
       "    }\n",
       "\n",
       "    .dataframe thead th {\n",
       "        text-align: right;\n",
       "    }\n",
       "</style>\n",
       "<table border=\"1\" class=\"dataframe\">\n",
       "  <thead>\n",
       "    <tr style=\"text-align: right;\">\n",
       "      <th></th>\n",
       "      <th>category</th>\n",
       "      <th>title</th>\n",
       "      <th>link</th>\n",
       "      <th>content</th>\n",
       "    </tr>\n",
       "  </thead>\n",
       "  <tbody>\n",
       "    <tr>\n",
       "      <th>595</th>\n",
       "      <td>105</td>\n",
       "      <td>페북, 코로나19·백신 관련 허위정보 1천만개 넘게 지웠다</td>\n",
       "      <td>https://news.naver.com/main/read.nhn?mode=LSD&amp;...</td>\n",
       "      <td>삭제·감소·알림 전략 통해 유해콘텐츠 문제 해결(지디넷코리아=안희정  기자)최근...</td>\n",
       "    </tr>\n",
       "    <tr>\n",
       "      <th>596</th>\n",
       "      <td>105</td>\n",
       "      <td>델타·아메리칸항공도 적자인데...대한항공, 코로나 뚫고 '흑자'</td>\n",
       "      <td>https://news.naver.com/main/read.nhn?mode=LSD&amp;...</td>\n",
       "      <td>대한항공이 코로나 19에 따른 항공업 고사 위기 속에서도 화물 운송 부문의 선...</td>\n",
       "    </tr>\n",
       "    <tr>\n",
       "      <th>597</th>\n",
       "      <td>105</td>\n",
       "      <td>CJ ENM, 작년 영업익 2721억원…4Q TV 광고 회복</td>\n",
       "      <td>https://news.naver.com/main/read.nhn?mode=LSD&amp;...</td>\n",
       "      <td>코로나 여파 커머스 영화 부문 실적 주춤(지디넷코리아=박수형  기자)CJ ENM...</td>\n",
       "    </tr>\n",
       "    <tr>\n",
       "      <th>598</th>\n",
       "      <td>105</td>\n",
       "      <td>하이퍼커넥트, 지난해 韓 앱 배급사 중 매출 6위</td>\n",
       "      <td>https://news.naver.com/main/read.nhn?mode=LSD&amp;...</td>\n",
       "      <td>앱애니 '2021 상위 퍼블리셔 어워드'에 2개 부문 톱10 올라[아이뉴스24 ...</td>\n",
       "    </tr>\n",
       "    <tr>\n",
       "      <th>599</th>\n",
       "      <td>105</td>\n",
       "      <td>新 폴더블폰 내놓는 화웨이…고가 스마트폰 '매각설' 잠재울까</td>\n",
       "      <td>https://news.naver.com/main/read.nhn?mode=LSD&amp;...</td>\n",
       "      <td>첫 인폴딩 방식 적용한 '메이트 X2' 22일 발표…업계, 몸값 띄우기용 관측도...</td>\n",
       "    </tr>\n",
       "  </tbody>\n",
       "</table>\n",
       "</div>"
      ],
      "text/plain": [
       "     category                                title  \\\n",
       "595       105     페북, 코로나19·백신 관련 허위정보 1천만개 넘게 지웠다   \n",
       "596       105  델타·아메리칸항공도 적자인데...대한항공, 코로나 뚫고 '흑자'   \n",
       "597       105    CJ ENM, 작년 영업익 2721억원…4Q TV 광고 회복   \n",
       "598       105          하이퍼커넥트, 지난해 韓 앱 배급사 중 매출 6위   \n",
       "599       105    新 폴더블폰 내놓는 화웨이…고가 스마트폰 '매각설' 잠재울까   \n",
       "\n",
       "                                                  link  \\\n",
       "595  https://news.naver.com/main/read.nhn?mode=LSD&...   \n",
       "596  https://news.naver.com/main/read.nhn?mode=LSD&...   \n",
       "597  https://news.naver.com/main/read.nhn?mode=LSD&...   \n",
       "598  https://news.naver.com/main/read.nhn?mode=LSD&...   \n",
       "599  https://news.naver.com/main/read.nhn?mode=LSD&...   \n",
       "\n",
       "                                               content  \n",
       "595    삭제·감소·알림 전략 통해 유해콘텐츠 문제 해결(지디넷코리아=안희정  기자)최근...  \n",
       "596     대한항공이 코로나 19에 따른 항공업 고사 위기 속에서도 화물 운송 부문의 선...  \n",
       "597    코로나 여파 커머스 영화 부문 실적 주춤(지디넷코리아=박수형  기자)CJ ENM...  \n",
       "598    앱애니 '2021 상위 퍼블리셔 어워드'에 2개 부문 톱10 올라[아이뉴스24 ...  \n",
       "599    첫 인폴딩 방식 적용한 '메이트 X2' 22일 발표…업계, 몸값 띄우기용 관측도...  "
      ]
     },
     "execution_count": 34,
     "metadata": {},
     "output_type": "execute_result"
    }
   ],
   "source": [
    "article_df = pd.read_csv('./articles_df.csv', usecols = ['title','link','content','category'])\n",
    "article_df = articles_df[['category','title','link','content']]\n",
    "article_df.tail()"
   ]
  },
  {
   "cell_type": "markdown",
   "metadata": {},
   "source": [
    "## 데이터 전처리 : 데이터 셋 분리"
   ]
  },
  {
   "cell_type": "code",
   "execution_count": 35,
   "metadata": {
    "ExecuteTime": {
     "end_time": "2021-03-03T15:41:06.081788Z",
     "start_time": "2021-03-03T15:41:06.059840Z"
    }
   },
   "outputs": [],
   "source": [
    "X_train, X_test, y_train, y_test = train_test_split(article_df.content, article_df.category, test_size= 0.1, random_state=1)"
   ]
  },
  {
   "cell_type": "markdown",
   "metadata": {},
   "source": [
    "## 모델 만들기"
   ]
  },
  {
   "cell_type": "code",
   "execution_count": 55,
   "metadata": {
    "ExecuteTime": {
     "end_time": "2021-03-03T15:48:04.948980Z",
     "start_time": "2021-03-03T15:48:04.944987Z"
    }
   },
   "outputs": [],
   "source": [
    "clf = Pipeline([\n",
    "    ('vect', TfidfVectorizer()),\n",
    "    ('clf',MultinomialNB(alpha=0.1)), #Additive (Laplace/Lidstone) smoothing parameter\n",
    "])"
   ]
  },
  {
   "cell_type": "markdown",
   "metadata": {},
   "source": [
    "## 학습"
   ]
  },
  {
   "cell_type": "code",
   "execution_count": 56,
   "metadata": {
    "ExecuteTime": {
     "end_time": "2021-03-03T15:48:05.514609Z",
     "start_time": "2021-03-03T15:48:05.286910Z"
    }
   },
   "outputs": [],
   "source": [
    "model = clf.fit(X_train, y_train)"
   ]
  },
  {
   "cell_type": "markdown",
   "metadata": {},
   "source": [
    "## 성능 평가"
   ]
  },
  {
   "cell_type": "code",
   "execution_count": 57,
   "metadata": {
    "ExecuteTime": {
     "end_time": "2021-03-03T15:48:05.668486Z",
     "start_time": "2021-03-03T15:48:05.638565Z"
    }
   },
   "outputs": [],
   "source": [
    "y_pred = model.predict(X_test)"
   ]
  },
  {
   "cell_type": "code",
   "execution_count": 58,
   "metadata": {
    "ExecuteTime": {
     "end_time": "2021-03-03T15:48:05.839545Z",
     "start_time": "2021-03-03T15:48:05.824585Z"
    }
   },
   "outputs": [
    {
     "data": {
      "text/plain": [
       "(446    104\n",
       " 404    104\n",
       " 509    105\n",
       " 455    104\n",
       " 201    102\n",
       " Name: category, dtype: int64,\n",
       " array([104, 104, 105, 104, 102], dtype=int64))"
      ]
     },
     "execution_count": 58,
     "metadata": {},
     "output_type": "execute_result"
    }
   ],
   "source": [
    "y_test[:5], y_pred[:5]"
   ]
  },
  {
   "cell_type": "code",
   "execution_count": 59,
   "metadata": {
    "ExecuteTime": {
     "end_time": "2021-03-03T15:48:06.017825Z",
     "start_time": "2021-03-03T15:48:05.985435Z"
    }
   },
   "outputs": [
    {
     "name": "stdout",
     "output_type": "stream",
     "text": [
      "              precision    recall  f1-score   support\n",
      "\n",
      "         100       0.89      0.80      0.84        10\n",
      "         101       0.67      0.75      0.71         8\n",
      "         102       0.62      0.50      0.56        10\n",
      "         103       0.50      0.43      0.46         7\n",
      "         104       0.94      0.94      0.94        16\n",
      "         105       0.67      0.89      0.76         9\n",
      "\n",
      "    accuracy                           0.75        60\n",
      "   macro avg       0.71      0.72      0.71        60\n",
      "weighted avg       0.75      0.75      0.75        60\n",
      "\n"
     ]
    }
   ],
   "source": [
    "print(classification_report(y_test, y_pred))"
   ]
  },
  {
   "cell_type": "markdown",
   "metadata": {},
   "source": [
    "## 모델 사용"
   ]
  },
  {
   "cell_type": "code",
   "execution_count": 60,
   "metadata": {
    "ExecuteTime": {
     "end_time": "2021-03-03T15:48:45.577318Z",
     "start_time": "2021-03-03T15:48:45.568314Z"
    }
   },
   "outputs": [],
   "source": [
    "categories ={\n",
    "    100 : '정치',\n",
    "    101 : '경제',\n",
    "    102 : '사회',\n",
    "    103 : '생활/문화',\n",
    "    104 : '세계',\n",
    "    105 : 'IT/과학'\n",
    "}"
   ]
  },
  {
   "cell_type": "code",
   "execution_count": 64,
   "metadata": {
    "ExecuteTime": {
     "end_time": "2021-03-03T15:51:04.453509Z",
     "start_time": "2021-03-03T15:51:04.446531Z"
    }
   },
   "outputs": [],
   "source": [
    "contents = [\n",
    "    '네이버와 카카오는 드론 기술 발전에 주력',\n",
    "    '광화문 대한애국당 집회, 격렬 저항 속 강제 해산',\n",
    "    '최근 환율 주가 예측 어려워, 증권사 골머리',\n",
    "    'FTSE의 공개적인 공매도 금지 비판, 금융당국 골머리'\n",
    "]\n",
    "\n",
    "data = {\n",
    "    'content' : contents,\n",
    "    'category_code' : model.predict(contents)\n",
    "}"
   ]
  },
  {
   "cell_type": "code",
   "execution_count": 65,
   "metadata": {
    "ExecuteTime": {
     "end_time": "2021-03-03T15:51:04.718879Z",
     "start_time": "2021-03-03T15:51:04.695910Z"
    }
   },
   "outputs": [
    {
     "data": {
      "text/html": [
       "<div>\n",
       "<style scoped>\n",
       "    .dataframe tbody tr th:only-of-type {\n",
       "        vertical-align: middle;\n",
       "    }\n",
       "\n",
       "    .dataframe tbody tr th {\n",
       "        vertical-align: top;\n",
       "    }\n",
       "\n",
       "    .dataframe thead th {\n",
       "        text-align: right;\n",
       "    }\n",
       "</style>\n",
       "<table border=\"1\" class=\"dataframe\">\n",
       "  <thead>\n",
       "    <tr style=\"text-align: right;\">\n",
       "      <th></th>\n",
       "      <th>content</th>\n",
       "      <th>category_code</th>\n",
       "    </tr>\n",
       "  </thead>\n",
       "  <tbody>\n",
       "    <tr>\n",
       "      <th>0</th>\n",
       "      <td>네이버와 카카오는 드론 기술 발전에 주력</td>\n",
       "      <td>105</td>\n",
       "    </tr>\n",
       "    <tr>\n",
       "      <th>1</th>\n",
       "      <td>광화문 대한애국당 집회, 격렬 저항 속 강제 해산</td>\n",
       "      <td>100</td>\n",
       "    </tr>\n",
       "    <tr>\n",
       "      <th>2</th>\n",
       "      <td>최근 환율 주가 예측 어려워, 증권사 골머리</td>\n",
       "      <td>101</td>\n",
       "    </tr>\n",
       "    <tr>\n",
       "      <th>3</th>\n",
       "      <td>FTSE의 공개적인 공매도 금지 비판, 금융당국 골머리</td>\n",
       "      <td>101</td>\n",
       "    </tr>\n",
       "  </tbody>\n",
       "</table>\n",
       "</div>"
      ],
      "text/plain": [
       "                          content  category_code\n",
       "0          네이버와 카카오는 드론 기술 발전에 주력            105\n",
       "1     광화문 대한애국당 집회, 격렬 저항 속 강제 해산            100\n",
       "2        최근 환율 주가 예측 어려워, 증권사 골머리            101\n",
       "3  FTSE의 공개적인 공매도 금지 비판, 금융당국 골머리            101"
      ]
     },
     "execution_count": 65,
     "metadata": {},
     "output_type": "execute_result"
    }
   ],
   "source": [
    "df = pd.DataFrame(data)\n",
    "df"
   ]
  },
  {
   "cell_type": "code",
   "execution_count": 66,
   "metadata": {
    "ExecuteTime": {
     "end_time": "2021-03-03T15:51:51.834885Z",
     "start_time": "2021-03-03T15:51:51.810949Z"
    }
   },
   "outputs": [
    {
     "data": {
      "text/html": [
       "<div>\n",
       "<style scoped>\n",
       "    .dataframe tbody tr th:only-of-type {\n",
       "        vertical-align: middle;\n",
       "    }\n",
       "\n",
       "    .dataframe tbody tr th {\n",
       "        vertical-align: top;\n",
       "    }\n",
       "\n",
       "    .dataframe thead th {\n",
       "        text-align: right;\n",
       "    }\n",
       "</style>\n",
       "<table border=\"1\" class=\"dataframe\">\n",
       "  <thead>\n",
       "    <tr style=\"text-align: right;\">\n",
       "      <th></th>\n",
       "      <th>content</th>\n",
       "      <th>category_code</th>\n",
       "      <th>category</th>\n",
       "    </tr>\n",
       "  </thead>\n",
       "  <tbody>\n",
       "    <tr>\n",
       "      <th>0</th>\n",
       "      <td>네이버와 카카오는 드론 기술 발전에 주력</td>\n",
       "      <td>105</td>\n",
       "      <td>IT/과학</td>\n",
       "    </tr>\n",
       "    <tr>\n",
       "      <th>1</th>\n",
       "      <td>광화문 대한애국당 집회, 격렬 저항 속 강제 해산</td>\n",
       "      <td>100</td>\n",
       "      <td>정치</td>\n",
       "    </tr>\n",
       "    <tr>\n",
       "      <th>2</th>\n",
       "      <td>최근 환율 주가 예측 어려워, 증권사 골머리</td>\n",
       "      <td>101</td>\n",
       "      <td>경제</td>\n",
       "    </tr>\n",
       "    <tr>\n",
       "      <th>3</th>\n",
       "      <td>FTSE의 공개적인 공매도 금지 비판, 금융당국 골머리</td>\n",
       "      <td>101</td>\n",
       "      <td>경제</td>\n",
       "    </tr>\n",
       "  </tbody>\n",
       "</table>\n",
       "</div>"
      ],
      "text/plain": [
       "                          content  category_code category\n",
       "0          네이버와 카카오는 드론 기술 발전에 주력            105    IT/과학\n",
       "1     광화문 대한애국당 집회, 격렬 저항 속 강제 해산            100       정치\n",
       "2        최근 환율 주가 예측 어려워, 증권사 골머리            101       경제\n",
       "3  FTSE의 공개적인 공매도 금지 비판, 금융당국 골머리            101       경제"
      ]
     },
     "execution_count": 66,
     "metadata": {},
     "output_type": "execute_result"
    }
   ],
   "source": [
    "df['category'] = df['category_code'].map(lambda data: categories[data])\n",
    "df"
   ]
  },
  {
   "cell_type": "code",
   "execution_count": 68,
   "metadata": {
    "ExecuteTime": {
     "end_time": "2021-03-03T15:52:30.839696Z",
     "start_time": "2021-03-03T15:52:30.803792Z"
    }
   },
   "outputs": [
    {
     "data": {
      "text/html": [
       "<div>\n",
       "<style scoped>\n",
       "    .dataframe tbody tr th:only-of-type {\n",
       "        vertical-align: middle;\n",
       "    }\n",
       "\n",
       "    .dataframe tbody tr th {\n",
       "        vertical-align: top;\n",
       "    }\n",
       "\n",
       "    .dataframe thead th {\n",
       "        text-align: right;\n",
       "    }\n",
       "</style>\n",
       "<table border=\"1\" class=\"dataframe\">\n",
       "  <thead>\n",
       "    <tr style=\"text-align: right;\">\n",
       "      <th></th>\n",
       "      <th>content</th>\n",
       "      <th>category_code</th>\n",
       "      <th>category</th>\n",
       "      <th>proba</th>\n",
       "    </tr>\n",
       "  </thead>\n",
       "  <tbody>\n",
       "    <tr>\n",
       "      <th>0</th>\n",
       "      <td>네이버와 카카오는 드론 기술 발전에 주력</td>\n",
       "      <td>105</td>\n",
       "      <td>IT/과학</td>\n",
       "      <td>[[0.22212297654109833, 0.1280571554038728, 0.1...</td>\n",
       "    </tr>\n",
       "    <tr>\n",
       "      <th>1</th>\n",
       "      <td>광화문 대한애국당 집회, 격렬 저항 속 강제 해산</td>\n",
       "      <td>100</td>\n",
       "      <td>정치</td>\n",
       "      <td>[[0.2068209032972136, 0.1421666800984579, 0.14...</td>\n",
       "    </tr>\n",
       "    <tr>\n",
       "      <th>2</th>\n",
       "      <td>최근 환율 주가 예측 어려워, 증권사 골머리</td>\n",
       "      <td>101</td>\n",
       "      <td>경제</td>\n",
       "      <td>[[0.09367028263001075, 0.4343242177074589, 0.1...</td>\n",
       "    </tr>\n",
       "    <tr>\n",
       "      <th>3</th>\n",
       "      <td>FTSE의 공개적인 공매도 금지 비판, 금융당국 골머리</td>\n",
       "      <td>101</td>\n",
       "      <td>경제</td>\n",
       "      <td>[[0.24822997830911975, 0.28364383144587446, 0....</td>\n",
       "    </tr>\n",
       "  </tbody>\n",
       "</table>\n",
       "</div>"
      ],
      "text/plain": [
       "                          content  category_code category  \\\n",
       "0          네이버와 카카오는 드론 기술 발전에 주력            105    IT/과학   \n",
       "1     광화문 대한애국당 집회, 격렬 저항 속 강제 해산            100       정치   \n",
       "2        최근 환율 주가 예측 어려워, 증권사 골머리            101       경제   \n",
       "3  FTSE의 공개적인 공매도 금지 비판, 금융당국 골머리            101       경제   \n",
       "\n",
       "                                               proba  \n",
       "0  [[0.22212297654109833, 0.1280571554038728, 0.1...  \n",
       "1  [[0.2068209032972136, 0.1421666800984579, 0.14...  \n",
       "2  [[0.09367028263001075, 0.4343242177074589, 0.1...  \n",
       "3  [[0.24822997830911975, 0.28364383144587446, 0....  "
      ]
     },
     "execution_count": 68,
     "metadata": {},
     "output_type": "execute_result"
    }
   ],
   "source": [
    "df['proba'] = df['content'].apply(lambda data : model.predict_proba([data]))\n",
    "df"
   ]
  },
  {
   "cell_type": "markdown",
   "metadata": {},
   "source": [
    "# 모델 저장"
   ]
  },
  {
   "cell_type": "code",
   "execution_count": 70,
   "metadata": {
    "ExecuteTime": {
     "end_time": "2021-03-03T15:54:42.404152Z",
     "start_time": "2021-03-03T15:54:42.372244Z"
    }
   },
   "outputs": [],
   "source": [
    "pickle.dump(model, open('clf.pkl', 'wb'))"
   ]
  },
  {
   "cell_type": "code",
   "execution_count": null,
   "metadata": {},
   "outputs": [],
   "source": []
  }
 ],
 "metadata": {
  "hide_input": false,
  "kernelspec": {
   "display_name": "Python 3",
   "language": "python",
   "name": "python3"
  },
  "language_info": {
   "codemirror_mode": {
    "name": "ipython",
    "version": 3
   },
   "file_extension": ".py",
   "mimetype": "text/x-python",
   "name": "python",
   "nbconvert_exporter": "python",
   "pygments_lexer": "ipython3",
   "version": "3.8.5"
  },
  "toc": {
   "base_numbering": 1,
   "nav_menu": {},
   "number_sections": true,
   "sideBar": true,
   "skip_h1_title": false,
   "title_cell": "Table of Contents",
   "title_sidebar": "Contents",
   "toc_cell": false,
   "toc_position": {},
   "toc_section_display": true,
   "toc_window_display": false
  },
  "varInspector": {
   "cols": {
    "lenName": 16,
    "lenType": 16,
    "lenVar": 40
   },
   "kernels_config": {
    "python": {
     "delete_cmd_postfix": "",
     "delete_cmd_prefix": "del ",
     "library": "var_list.py",
     "varRefreshCmd": "print(var_dic_list())"
    },
    "r": {
     "delete_cmd_postfix": ") ",
     "delete_cmd_prefix": "rm(",
     "library": "var_list.r",
     "varRefreshCmd": "cat(var_dic_list()) "
    }
   },
   "types_to_exclude": [
    "module",
    "function",
    "builtin_function_or_method",
    "instance",
    "_Feature"
   ],
   "window_display": false
  }
 },
 "nbformat": 4,
 "nbformat_minor": 4
}
