{
 "cells": [
  {
   "cell_type": "markdown",
   "id": "bound-worth",
   "metadata": {},
   "source": [
    "User-agent: *\n",
    "\n",
    "Disallow: /admin\n",
    "\n",
    "Disallow: /api\n",
    "\n",
    "Allow: /"
   ]
  },
  {
   "cell_type": "markdown",
   "id": "martial-shannon",
   "metadata": {},
   "source": [
    "- playnomore는 그냥 파이썬으로 하면 200이 안 떨어지고 user agent를 바꿔줘야 함"
   ]
  },
  {
   "cell_type": "markdown",
   "id": "ancient-musical",
   "metadata": {},
   "source": [
    "## playnomore\n",
    "- http://playnomore.co.kr/\n",
    "- scrapy에서 fake-useragent 사용\n",
    "- scrapy를 실행할 때 argument를 설정해서 사용\n",
    "- pipelines에서 데이터베이스로 데이터를 저장"
   ]
  },
  {
   "cell_type": "code",
   "execution_count": 2,
   "id": "italian-width",
   "metadata": {
    "ExecuteTime": {
     "end_time": "2021-03-16T00:24:16.252641Z",
     "start_time": "2021-03-16T00:24:15.127417Z"
    }
   },
   "outputs": [
    {
     "name": "stderr",
     "output_type": "stream",
     "text": [
      ":0: UserWarning: You do not have a working installation of the service_identity module: 'No module named 'pyasn1_modules''.  Please install it from <https://pypi.python.org/pypi/service_identity> and make sure all of its dependencies are satisfied.  Without the service_identity module, Twisted can perform only rudimentary TLS client hostname verification.  Many valid certificate/hostname mappings may be rejected.\n"
     ]
    }
   ],
   "source": [
    "import scrapy\n",
    "import requests\n",
    "from scrapy.http import TextResponse"
   ]
  },
  {
   "cell_type": "markdown",
   "id": "valid-panel",
   "metadata": {},
   "source": [
    "### 프로젝트 생성"
   ]
  },
  {
   "cell_type": "code",
   "execution_count": 3,
   "id": "closed-french",
   "metadata": {
    "ExecuteTime": {
     "end_time": "2021-03-16T00:24:17.668675Z",
     "start_time": "2021-03-16T00:24:16.269595Z"
    }
   },
   "outputs": [
    {
     "name": "stdout",
     "output_type": "stream",
     "text": [
      "Error: scrapy.cfg already exists in C:\\jupyter_project\\data_science\\practice_web\\playnomore\n"
     ]
    },
    {
     "name": "stderr",
     "output_type": "stream",
     "text": [
      ":0: UserWarning: You do not have a working installation of the service_identity module: 'No module named 'pyasn1_modules''.  Please install it from <https://pypi.python.org/pypi/service_identity> and make sure all of its dependencies are satisfied.  Without the service_identity module, Twisted can perform only rudimentary TLS client hostname verification.  Many valid certificate/hostname mappings may be rejected.\n"
     ]
    }
   ],
   "source": [
    "#!rm -rf planomore : 강제로 해당 디렉토리 삭제하고 다시생성\n",
    "!scrapy startproject playnomore"
   ]
  },
  {
   "cell_type": "markdown",
   "id": "relevant-december",
   "metadata": {},
   "source": [
    "### items.py\n",
    "- title, price, img, link"
   ]
  },
  {
   "cell_type": "code",
   "execution_count": 4,
   "id": "experienced-attempt",
   "metadata": {
    "ExecuteTime": {
     "end_time": "2021-03-16T00:24:17.698934Z",
     "start_time": "2021-03-16T00:24:17.686630Z"
    }
   },
   "outputs": [],
   "source": [
    "# %load  playnomore/playnomore/items.py\n",
    "# Define here the models for your scraped items\n",
    "#\n",
    "# See documentation in:\n",
    "# https://docs.scrapy.org/en/latest/topics/items.html\n",
    "\n",
    "import scrapy\n",
    "\n",
    "\n",
    "class PlaynomoreItem(scrapy.Item):\n",
    "    # define the fields for your item here like:\n",
    "    # name = scrapy.Field()\n",
    "    pass\n"
   ]
  },
  {
   "cell_type": "code",
   "execution_count": 5,
   "id": "muslim-player",
   "metadata": {
    "ExecuteTime": {
     "end_time": "2021-03-16T00:24:17.729851Z",
     "start_time": "2021-03-16T00:24:17.714891Z"
    }
   },
   "outputs": [
    {
     "name": "stdout",
     "output_type": "stream",
     "text": [
      "Overwriting playnomore/playnomore/items.py\n"
     ]
    }
   ],
   "source": [
    "%%writefile playnomore/playnomore/items.py\n",
    "import scrapy\n",
    "\n",
    "\n",
    "class PlaynomoreItem(scrapy.Item):\n",
    "    title = scrapy.Field()\n",
    "    price =scrapy.Field()\n",
    "    img = scrapy.Field()\n",
    "    link = scrapy.Field()"
   ]
  },
  {
   "cell_type": "markdown",
   "id": "reflected-taiwan",
   "metadata": {},
   "source": [
    "### xpath 확인\n",
    "- 링크 -> 상세페이지(제목, 이미지URL, 가걱)"
   ]
  },
  {
   "cell_type": "code",
   "execution_count": 6,
   "id": "silent-coordinator",
   "metadata": {
    "ExecuteTime": {
     "end_time": "2021-03-16T00:24:17.792579Z",
     "start_time": "2021-03-16T00:24:17.748802Z"
    }
   },
   "outputs": [
    {
     "data": {
      "text/plain": [
       "<Response [403]>"
      ]
     },
     "execution_count": 6,
     "metadata": {},
     "output_type": "execute_result"
    }
   ],
   "source": [
    "url  ='http://playnomore.co.kr/category/bag/24/'\n",
    "req = requests.get(url)\n",
    "req"
   ]
  },
  {
   "cell_type": "code",
   "execution_count": 7,
   "id": "related-analyst",
   "metadata": {
    "ExecuteTime": {
     "end_time": "2021-03-16T00:24:33.122391Z",
     "start_time": "2021-03-16T00:24:17.812527Z"
    }
   },
   "outputs": [
    {
     "data": {
      "text/plain": [
       "<Response [200]>"
      ]
     },
     "execution_count": 7,
     "metadata": {},
     "output_type": "execute_result"
    }
   ],
   "source": [
    "from fake_useragent import UserAgent\n",
    "url  ='http://playnomore.co.kr/category/bag/24/'\n",
    "headers = {'User-Agent' : UserAgent().chrome}\n",
    "req = requests.get(url, headers=headers)\n",
    "req"
   ]
  },
  {
   "cell_type": "code",
   "execution_count": 8,
   "id": "naval-providence",
   "metadata": {
    "ExecuteTime": {
     "end_time": "2021-03-16T00:24:33.168452Z",
     "start_time": "2021-03-16T00:24:33.157460Z"
    }
   },
   "outputs": [
    {
     "data": {
      "text/plain": [
       "<200 http://playnomore.co.kr/category/bag/24/>"
      ]
     },
     "execution_count": 8,
     "metadata": {},
     "output_type": "execute_result"
    }
   ],
   "source": [
    "response = TextResponse(req.url, body=req.text, encoding='utf-8')\n",
    "response"
   ]
  },
  {
   "cell_type": "code",
   "execution_count": 9,
   "id": "disciplinary-practitioner",
   "metadata": {
    "ExecuteTime": {
     "end_time": "2021-03-16T00:24:33.216336Z",
     "start_time": "2021-03-16T00:24:33.187367Z"
    },
    "scrolled": true
   },
   "outputs": [],
   "source": [
    "#링크\n",
    "# id가 있으면 id가 있는 최상위 태그에서 가져오는게 좋음\n",
    "links = response.xpath('//*[@id=\"contents\"]/div[2]/div/ul/li/div/a/@href').extract()\n",
    "links = list(map(response.urljoin, links))"
   ]
  },
  {
   "cell_type": "code",
   "execution_count": 10,
   "id": "educated-pension",
   "metadata": {
    "ExecuteTime": {
     "end_time": "2021-03-16T00:24:33.563827Z",
     "start_time": "2021-03-16T00:24:33.233327Z"
    }
   },
   "outputs": [
    {
     "data": {
      "text/plain": [
       "<200 http://playnomore.co.kr/product/bag-micro-moon-black/538/?cate_no=24&display_group=1>"
      ]
     },
     "execution_count": 10,
     "metadata": {},
     "output_type": "execute_result"
    }
   ],
   "source": [
    "url = links[0]\n",
    "headers = {'User-Agent' : UserAgent().chrome}\n",
    "req = requests.get(url, headers=headers)\n",
    "response = TextResponse(req.url, body=req.text, encoding='utf-8')\n",
    "response"
   ]
  },
  {
   "cell_type": "code",
   "execution_count": 11,
   "id": "immediate-processing",
   "metadata": {
    "ExecuteTime": {
     "end_time": "2021-03-16T00:24:33.595523Z",
     "start_time": "2021-03-16T00:24:33.564584Z"
    }
   },
   "outputs": [
    {
     "data": {
      "text/plain": [
       "('[BAG] MICRO MOON black',\n",
       " '$ 180',\n",
       " 'http://playnomore.co.kr/web/product/big/202007/fbc4397fbf1de9e659d4e1b1629b8fc4.jpg')"
      ]
     },
     "execution_count": 11,
     "metadata": {},
     "output_type": "execute_result"
    }
   ],
   "source": [
    "title1 = response.xpath('//*[@id=\"contents\"]/div[1]/div[1]/div[2]/div[1]/font/text()').extract()\n",
    "title2 = response.xpath('//*[@id=\"contents\"]/div[1]/div[1]/div[2]/div[1]/text()').extract()\n",
    "title = ''.join(title1) + ''.join(title2)\n",
    "price = response.xpath(\n",
    "    '//*[@id=\"contents\"]/div[1]/div[1]/div[2]/div[2]/text()'\n",
    ").extract()[0]\n",
    "img = 'http:' + response.xpath('//*[@id=\"contents\"]/div[1]/div[1]/div[1]/div[1]/img/@src').extract()[0]\n",
    "\n",
    "title, price, img"
   ]
  },
  {
   "cell_type": "markdown",
   "id": "binary-update",
   "metadata": {},
   "source": [
    "### spider.py 작성\n",
    "- scrapy-fake-useragent 설치\n",
    "    - pip install scrapy-fake-useragent"
   ]
  },
  {
   "cell_type": "code",
   "execution_count": 12,
   "id": "opposite-morning",
   "metadata": {
    "ExecuteTime": {
     "end_time": "2021-03-16T00:24:35.997378Z",
     "start_time": "2021-03-16T00:24:33.627135Z"
    }
   },
   "outputs": [
    {
     "name": "stdout",
     "output_type": "stream",
     "text": [
      "Requirement already satisfied: scrapy-fake-useragent in c:\\users\\hobin\\anaconda3\\lib\\site-packages (1.4.4)\n",
      "Requirement already satisfied: faker in c:\\users\\hobin\\anaconda3\\lib\\site-packages (from scrapy-fake-useragent) (6.6.0)\n",
      "Requirement already satisfied: fake-useragent in c:\\users\\hobin\\anaconda3\\lib\\site-packages (from scrapy-fake-useragent) (0.1.11)\n",
      "Requirement already satisfied: python-dateutil>=2.4 in c:\\users\\hobin\\anaconda3\\lib\\site-packages (from faker->scrapy-fake-useragent) (2.8.1)\n",
      "Requirement already satisfied: text-unidecode==1.3 in c:\\users\\hobin\\anaconda3\\lib\\site-packages (from faker->scrapy-fake-useragent) (1.3)\n",
      "Requirement already satisfied: six>=1.5 in c:\\users\\hobin\\anaconda3\\lib\\site-packages (from python-dateutil>=2.4->faker->scrapy-fake-useragent) (1.15.0)\n"
     ]
    }
   ],
   "source": [
    "!pip install scrapy-fake-useragent"
   ]
  },
  {
   "cell_type": "code",
   "execution_count": 13,
   "id": "duplicate-waterproof",
   "metadata": {
    "ExecuteTime": {
     "end_time": "2021-03-16T00:24:37.127788Z",
     "start_time": "2021-03-16T00:24:36.017419Z"
    }
   },
   "outputs": [
    {
     "name": "stdout",
     "output_type": "stream",
     "text": [
      "fake-useragent                    0.1.11\n",
      "scrapy-fake-useragent             1.4.4\n"
     ]
    }
   ],
   "source": [
    "!pip list | grep fake"
   ]
  },
  {
   "cell_type": "code",
   "execution_count": 17,
   "id": "piano-tuition",
   "metadata": {
    "ExecuteTime": {
     "end_time": "2021-03-16T00:29:54.464026Z",
     "start_time": "2021-03-16T00:29:54.455022Z"
    }
   },
   "outputs": [
    {
     "name": "stdout",
     "output_type": "stream",
     "text": [
      "Overwriting playnomore/playnomore/spiders/spider.py\n"
     ]
    }
   ],
   "source": [
    "%%writefile playnomore/playnomore/spiders/spider.py\n",
    "import scrapy\n",
    "from playnomore.items import PlaynomoreItem\n",
    "\n",
    "class PlaynomoreSpider(scrapy.Spider):\n",
    "    name = 'Playnomore'\n",
    "    custom_settings = {\n",
    "        'DOWNLOADER_MIDDLEWARES' : {\n",
    "            'scrapy.downloadermiddlewares.useragent.UserAgentMiddelware':None,\n",
    "            'scrapy_fake_useragent.middleware.RandomUserAgentMiddleware':400,\n",
    "        }\n",
    "    }\n",
    "    \n",
    "    def start_requests(self):\n",
    "        url = 'http://playnomore.co.kr/category/bag/24'\n",
    "        yield scrapy.Request(url, callback=self.parse)\n",
    "        \n",
    "    def parse(self, response):\n",
    "        links = response.xpath('//*[@id=\"contents\"]/div[2]/div/ul/li/div/a/@href').extract()\n",
    "        links = list(map(response.urljoin, links))\n",
    "        for link in links:\n",
    "            yield scrapy.Request(link, callback=self.page_parse)  \n",
    "            # request를 다하고 response남는데, 그걸 가지고 callback함수를 실행\n",
    "            \n",
    "    def page_parse(self, response):\n",
    "        item = PlaynomoreItem()\n",
    "        title1 = response.xpath('//*[@id=\"contents\"]/div[1]/div[1]/div[2]/div[1]/font/text()').extract()\n",
    "        title2 = response.xpath('//*[@id=\"contents\"]/div[1]/div[1]/div[2]/div[1]/text()').extract()\n",
    "        item['title'] = ''.join(title1) + ''.join(title2)\n",
    "        item['price'] = response.xpath(\n",
    "            '//*[@id=\"contents\"]/div[1]/div[1]/div[2]/div[2]/text()'\n",
    "        ).extract()[0]\n",
    "        item['img'] = 'http:' + response.xpath('//*[@id=\"contents\"]/div[1]/div[1]/div[1]/div[1]/img/@src').extract()[0]\n",
    "        item['link'] = response.url\n",
    "        \n",
    "        yield item"
   ]
  },
  {
   "cell_type": "code",
   "execution_count": 18,
   "id": "comic-chart",
   "metadata": {
    "ExecuteTime": {
     "end_time": "2021-03-16T00:29:56.680484Z",
     "start_time": "2021-03-16T00:29:56.673505Z"
    }
   },
   "outputs": [
    {
     "name": "stdout",
     "output_type": "stream",
     "text": [
      "Overwriting run.sh\n"
     ]
    }
   ],
   "source": [
    "%%writefile run.sh\n",
    "cd playnomore\n",
    "scrapy crawl Playnomore -o playnomore.csv"
   ]
  },
  {
   "cell_type": "code",
   "execution_count": 22,
   "id": "approved-underground",
   "metadata": {
    "ExecuteTime": {
     "end_time": "2021-03-16T00:30:52.311923Z",
     "start_time": "2021-03-16T00:30:52.227006Z"
    }
   },
   "outputs": [],
   "source": [
    "!chmod +x run.sh"
   ]
  },
  {
   "cell_type": "code",
   "execution_count": 25,
   "id": "metric-traffic",
   "metadata": {
    "ExecuteTime": {
     "end_time": "2021-03-16T00:31:09.660111Z",
     "start_time": "2021-03-16T00:31:05.651863Z"
    }
   },
   "outputs": [],
   "source": [
    "!run.sh"
   ]
  },
  {
   "cell_type": "code",
   "execution_count": 26,
   "id": "individual-trash",
   "metadata": {
    "ExecuteTime": {
     "end_time": "2021-03-16T00:31:09.707710Z",
     "start_time": "2021-03-16T00:31:09.680747Z"
    },
    "scrolled": true
   },
   "outputs": [
    {
     "data": {
      "text/html": [
       "<div>\n",
       "<style scoped>\n",
       "    .dataframe tbody tr th:only-of-type {\n",
       "        vertical-align: middle;\n",
       "    }\n",
       "\n",
       "    .dataframe tbody tr th {\n",
       "        vertical-align: top;\n",
       "    }\n",
       "\n",
       "    .dataframe thead th {\n",
       "        text-align: right;\n",
       "    }\n",
       "</style>\n",
       "<table border=\"1\" class=\"dataframe\">\n",
       "  <thead>\n",
       "    <tr style=\"text-align: right;\">\n",
       "      <th></th>\n",
       "      <th>img</th>\n",
       "      <th>link</th>\n",
       "      <th>price</th>\n",
       "      <th>title</th>\n",
       "    </tr>\n",
       "  </thead>\n",
       "  <tbody>\n",
       "    <tr>\n",
       "      <th>0</th>\n",
       "      <td>http://playnomore.co.kr/web/product/big/201612...</td>\n",
       "      <td>http://playnomore.co.kr/product/refurb-50-barb...</td>\n",
       "      <td>$ 227</td>\n",
       "      <td>[Refurb 50%] BARBIE BUCKETdeep grey</td>\n",
       "    </tr>\n",
       "    <tr>\n",
       "      <th>1</th>\n",
       "      <td>http://playnomore.co.kr/web/product/big/202007...</td>\n",
       "      <td>http://playnomore.co.kr/product/bag-micro-cand...</td>\n",
       "      <td>$ 180</td>\n",
       "      <td>[BAG] MICRO CANDY natural</td>\n",
       "    </tr>\n",
       "    <tr>\n",
       "      <th>2</th>\n",
       "      <td>http://playnomore.co.kr/web/product/big/202007...</td>\n",
       "      <td>http://playnomore.co.kr/product/bag-micro-cand...</td>\n",
       "      <td>$ 180</td>\n",
       "      <td>[BAG] MICRO CANDY white</td>\n",
       "    </tr>\n",
       "    <tr>\n",
       "      <th>3</th>\n",
       "      <td>http://playnomore.co.kr/web/product/big/202003...</td>\n",
       "      <td>http://playnomore.co.kr/product/bag-im-your-sh...</td>\n",
       "      <td>$ 378</td>\n",
       "      <td>[BAG] I'M YOUR SHYSTAR rose gold</td>\n",
       "    </tr>\n",
       "    <tr>\n",
       "      <th>4</th>\n",
       "      <td>http://playnomore.co.kr/web/product/big/202009...</td>\n",
       "      <td>http://playnomore.co.kr/product/bag-micro-cand...</td>\n",
       "      <td>$ 180</td>\n",
       "      <td>[BAG] MICRO CANDY powder blue</td>\n",
       "    </tr>\n",
       "    <tr>\n",
       "      <th>5</th>\n",
       "      <td>http://playnomore.co.kr/web/product/big/202009...</td>\n",
       "      <td>http://playnomore.co.kr/product/bag-micro-cand...</td>\n",
       "      <td>$ 180</td>\n",
       "      <td>[BAG] MICRO CANDY pink</td>\n",
       "    </tr>\n",
       "    <tr>\n",
       "      <th>6</th>\n",
       "      <td>http://playnomore.co.kr/web/product/big/202101...</td>\n",
       "      <td>http://playnomore.co.kr/product/little-spencer...</td>\n",
       "      <td>$ 255</td>\n",
       "      <td>LITTLE SPENCER 6 colors</td>\n",
       "    </tr>\n",
       "    <tr>\n",
       "      <th>7</th>\n",
       "      <td>http://playnomore.co.kr/web/product/big/202012...</td>\n",
       "      <td>http://playnomore.co.kr/product/bag-ultra-micr...</td>\n",
       "      <td>$ 100</td>\n",
       "      <td>[BAG] ULTRA MICRO CANDY</td>\n",
       "    </tr>\n",
       "    <tr>\n",
       "      <th>8</th>\n",
       "      <td>http://playnomore.co.kr/web/product/big/202007...</td>\n",
       "      <td>http://playnomore.co.kr/product/bag-micro-moon...</td>\n",
       "      <td>$ 180</td>\n",
       "      <td>[BAG] MICRO MOON indi pink</td>\n",
       "    </tr>\n",
       "    <tr>\n",
       "      <th>9</th>\n",
       "      <td>http://playnomore.co.kr/web/product/big/202101...</td>\n",
       "      <td>http://playnomore.co.kr/product/bag-rainbow-ho...</td>\n",
       "      <td>$ 180</td>\n",
       "      <td>[BAG] RAINBOW HOBO almond</td>\n",
       "    </tr>\n",
       "    <tr>\n",
       "      <th>10</th>\n",
       "      <td>http://playnomore.co.kr/web/product/big/201909...</td>\n",
       "      <td>http://playnomore.co.kr/product/bag-micro-moon...</td>\n",
       "      <td>$ 180</td>\n",
       "      <td>[BAG] MICRO MOON olive</td>\n",
       "    </tr>\n",
       "    <tr>\n",
       "      <th>11</th>\n",
       "      <td>http://playnomore.co.kr/web/product/big/202007...</td>\n",
       "      <td>http://playnomore.co.kr/product/bag-micro-moon...</td>\n",
       "      <td>$ 180</td>\n",
       "      <td>[BAG] MICRO MOON black</td>\n",
       "    </tr>\n",
       "    <tr>\n",
       "      <th>12</th>\n",
       "      <td>http://playnomore.co.kr/web/product/big/202101...</td>\n",
       "      <td>http://playnomore.co.kr/product/bag-shygirl-la...</td>\n",
       "      <td>$ 330</td>\n",
       "      <td>[BAG] SHYGIRL lavender</td>\n",
       "    </tr>\n",
       "    <tr>\n",
       "      <th>13</th>\n",
       "      <td>http://playnomore.co.kr/web/product/big/201909...</td>\n",
       "      <td>http://playnomore.co.kr/product/bag-micro-moon...</td>\n",
       "      <td>$ 180</td>\n",
       "      <td>[BAG] MICRO MOON chocolate</td>\n",
       "    </tr>\n",
       "    <tr>\n",
       "      <th>14</th>\n",
       "      <td>http://playnomore.co.kr/web/product/big/202007...</td>\n",
       "      <td>http://playnomore.co.kr/product/bag-micro-moon...</td>\n",
       "      <td>$ 180</td>\n",
       "      <td>[BAG] MICRO MOON ivory</td>\n",
       "    </tr>\n",
       "  </tbody>\n",
       "</table>\n",
       "</div>"
      ],
      "text/plain": [
       "                                                  img  \\\n",
       "0   http://playnomore.co.kr/web/product/big/201612...   \n",
       "1   http://playnomore.co.kr/web/product/big/202007...   \n",
       "2   http://playnomore.co.kr/web/product/big/202007...   \n",
       "3   http://playnomore.co.kr/web/product/big/202003...   \n",
       "4   http://playnomore.co.kr/web/product/big/202009...   \n",
       "5   http://playnomore.co.kr/web/product/big/202009...   \n",
       "6   http://playnomore.co.kr/web/product/big/202101...   \n",
       "7   http://playnomore.co.kr/web/product/big/202012...   \n",
       "8   http://playnomore.co.kr/web/product/big/202007...   \n",
       "9   http://playnomore.co.kr/web/product/big/202101...   \n",
       "10  http://playnomore.co.kr/web/product/big/201909...   \n",
       "11  http://playnomore.co.kr/web/product/big/202007...   \n",
       "12  http://playnomore.co.kr/web/product/big/202101...   \n",
       "13  http://playnomore.co.kr/web/product/big/201909...   \n",
       "14  http://playnomore.co.kr/web/product/big/202007...   \n",
       "\n",
       "                                                 link  price  \\\n",
       "0   http://playnomore.co.kr/product/refurb-50-barb...  $ 227   \n",
       "1   http://playnomore.co.kr/product/bag-micro-cand...  $ 180   \n",
       "2   http://playnomore.co.kr/product/bag-micro-cand...  $ 180   \n",
       "3   http://playnomore.co.kr/product/bag-im-your-sh...  $ 378   \n",
       "4   http://playnomore.co.kr/product/bag-micro-cand...  $ 180   \n",
       "5   http://playnomore.co.kr/product/bag-micro-cand...  $ 180   \n",
       "6   http://playnomore.co.kr/product/little-spencer...  $ 255   \n",
       "7   http://playnomore.co.kr/product/bag-ultra-micr...  $ 100   \n",
       "8   http://playnomore.co.kr/product/bag-micro-moon...  $ 180   \n",
       "9   http://playnomore.co.kr/product/bag-rainbow-ho...  $ 180   \n",
       "10  http://playnomore.co.kr/product/bag-micro-moon...  $ 180   \n",
       "11  http://playnomore.co.kr/product/bag-micro-moon...  $ 180   \n",
       "12  http://playnomore.co.kr/product/bag-shygirl-la...  $ 330   \n",
       "13  http://playnomore.co.kr/product/bag-micro-moon...  $ 180   \n",
       "14  http://playnomore.co.kr/product/bag-micro-moon...  $ 180   \n",
       "\n",
       "                                  title  \n",
       "0   [Refurb 50%] BARBIE BUCKETdeep grey  \n",
       "1             [BAG] MICRO CANDY natural  \n",
       "2               [BAG] MICRO CANDY white  \n",
       "3      [BAG] I'M YOUR SHYSTAR rose gold  \n",
       "4         [BAG] MICRO CANDY powder blue  \n",
       "5                [BAG] MICRO CANDY pink  \n",
       "6               LITTLE SPENCER 6 colors  \n",
       "7               [BAG] ULTRA MICRO CANDY  \n",
       "8            [BAG] MICRO MOON indi pink  \n",
       "9             [BAG] RAINBOW HOBO almond  \n",
       "10               [BAG] MICRO MOON olive  \n",
       "11               [BAG] MICRO MOON black  \n",
       "12               [BAG] SHYGIRL lavender  \n",
       "13           [BAG] MICRO MOON chocolate  \n",
       "14               [BAG] MICRO MOON ivory  "
      ]
     },
     "execution_count": 26,
     "metadata": {},
     "output_type": "execute_result"
    }
   ],
   "source": [
    "pd.read_csv('./playnomore/playnomore.csv')"
   ]
  },
  {
   "cell_type": "markdown",
   "id": "departmental-oxide",
   "metadata": {},
   "source": [
    "### argument 설정"
   ]
  },
  {
   "cell_type": "code",
   "execution_count": 50,
   "id": "absent-douglas",
   "metadata": {
    "ExecuteTime": {
     "end_time": "2021-03-16T00:54:20.018013Z",
     "start_time": "2021-03-16T00:54:20.002060Z"
    }
   },
   "outputs": [
    {
     "name": "stdout",
     "output_type": "stream",
     "text": [
      "Overwriting playnomore/playnomore/spiders/spider.py\n"
     ]
    }
   ],
   "source": [
    "%%writefile playnomore/playnomore/spiders/spider.py\n",
    "import scrapy\n",
    "from playnomore.items import PlaynomoreItem\n",
    "\n",
    "class PlaynomoreSpider(scrapy.Spider):\n",
    "    name = 'Playnomore'\n",
    "    custom_settings = {\n",
    "        'DOWNLOADER_MIDDLEWARES' : {\n",
    "            'scrapy.downloadermiddlewares.useragent.UserAgentMiddelware':None,\n",
    "            'scrapy_fake_useragent.middleware.RandomUserAgentMiddleware':400,\n",
    "        }\n",
    "    }\n",
    "    \n",
    "    def __init__(self, category1='bag', category2=24, **kwargs):\n",
    "        self.start_url = 'http://playnomore.co.kr/category/{}/{}'.format(category1, category2)\n",
    "        super().__init__(**kwargs)\n",
    "    \n",
    "    def start_requests(self):\n",
    "        url = self.start_url\n",
    "        yield scrapy.Request(url, callback=self.parse)\n",
    "        \n",
    "    def parse(self, response):\n",
    "        links = response.xpath('//*[@id=\"contents\"]/div[2]/div/ul/li/div/a/@href').extract()\n",
    "        links = list(map(response.urljoin, links))\n",
    "        for link in links:\n",
    "            yield scrapy.Request(link, callback=self.page_parse)  \n",
    "            # request를 다하고 response남는데, 그걸 가지고 callback함수를 실행\n",
    "            \n",
    "    def page_parse(self, response):\n",
    "        item = PlaynomoreItem()\n",
    "        title1 = response.xpath('//*[@id=\"contents\"]/div[1]/div[1]/div[2]/div[1]/font/text()').extract()\n",
    "        title2 = response.xpath('//*[@id=\"contents\"]/div[1]/div[1]/div[2]/div[1]/text()').extract()\n",
    "        item['title'] = ''.join(title1) + ''.join(title2)\n",
    "        item['price'] = response.xpath(\n",
    "            '//*[@id=\"contents\"]/div[1]/div[1]/div[2]/div[2]/text()'\n",
    "        ).extract()[0]\n",
    "        item['img'] = 'http:' + response.xpath('//*[@id=\"contents\"]/div[1]/div[1]/div[1]/div[1]/img/@src').extract()[0]\n",
    "        item['link'] = response.url\n",
    "        \n",
    "        yield item"
   ]
  },
  {
   "cell_type": "markdown",
   "id": "british-curtis",
   "metadata": {},
   "source": [
    "- -a : argument\n",
    "- 악세서리가 크롤링되어서 append가 됨"
   ]
  },
  {
   "cell_type": "code",
   "execution_count": 94,
   "id": "solved-intensity",
   "metadata": {
    "ExecuteTime": {
     "end_time": "2021-03-16T04:45:38.451109Z",
     "start_time": "2021-03-16T04:45:38.441170Z"
    }
   },
   "outputs": [
    {
     "name": "stdout",
     "output_type": "stream",
     "text": [
      "Overwriting run.sh\n"
     ]
    }
   ],
   "source": [
    "%%writefile run.sh\n",
    "cd playnomore\n",
    "scrapy crawl Playnomore -o playnomore.csv -a category1=bag -a category2=24"
   ]
  },
  {
   "cell_type": "code",
   "execution_count": 83,
   "id": "continuous-greece",
   "metadata": {
    "ExecuteTime": {
     "end_time": "2021-03-16T04:26:34.980015Z",
     "start_time": "2021-03-16T04:26:34.888518Z"
    }
   },
   "outputs": [],
   "source": [
    "!chmod +x run.sh"
   ]
  },
  {
   "cell_type": "code",
   "execution_count": 87,
   "id": "immediate-compatibility",
   "metadata": {
    "ExecuteTime": {
     "end_time": "2021-03-16T04:27:10.231164Z",
     "start_time": "2021-03-16T04:27:06.400206Z"
    }
   },
   "outputs": [],
   "source": [
    "!run.sh"
   ]
  },
  {
   "cell_type": "code",
   "execution_count": 88,
   "id": "equal-parameter",
   "metadata": {
    "ExecuteTime": {
     "end_time": "2021-03-16T04:27:11.242595Z",
     "start_time": "2021-03-16T04:27:11.202189Z"
    }
   },
   "outputs": [
    {
     "data": {
      "text/html": [
       "<div>\n",
       "<style scoped>\n",
       "    .dataframe tbody tr th:only-of-type {\n",
       "        vertical-align: middle;\n",
       "    }\n",
       "\n",
       "    .dataframe tbody tr th {\n",
       "        vertical-align: top;\n",
       "    }\n",
       "\n",
       "    .dataframe thead th {\n",
       "        text-align: right;\n",
       "    }\n",
       "</style>\n",
       "<table border=\"1\" class=\"dataframe\">\n",
       "  <thead>\n",
       "    <tr style=\"text-align: right;\">\n",
       "      <th></th>\n",
       "      <th>img</th>\n",
       "      <th>link</th>\n",
       "      <th>price</th>\n",
       "      <th>title</th>\n",
       "    </tr>\n",
       "  </thead>\n",
       "  <tbody>\n",
       "    <tr>\n",
       "      <th>0</th>\n",
       "      <td>http://playnomore.co.kr/web/product/big/202007...</td>\n",
       "      <td>http://playnomore.co.kr/product/bag-micro-cand...</td>\n",
       "      <td>$ 180</td>\n",
       "      <td>[BAG] MICRO CANDY white</td>\n",
       "    </tr>\n",
       "    <tr>\n",
       "      <th>1</th>\n",
       "      <td>http://playnomore.co.kr/web/product/big/202007...</td>\n",
       "      <td>http://playnomore.co.kr/product/bag-micro-moon...</td>\n",
       "      <td>$ 180</td>\n",
       "      <td>[BAG] MICRO MOON black</td>\n",
       "    </tr>\n",
       "    <tr>\n",
       "      <th>2</th>\n",
       "      <td>http://playnomore.co.kr/web/product/big/202009...</td>\n",
       "      <td>http://playnomore.co.kr/product/bag-micro-cand...</td>\n",
       "      <td>$ 180</td>\n",
       "      <td>[BAG] MICRO CANDY powder blue</td>\n",
       "    </tr>\n",
       "    <tr>\n",
       "      <th>3</th>\n",
       "      <td>http://playnomore.co.kr/web/product/big/202007...</td>\n",
       "      <td>http://playnomore.co.kr/product/bag-micro-cand...</td>\n",
       "      <td>$ 180</td>\n",
       "      <td>[BAG] MICRO CANDY natural</td>\n",
       "    </tr>\n",
       "    <tr>\n",
       "      <th>4</th>\n",
       "      <td>http://playnomore.co.kr/web/product/big/201612...</td>\n",
       "      <td>http://playnomore.co.kr/product/refurb-50-barb...</td>\n",
       "      <td>$ 227</td>\n",
       "      <td>[Refurb 50%] BARBIE BUCKETdeep grey</td>\n",
       "    </tr>\n",
       "    <tr>\n",
       "      <th>5</th>\n",
       "      <td>http://playnomore.co.kr/web/product/big/202101...</td>\n",
       "      <td>http://playnomore.co.kr/product/little-spencer...</td>\n",
       "      <td>$ 255</td>\n",
       "      <td>LITTLE SPENCER 6 colors</td>\n",
       "    </tr>\n",
       "    <tr>\n",
       "      <th>6</th>\n",
       "      <td>http://playnomore.co.kr/web/product/big/202012...</td>\n",
       "      <td>http://playnomore.co.kr/product/bag-ultra-micr...</td>\n",
       "      <td>$ 100</td>\n",
       "      <td>[BAG] ULTRA MICRO CANDY</td>\n",
       "    </tr>\n",
       "    <tr>\n",
       "      <th>7</th>\n",
       "      <td>http://playnomore.co.kr/web/product/big/202009...</td>\n",
       "      <td>http://playnomore.co.kr/product/bag-micro-cand...</td>\n",
       "      <td>$ 180</td>\n",
       "      <td>[BAG] MICRO CANDY pink</td>\n",
       "    </tr>\n",
       "    <tr>\n",
       "      <th>8</th>\n",
       "      <td>http://playnomore.co.kr/web/product/big/202003...</td>\n",
       "      <td>http://playnomore.co.kr/product/bag-im-your-sh...</td>\n",
       "      <td>$ 378</td>\n",
       "      <td>[BAG] I'M YOUR SHYSTAR rose gold</td>\n",
       "    </tr>\n",
       "    <tr>\n",
       "      <th>9</th>\n",
       "      <td>http://playnomore.co.kr/web/product/big/202101...</td>\n",
       "      <td>http://playnomore.co.kr/product/bag-shygirl-la...</td>\n",
       "      <td>$ 330</td>\n",
       "      <td>[BAG] SHYGIRL lavender</td>\n",
       "    </tr>\n",
       "    <tr>\n",
       "      <th>10</th>\n",
       "      <td>http://playnomore.co.kr/web/product/big/202007...</td>\n",
       "      <td>http://playnomore.co.kr/product/bag-micro-moon...</td>\n",
       "      <td>$ 180</td>\n",
       "      <td>[BAG] MICRO MOON ivory</td>\n",
       "    </tr>\n",
       "    <tr>\n",
       "      <th>11</th>\n",
       "      <td>http://playnomore.co.kr/web/product/big/202101...</td>\n",
       "      <td>http://playnomore.co.kr/product/bag-rainbow-ho...</td>\n",
       "      <td>$ 180</td>\n",
       "      <td>[BAG] RAINBOW HOBO almond</td>\n",
       "    </tr>\n",
       "    <tr>\n",
       "      <th>12</th>\n",
       "      <td>http://playnomore.co.kr/web/product/big/202007...</td>\n",
       "      <td>http://playnomore.co.kr/product/bag-micro-moon...</td>\n",
       "      <td>$ 180</td>\n",
       "      <td>[BAG] MICRO MOON indi pink</td>\n",
       "    </tr>\n",
       "    <tr>\n",
       "      <th>13</th>\n",
       "      <td>http://playnomore.co.kr/web/product/big/201909...</td>\n",
       "      <td>http://playnomore.co.kr/product/bag-micro-moon...</td>\n",
       "      <td>$ 180</td>\n",
       "      <td>[BAG] MICRO MOON chocolate</td>\n",
       "    </tr>\n",
       "    <tr>\n",
       "      <th>14</th>\n",
       "      <td>http://playnomore.co.kr/web/product/big/201909...</td>\n",
       "      <td>http://playnomore.co.kr/product/bag-micro-moon...</td>\n",
       "      <td>$ 180</td>\n",
       "      <td>[BAG] MICRO MOON olive</td>\n",
       "    </tr>\n",
       "  </tbody>\n",
       "</table>\n",
       "</div>"
      ],
      "text/plain": [
       "                                                  img  \\\n",
       "0   http://playnomore.co.kr/web/product/big/202007...   \n",
       "1   http://playnomore.co.kr/web/product/big/202007...   \n",
       "2   http://playnomore.co.kr/web/product/big/202009...   \n",
       "3   http://playnomore.co.kr/web/product/big/202007...   \n",
       "4   http://playnomore.co.kr/web/product/big/201612...   \n",
       "5   http://playnomore.co.kr/web/product/big/202101...   \n",
       "6   http://playnomore.co.kr/web/product/big/202012...   \n",
       "7   http://playnomore.co.kr/web/product/big/202009...   \n",
       "8   http://playnomore.co.kr/web/product/big/202003...   \n",
       "9   http://playnomore.co.kr/web/product/big/202101...   \n",
       "10  http://playnomore.co.kr/web/product/big/202007...   \n",
       "11  http://playnomore.co.kr/web/product/big/202101...   \n",
       "12  http://playnomore.co.kr/web/product/big/202007...   \n",
       "13  http://playnomore.co.kr/web/product/big/201909...   \n",
       "14  http://playnomore.co.kr/web/product/big/201909...   \n",
       "\n",
       "                                                 link  price  \\\n",
       "0   http://playnomore.co.kr/product/bag-micro-cand...  $ 180   \n",
       "1   http://playnomore.co.kr/product/bag-micro-moon...  $ 180   \n",
       "2   http://playnomore.co.kr/product/bag-micro-cand...  $ 180   \n",
       "3   http://playnomore.co.kr/product/bag-micro-cand...  $ 180   \n",
       "4   http://playnomore.co.kr/product/refurb-50-barb...  $ 227   \n",
       "5   http://playnomore.co.kr/product/little-spencer...  $ 255   \n",
       "6   http://playnomore.co.kr/product/bag-ultra-micr...  $ 100   \n",
       "7   http://playnomore.co.kr/product/bag-micro-cand...  $ 180   \n",
       "8   http://playnomore.co.kr/product/bag-im-your-sh...  $ 378   \n",
       "9   http://playnomore.co.kr/product/bag-shygirl-la...  $ 330   \n",
       "10  http://playnomore.co.kr/product/bag-micro-moon...  $ 180   \n",
       "11  http://playnomore.co.kr/product/bag-rainbow-ho...  $ 180   \n",
       "12  http://playnomore.co.kr/product/bag-micro-moon...  $ 180   \n",
       "13  http://playnomore.co.kr/product/bag-micro-moon...  $ 180   \n",
       "14  http://playnomore.co.kr/product/bag-micro-moon...  $ 180   \n",
       "\n",
       "                                  title  \n",
       "0               [BAG] MICRO CANDY white  \n",
       "1                [BAG] MICRO MOON black  \n",
       "2         [BAG] MICRO CANDY powder blue  \n",
       "3             [BAG] MICRO CANDY natural  \n",
       "4   [Refurb 50%] BARBIE BUCKETdeep grey  \n",
       "5               LITTLE SPENCER 6 colors  \n",
       "6               [BAG] ULTRA MICRO CANDY  \n",
       "7                [BAG] MICRO CANDY pink  \n",
       "8      [BAG] I'M YOUR SHYSTAR rose gold  \n",
       "9                [BAG] SHYGIRL lavender  \n",
       "10               [BAG] MICRO MOON ivory  \n",
       "11            [BAG] RAINBOW HOBO almond  \n",
       "12           [BAG] MICRO MOON indi pink  \n",
       "13           [BAG] MICRO MOON chocolate  \n",
       "14               [BAG] MICRO MOON olive  "
      ]
     },
     "execution_count": 88,
     "metadata": {},
     "output_type": "execute_result"
    }
   ],
   "source": [
    "pd.read_csv('./playnomore/playnomore.csv')"
   ]
  },
  {
   "cell_type": "markdown",
   "id": "under-island",
   "metadata": {},
   "source": [
    "### MongoDB에 저장\n",
    "- pymongo를 pipelines.py에 적용"
   ]
  },
  {
   "cell_type": "code",
   "execution_count": 64,
   "id": "incorporated-emerald",
   "metadata": {
    "ExecuteTime": {
     "end_time": "2021-03-16T01:22:40.538924Z",
     "start_time": "2021-03-16T01:22:39.444352Z"
    }
   },
   "outputs": [],
   "source": [
    "!pip list | grep mongo"
   ]
  },
  {
   "cell_type": "code",
   "execution_count": 65,
   "id": "willing-corporation",
   "metadata": {
    "ExecuteTime": {
     "end_time": "2021-03-16T01:23:04.599385Z",
     "start_time": "2021-03-16T01:22:51.645560Z"
    }
   },
   "outputs": [
    {
     "name": "stdout",
     "output_type": "stream",
     "text": [
      "Collecting pymongo==2.8.1\n",
      "  Downloading pymongo-2.8.1.tar.gz (399 kB)\n",
      "Building wheels for collected packages: pymongo\n",
      "  Building wheel for pymongo (setup.py): started\n",
      "  Building wheel for pymongo (setup.py): finished with status 'done'\n",
      "  Created wheel for pymongo: filename=pymongo-2.8.1-cp38-cp38-win_amd64.whl size=188936 sha256=5bd6fc1cbd3d7c789cb61bd4719a2c66838f97d263cdd7d466c9c7aa3bbf6648\n",
      "  Stored in directory: c:\\users\\hobin\\appdata\\local\\pip\\cache\\wheels\\1e\\d1\\fc\\91662df05049865295e091470109bda879e74c64229ffe0f5a\n",
      "Successfully built pymongo\n",
      "Installing collected packages: pymongo\n",
      "Successfully installed pymongo-2.8.1\n"
     ]
    }
   ],
   "source": [
    "!pip install pymongo==2.8.1"
   ]
  },
  {
   "cell_type": "code",
   "execution_count": 66,
   "id": "persistent-albert",
   "metadata": {
    "ExecuteTime": {
     "end_time": "2021-03-16T01:23:08.250492Z",
     "start_time": "2021-03-16T01:23:08.189292Z"
    }
   },
   "outputs": [],
   "source": [
    "import pymongo"
   ]
  },
  {
   "cell_type": "code",
   "execution_count": 68,
   "id": "convenient-assembly",
   "metadata": {
    "ExecuteTime": {
     "end_time": "2021-03-16T01:24:29.805475Z",
     "start_time": "2021-03-16T01:24:29.784529Z"
    }
   },
   "outputs": [
    {
     "data": {
      "text/plain": [
       "MongoClient('13.125.238.128', 27017)"
      ]
     },
     "execution_count": 68,
     "metadata": {},
     "output_type": "execute_result"
    }
   ],
   "source": [
    "client = pymongo.MongoClient('mongodb://13.125.238.128:27017')\n",
    "client"
   ]
  },
  {
   "cell_type": "code",
   "execution_count": 69,
   "id": "radical-insurance",
   "metadata": {
    "ExecuteTime": {
     "end_time": "2021-03-16T01:24:45.239005Z",
     "start_time": "2021-03-16T01:24:45.227036Z"
    }
   },
   "outputs": [],
   "source": [
    "db = client.playnomore\n",
    "collection = db.bags"
   ]
  },
  {
   "cell_type": "code",
   "execution_count": 70,
   "id": "light-lying",
   "metadata": {
    "ExecuteTime": {
     "end_time": "2021-03-16T01:25:27.010897Z",
     "start_time": "2021-03-16T01:25:26.963960Z"
    }
   },
   "outputs": [
    {
     "data": {
      "text/plain": [
       "ObjectId('60500906fa6c7f1698dab5ca')"
      ]
     },
     "execution_count": 70,
     "metadata": {},
     "output_type": "execute_result"
    }
   ],
   "source": [
    "data = {'title':'가방'}\n",
    "collection.insert(data)"
   ]
  },
  {
   "cell_type": "markdown",
   "id": "agreed-remedy",
   "metadata": {},
   "source": [
    "##### mongodb 모듈 파일 생성\n",
    "- 모듈파일을 생성해서 파이프라인에서 import해서 가져와서 쓸 거임"
   ]
  },
  {
   "cell_type": "code",
   "execution_count": 71,
   "id": "orange-distance",
   "metadata": {
    "ExecuteTime": {
     "end_time": "2021-03-16T04:12:41.984534Z",
     "start_time": "2021-03-16T04:12:41.966585Z"
    }
   },
   "outputs": [
    {
     "name": "stdout",
     "output_type": "stream",
     "text": [
      "Writing playnomore/playnomore/mongodb.py\n"
     ]
    }
   ],
   "source": [
    "%%writefile playnomore/playnomore/mongodb.py\n",
    "import pymongo\n",
    "\n",
    "client = pymongo.MongoClient('mongodb://13.125.238.128:27017')\n",
    "db = client.playnomore\n",
    "collection = db.bags"
   ]
  },
  {
   "cell_type": "code",
   "execution_count": 72,
   "id": "silent-elder",
   "metadata": {
    "ExecuteTime": {
     "end_time": "2021-03-16T04:14:52.854463Z",
     "start_time": "2021-03-16T04:14:52.754262Z"
    }
   },
   "outputs": [
    {
     "name": "stdout",
     "output_type": "stream",
     "text": [
      "# Define your item pipelines here\n",
      "#\n",
      "# Don't forget to add your pipeline to the ITEM_PIPELINES setting\n",
      "# See: https://docs.scrapy.org/en/latest/topics/item-pipeline.html\n",
      "\n",
      "\n",
      "# useful for handling different item types with a single interface\n",
      "from itemadapter import ItemAdapter\n",
      "\n",
      "\n",
      "class PlaynomorePipeline:\n",
      "    def process_item(self, item, spider):\n",
      "        return item\n"
     ]
    }
   ],
   "source": [
    "!cat playnomore/playnomore/pipelines.py"
   ]
  },
  {
   "cell_type": "code",
   "execution_count": 73,
   "id": "better-consciousness",
   "metadata": {
    "ExecuteTime": {
     "end_time": "2021-03-16T04:19:32.704399Z",
     "start_time": "2021-03-16T04:19:32.687445Z"
    }
   },
   "outputs": [
    {
     "name": "stdout",
     "output_type": "stream",
     "text": [
      "Overwriting playnomore/playnomore/pipelines.py\n"
     ]
    }
   ],
   "source": [
    "%%writefile playnomore/playnomore/pipelines.py\n",
    "from .mongodb import collection\n",
    "\n",
    "class PlaynomorePipeline:\n",
    "    def process_item(self, item, spider):\n",
    "        \n",
    "        data = { 'title' : item['title'], \n",
    "                'price':item['price'],\n",
    "               'img':item['img'],\n",
    "                'link':item['link']}\n",
    "        \n",
    "        collection.insert(data)\n",
    "        \n",
    "        return item"
   ]
  },
  {
   "cell_type": "code",
   "execution_count": null,
   "id": "strong-tanzania",
   "metadata": {},
   "outputs": [],
   "source": []
  },
  {
   "cell_type": "code",
   "execution_count": 74,
   "id": "blessed-grove",
   "metadata": {
    "ExecuteTime": {
     "end_time": "2021-03-16T04:21:21.451219Z",
     "start_time": "2021-03-16T04:21:21.401746Z"
    }
   },
   "outputs": [],
   "source": [
    "!echo \"ITEM_PIPELINES = {\" >> playnomore/playnomore/settings.py"
   ]
  },
  {
   "cell_type": "code",
   "execution_count": 75,
   "id": "alleged-aaron",
   "metadata": {
    "ExecuteTime": {
     "end_time": "2021-03-16T04:21:21.638075Z",
     "start_time": "2021-03-16T04:21:21.597740Z"
    }
   },
   "outputs": [],
   "source": [
    "!echo \"    'playnomore.pipelines.PlaynomorePipelines': 300,\" >> playnomore/playnomore/settings.py"
   ]
  },
  {
   "cell_type": "code",
   "execution_count": 76,
   "id": "arabic-model",
   "metadata": {
    "ExecuteTime": {
     "end_time": "2021-03-16T04:21:37.341799Z",
     "start_time": "2021-03-16T04:21:37.289760Z"
    }
   },
   "outputs": [],
   "source": [
    "!echo \"}\" >> playnomore/playnomore/settings.py"
   ]
  },
  {
   "cell_type": "code",
   "execution_count": 91,
   "id": "lyric-blank",
   "metadata": {
    "ExecuteTime": {
     "end_time": "2021-03-16T04:33:03.529168Z",
     "start_time": "2021-03-16T04:33:03.458247Z"
    }
   },
   "outputs": [
    {
     "name": "stdout",
     "output_type": "stream",
     "text": [
      "#HTTPCACHE_IGNORE_HTTP_CODES = []\n",
      "#HTTPCACHE_STORAGE = 'scrapy.extensions.httpcache.FilesystemCacheStorage'\n",
      "\"ITEM_PIPELINES = {\" \n",
      "\"    'playnomore.pipelines.PlaynomorePipeline': 300,\" \n",
      "\"}\" \n"
     ]
    }
   ],
   "source": [
    "!tail -n 5 playnomore/playnomore/settings.py"
   ]
  },
  {
   "cell_type": "code",
   "execution_count": 92,
   "id": "challenging-reporter",
   "metadata": {
    "ExecuteTime": {
     "end_time": "2021-03-16T04:33:03.985056Z",
     "start_time": "2021-03-16T04:33:03.900170Z"
    }
   },
   "outputs": [
    {
     "name": "stdout",
     "output_type": "stream",
     "text": [
      "cd playnomore\n",
      "scrapy crawl Playnomore -o playnomore.csv -a category1=bag -a category2=24\n"
     ]
    }
   ],
   "source": [
    "!cat run.sh"
   ]
  },
  {
   "cell_type": "code",
   "execution_count": 93,
   "id": "vertical-trick",
   "metadata": {
    "ExecuteTime": {
     "end_time": "2021-03-16T04:33:10.276016Z",
     "start_time": "2021-03-16T04:33:06.420409Z"
    }
   },
   "outputs": [],
   "source": [
    "!run.sh"
   ]
  },
  {
   "cell_type": "code",
   "execution_count": null,
   "id": "descending-probability",
   "metadata": {},
   "outputs": [],
   "source": []
  },
  {
   "cell_type": "code",
   "execution_count": null,
   "id": "treated-brick",
   "metadata": {},
   "outputs": [],
   "source": []
  },
  {
   "cell_type": "code",
   "execution_count": null,
   "id": "noticed-lafayette",
   "metadata": {},
   "outputs": [],
   "source": []
  },
  {
   "cell_type": "code",
   "execution_count": null,
   "id": "guided-partition",
   "metadata": {},
   "outputs": [],
   "source": []
  },
  {
   "cell_type": "code",
   "execution_count": null,
   "id": "essential-lafayette",
   "metadata": {},
   "outputs": [],
   "source": []
  },
  {
   "cell_type": "code",
   "execution_count": null,
   "id": "tired-studio",
   "metadata": {},
   "outputs": [],
   "source": []
  },
  {
   "cell_type": "code",
   "execution_count": null,
   "id": "military-chosen",
   "metadata": {},
   "outputs": [],
   "source": []
  },
  {
   "cell_type": "code",
   "execution_count": null,
   "id": "ongoing-sewing",
   "metadata": {},
   "outputs": [],
   "source": []
  },
  {
   "cell_type": "code",
   "execution_count": null,
   "id": "offshore-observation",
   "metadata": {},
   "outputs": [],
   "source": []
  },
  {
   "cell_type": "code",
   "execution_count": null,
   "id": "skilled-treasury",
   "metadata": {},
   "outputs": [],
   "source": []
  },
  {
   "cell_type": "code",
   "execution_count": null,
   "id": "covered-curve",
   "metadata": {},
   "outputs": [],
   "source": []
  }
 ],
 "metadata": {
  "hide_input": false,
  "kernelspec": {
   "display_name": "Python 3",
   "language": "python",
   "name": "python3"
  },
  "language_info": {
   "codemirror_mode": {
    "name": "ipython",
    "version": 3
   },
   "file_extension": ".py",
   "mimetype": "text/x-python",
   "name": "python",
   "nbconvert_exporter": "python",
   "pygments_lexer": "ipython3",
   "version": "3.8.5"
  },
  "toc": {
   "base_numbering": 1,
   "nav_menu": {},
   "number_sections": true,
   "sideBar": true,
   "skip_h1_title": false,
   "title_cell": "Table of Contents",
   "title_sidebar": "Contents",
   "toc_cell": false,
   "toc_position": {},
   "toc_section_display": true,
   "toc_window_display": false
  },
  "varInspector": {
   "cols": {
    "lenName": 16,
    "lenType": 16,
    "lenVar": 40
   },
   "kernels_config": {
    "python": {
     "delete_cmd_postfix": "",
     "delete_cmd_prefix": "del ",
     "library": "var_list.py",
     "varRefreshCmd": "print(var_dic_list())"
    },
    "r": {
     "delete_cmd_postfix": ") ",
     "delete_cmd_prefix": "rm(",
     "library": "var_list.r",
     "varRefreshCmd": "cat(var_dic_list()) "
    }
   },
   "types_to_exclude": [
    "module",
    "function",
    "builtin_function_or_method",
    "instance",
    "_Feature"
   ],
   "window_display": false
  }
 },
 "nbformat": 4,
 "nbformat_minor": 5
}
