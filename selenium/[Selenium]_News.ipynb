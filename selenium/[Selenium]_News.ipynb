{
 "cells": [
  {
   "cell_type": "markdown",
   "metadata": {},
   "source": [
    "## 네이버 기사 제목 데이터 크롤링\n",
    "- selenium을 이용한 텍스트 데이터 수집\n",
    "- thread를 사용한 데이터 수집\n",
    "    - request -> (idle time : 그냥 기다림) -> response 하는 프로세스 방식에서\n",
    "    - idle time에 다음 번 request를 날리는 방식\n",
    "        - 한 40%까지 속도가 개선됨\n",
    "    - celery를 공부하면 이 방식을 쉽게 할 수 있음"
   ]
  },
  {
   "cell_type": "code",
   "execution_count": 4,
   "metadata": {
    "ExecuteTime": {
     "end_time": "2021-05-29T12:42:05.201692Z",
     "start_time": "2021-05-29T12:42:05.192685Z"
    }
   },
   "outputs": [],
   "source": [
    "from selenium import webdriver"
   ]
  },
  {
   "cell_type": "code",
   "execution_count": 5,
   "metadata": {
    "ExecuteTime": {
     "end_time": "2021-05-29T12:42:05.684269Z",
     "start_time": "2021-05-29T12:42:05.679282Z"
    }
   },
   "outputs": [],
   "source": [
    "page = 2\n",
    "url = 'https://news.naver.com/main/main.nhn?mode=LSD&mid=shm&sid1=105#&date=%2000:00:00&page={}'.format(page)"
   ]
  },
  {
   "cell_type": "code",
   "execution_count": 6,
   "metadata": {
    "ExecuteTime": {
     "end_time": "2021-05-29T12:42:07.870021Z",
     "start_time": "2021-05-29T12:42:06.377145Z"
    }
   },
   "outputs": [],
   "source": [
    "driver = webdriver.Chrome()"
   ]
  },
  {
   "cell_type": "code",
   "execution_count": 9,
   "metadata": {
    "ExecuteTime": {
     "end_time": "2021-01-25T06:47:59.504542Z",
     "start_time": "2021-01-25T06:47:58.635058Z"
    }
   },
   "outputs": [],
   "source": [
    "driver.get(url)"
   ]
  },
  {
   "cell_type": "code",
   "execution_count": 10,
   "metadata": {
    "ExecuteTime": {
     "end_time": "2021-01-25T06:52:02.604644Z",
     "start_time": "2021-01-25T06:52:02.571737Z"
    }
   },
   "outputs": [
    {
     "data": {
      "text/plain": [
       "20"
      ]
     },
     "execution_count": 10,
     "metadata": {},
     "output_type": "execute_result"
    }
   ],
   "source": [
    "articles = driver.find_elements_by_css_selector(\"#section_body li\")\n",
    "len(articles)"
   ]
  },
  {
   "cell_type": "code",
   "execution_count": 11,
   "metadata": {
    "ExecuteTime": {
     "end_time": "2021-01-25T06:55:39.539404Z",
     "start_time": "2021-01-25T06:55:39.502479Z"
    }
   },
   "outputs": [
    {
     "data": {
      "text/plain": [
       "'[단독] 공정위, ‘게임사 갑질’ 의혹 구글에 과징금 500억원 부과 방침'"
      ]
     },
     "execution_count": 11,
     "metadata": {},
     "output_type": "execute_result"
    }
   ],
   "source": [
    "articles[0].find_element_by_css_selector('dt:not(.photo) > a').text"
   ]
  },
  {
   "cell_type": "code",
   "execution_count": 13,
   "metadata": {
    "ExecuteTime": {
     "end_time": "2021-01-25T06:56:28.071686Z",
     "start_time": "2021-01-25T06:56:27.709815Z"
    },
    "scrolled": true
   },
   "outputs": [
    {
     "data": {
      "text/plain": [
       "['[단독] 공정위, ‘게임사 갑질’ 의혹 구글에 과징금 500억원 부과 방침',\n",
       " '격동의 가상자산 금융, 대응방안은?',\n",
       " 'e커머스 납품 중소상공인 숨통…김병욱 의원 발의안 관심',\n",
       " '바이오니아, 섬유화증 RNAi 치료제 국내 물질 특허 등록',\n",
       " '“진짜 아이유?” 틱톡에 등장한 똑같은 ‘차이유’ [IT선빵!]',\n",
       " '플랫바이오-지바이오로직스, 항암신약개발 공동연구 협약',\n",
       " '새로운 디스플레이 재료, 색변환 140배 빨라졌다',\n",
       " '‘자발’이라 쓰고 ‘강제’로 읽히는 이익공유제',\n",
       " '암모니아서 수소 40% 더 생산…`새 촉매공정` 개발',\n",
       " \"스페이스X, '위성 승차공유 서비스'로 한번에 위성 143기 쐈다\",\n",
       " \"올해 맥북 에어·프로, '편의성' 중심 디자인 개편하나\",\n",
       " '화학연, 고효율 수소 생산공정 개발',\n",
       " 'LG전자, 식기세척기 매출 3배 늘었다',\n",
       " \"소니, 아이폰12 대항마 '엑스페리아 콤팩트' 내놓나\",\n",
       " '암모니아 54ℓ를 1시간만에 수소·질소로 다 바꿨다',\n",
       " 'AI가 포털 뉴스 편집하자…\"심층 기사 대신 \\'클릭용\\' 쏟아낸 언론\"',\n",
       " '이용호 의원 “과학고 졸업생 중 85%만 이공계 진학”',\n",
       " '100도 낮은 온도에서 수소 40% 더 많이 만든다',\n",
       " \"전하이동도 높인 유기반도체 소재 개발…'롤러블 가전' 대중화 시대 여나\",\n",
       " '벤처기업, 혁신성장 주역 `우뚝`…‘천억클럽’ 617개사 달해']"
      ]
     },
     "execution_count": 13,
     "metadata": {},
     "output_type": "execute_result"
    }
   ],
   "source": [
    "article_list = []\n",
    "\n",
    "for article in articles:\n",
    "    title = article.find_element_by_css_selector('dt:not(.photo) > a').text\n",
    "    article_list.append(title)\n",
    "    \n",
    "article_list"
   ]
  },
  {
   "cell_type": "code",
   "execution_count": 7,
   "metadata": {
    "ExecuteTime": {
     "end_time": "2021-05-29T12:42:22.568578Z",
     "start_time": "2021-05-29T12:42:20.497026Z"
    }
   },
   "outputs": [],
   "source": [
    "driver.quit()"
   ]
  },
  {
   "cell_type": "code",
   "execution_count": 15,
   "metadata": {
    "ExecuteTime": {
     "end_time": "2021-01-25T07:01:18.448430Z",
     "start_time": "2021-01-25T07:01:18.435493Z"
    }
   },
   "outputs": [],
   "source": [
    "from selenium import webdriver\n",
    "article_list = []\n",
    "\n",
    "def naver_it_article(pageno):\n",
    "    url = 'https://news.naver.com/main/main.nhn?mode=LSD&mid=shm&sid1=105#&date=%2000:00:00&page={}'.format(pageno)\n",
    "    driver = webdriver.Chrome()\n",
    "    driver.get(url)\n",
    "    articles = driver.find_elements_by_css_selector('#section_body li')\n",
    "    for article in articles:\n",
    "        title = article.find_element_by_css_selector('dt:not(.photo) > a').text\n",
    "        article_list.append(title)\n",
    "    print('Crawling : {}'.format(pageno))\n",
    "    driver.quit()"
   ]
  },
  {
   "cell_type": "code",
   "execution_count": 16,
   "metadata": {
    "ExecuteTime": {
     "end_time": "2021-01-25T07:02:00.111389Z",
     "start_time": "2021-01-25T07:01:36.634952Z"
    }
   },
   "outputs": [
    {
     "name": "stdout",
     "output_type": "stream",
     "text": [
      "Crawling : 1\n",
      "Crawling : 2\n",
      "Crawling : 3\n",
      "Crawling : 4\n",
      "Wall time: 23.5 s\n"
     ]
    }
   ],
   "source": [
    "%%time\n",
    "for page in range(1,5):\n",
    "    naver_it_article(page)"
   ]
  },
  {
   "cell_type": "code",
   "execution_count": 18,
   "metadata": {
    "ExecuteTime": {
     "end_time": "2021-01-25T07:02:11.077354Z",
     "start_time": "2021-01-25T07:02:11.061428Z"
    },
    "scrolled": true
   },
   "outputs": [
    {
     "data": {
      "text/plain": [
       "['삼성전자 이재용 부회장 징역 2년6개월 확정…양측 “재상고 안 해”',\n",
       " '‘갤럭시S21’ 15만원이면 산다…방통위 투명화 조치도 ‘무용지물’',\n",
       " '\"올해 한국 진출한다\" 디즈니+에 이통3사 연초부터 \\'뜨거운 구애\\'',\n",
       " '“2029년 지구 근접 소행성 탐사해보자”',\n",
       " \"'해킹 불가' 양자보안 뜬다…금융·스마트폰으로 확산\",\n",
       " '골치아픈 연말정산 민간 인증서로…카카오·통신사·NHN 경쟁',\n",
       " '온라인 요금제 가입·모바일로 서류 제출…\"대리점 갈 일 없네\"',\n",
       " \"삼성 '갤럭시 버즈 프로' 외부소음 99% 차단…무선 이어폰 소리없는 전쟁\",\n",
       " '\"차 키·스마트폰·반려견 어디 갔지?…\\'갤럭시 스마트태그\\' 있으면 걱정 NO',\n",
       " \"'글로벌 강자' 스포티파이 온다…음원 스트리밍 '무한경쟁' 예고\",\n",
       " '갤S21, 연간 240만대 판매 예상…\"갤S20보다 40% 늘어날 듯\"',\n",
       " '[기자수첩] 5G 먹거리는 B2B에서',\n",
       " '예병태 쌍용차 대표 \"1~2월 급여 50%만 지급...면목 없다\"',\n",
       " \"'K-웹툰+넷플릭스=흥행' 네이버·카카오가 드라마 제작 나서는 이유\",\n",
       " '화내다 가슴 움켜쥔채 털썩···스트레스가 심장마비 부른다',\n",
       " '승승장구 디파이 토큰, 거래소 상장 1순위 꿰차',\n",
       " \"비상금 쉽게 관리하는 카카오페이 '미니금고'…예수금 1100억원 돌파\",\n",
       " '박정호 SKT CEO “포스트-팬데믹 원년, 기술 진보 대비해야”',\n",
       " '\"미국 유학하고 돌아와 논문만 쓰는 연구는 이제 그만\"',\n",
       " '갤럭시S21, 흥행 성공할까…\"판매량 40% 늘 듯\"',\n",
       " '\"제발 자동차칩 좀 만들어달라\" 독일 장관, 대만 TSMC에 SOS',\n",
       " '\"벌점누적 매체 네이버·카카오 9곳 퇴출\"… 뉴스제휴평가위원회 결과 발표',\n",
       " \"UNIST, 전하이동도 가장 높은 '2차원 유기반도체 소재' 개발\",\n",
       " '재상고 포기한 이재용, \"재판부 판결 겸허히 수용\"...특검도 재상고 않기로',\n",
       " '[단독] 공정위, ‘게임사 갑질’ 의혹 구글에 시장지배력 남용 판단',\n",
       " '격동의 가상자산 금융, 대응방안은?',\n",
       " 'e커머스 납품 중소상공인 숨통…김병욱 의원 발의안 관심',\n",
       " '바이오니아, 섬유화증 RNAi 치료제 국내 물질 특허 등록',\n",
       " '“진짜 아이유?” 틱톡에 등장한 똑같은 ‘차이유’ [IT선빵!]',\n",
       " '플랫바이오-지바이오로직스, 항암신약개발 공동연구 협약',\n",
       " '새로운 디스플레이 재료, 색변환 140배 빨라졌다',\n",
       " '‘자발’이라 쓰고 ‘강제’로 읽히는 이익공유제',\n",
       " '암모니아서 수소 40% 더 생산…`새 촉매공정` 개발',\n",
       " \"스페이스X, '위성 승차공유 서비스'로 한번에 위성 143기 쐈다\",\n",
       " \"올해 맥북 에어·프로, '편의성' 중심 디자인 개편하나\",\n",
       " '화학연, 고효율 수소 생산공정 개발',\n",
       " \"핵융합연 '1억도 초고온 플라즈마 30초 유지' 도전\",\n",
       " 'LG전자, 식기세척기 매출 3배 늘었다',\n",
       " \"소니, 아이폰12 대항마 '엑스페리아 콤팩트' 내놓나\",\n",
       " '암모니아 54ℓ를 1시간만에 수소·질소로 다 바꿨다',\n",
       " 'AI가 포털 뉴스 편집하자…\"심층 기사 대신 \\'클릭용\\' 쏟아낸 언론\"',\n",
       " '이용호 의원 “과학고 졸업생 중 85%만 이공계 진학”',\n",
       " '100도 낮은 온도에서 수소 40% 더 많이 만든다',\n",
       " \"전하이동도 높인 유기반도체 소재 개발…'롤러블 가전' 대중화 시대 여나\",\n",
       " '벤처기업, 혁신성장 주역 `우뚝`…‘천억클럽’ 617개사 달해',\n",
       " '터치 세번에 딥페이크 영상 \\'뚝딱\\'…\"초등학생도 하겠는데\"',\n",
       " '인텔·TSMC에 밀린 삼성 반도체…“시스템 반도체 역량 확보 시급”',\n",
       " '\"이루다는 성장통…AI 혁신·윤리 둘 다 지켜야\" [신현보의 데이터人]',\n",
       " '에어팟맥스, 명료한 음질재생 몰입감 높였지만… 385g 무게·가격 부담감도 높였네',\n",
       " '신한은행, 모바일 뱅킹 앱 불통…우리, 생체인증 오류',\n",
       " '\"국내 최초 AI로 알츠하이머 진단 소프트웨어 美FDA 승인\"',\n",
       " '예전만 못한 ‘폰 성지’…현금영수증 의무발행에 ‘ㅍㅇㅂ’ 축소',\n",
       " \"반도체 없어 자동차 공장 'STOP'…삼성 '美 증설' 현실화되나\",\n",
       " 'KBS 지역 유튜브 담당자 \"물거품 됐다\" 들고 일어난 이유',\n",
       " '이재용, 재상고 안 한다…\"판결 겸허히 수용\"',\n",
       " \"완치 어려운 코로나 후유증 '폐 섬유화' 치료제 개발 현황은…\",\n",
       " '\"공짜로 합성해 줄게요\" 그들은 딥페이크 음란물 왜 만드나',\n",
       " '10.5만명 딥페이크 피해자, 70%는 일반인…\"SNS 사진 훔쳐가\"',\n",
       " '\"인스타그램 알려주세요\" 연예인·친구 가리지 않는 \\'딥페이크\\'',\n",
       " '웨어러블 기기 적용 친환경 나노발전기 개발 청신호',\n",
       " '이더리움, 160만원 넘겨 신고가...\"전망 더 좋다\"',\n",
       " '쿠키런 킹덤, 구글 플레이 매출 순위 10위 진입 흥행 청신호',\n",
       " '애플 \"아이폰12, 심장 박동기 가까이 두지 마세요”',\n",
       " '울산·인천에 대형 수소화물차용 충전소 연내 구축',\n",
       " '“디지털 융합기술로 韓 미래 개척나서야”…KAIST 김정호 교수 ‘공학의 미래’ 출간',\n",
       " 'KTV ‘삼중수소’ 방송에…KAIST 교수 “1g 나와도 죽어요” 발끈',\n",
       " \"카카오페이 '미니금고' 두 달 만에 예수금 1천100억원\",\n",
       " '김범수 다 계획이 있었나…260억 주식받은 자녀 ‘아버지 회사’ 다닌다',\n",
       " '김범수 아들·딸 카카오 2대 주주 회사에 재직…“승계작업 무관” 해명',\n",
       " '“사람 아닌 인형 더이상 못 막는다!” 은밀한 성인 장난감 ‘리얼돌’ 몸살 [IT선빵!]',\n",
       " '이재용측 \"판결 겸허히 수용…재상고 하지 않기로\"',\n",
       " '\"고객 가상자산보다 거래소 자산 2배 더 많아\" 플라이빗',\n",
       " \"김범수 의장 두 자녀, 카카오 지주사격 '케이큐브홀딩스' 재직\",\n",
       " '네오위즈 스컬, 스팀 동접자 2만 근접...초반 반응 긍정적',\n",
       " '\"네이버 연예뉴스 알고리즘에 \\'단독\\' \\'종합\\' 꼼수 기승\"',\n",
       " \"'1등 디지코로 도약'…구현모 KT, AI·로봇 핵심인재 영입\",\n",
       " '텐센트, 60억 달러 대출...테이크투 인터랙티브 인수 나서나',\n",
       " \"천재 로봇과학자 데니스 홍 교수 영입한 KT, '탈통신' 속도\",\n",
       " '승계 준비 중?…김범수 의장 자녀, ‘케이큐브홀딩스’ 재직',\n",
       " '코로나19에 달라진 소비 패턴...해운 가격·체증↑']"
      ]
     },
     "execution_count": 18,
     "metadata": {},
     "output_type": "execute_result"
    }
   ],
   "source": [
    "article_list"
   ]
  },
  {
   "cell_type": "markdown",
   "metadata": {},
   "source": [
    "### Thread 기반"
   ]
  },
  {
   "cell_type": "code",
   "execution_count": 21,
   "metadata": {
    "ExecuteTime": {
     "end_time": "2021-01-25T07:15:16.573153Z",
     "start_time": "2021-01-25T07:15:16.562194Z"
    }
   },
   "outputs": [],
   "source": [
    "import threading"
   ]
  },
  {
   "cell_type": "code",
   "execution_count": 26,
   "metadata": {
    "ExecuteTime": {
     "end_time": "2021-01-25T07:20:10.778444Z",
     "start_time": "2021-01-25T07:20:10.754055Z"
    }
   },
   "outputs": [],
   "source": [
    "article_list = []\n",
    "\n",
    "for page in range(1,5):\n",
    "    th = threading.Thread(target = naver_it_article, args=(page,))\n",
    "    th.start()"
   ]
  },
  {
   "cell_type": "markdown",
   "metadata": {},
   "source": [
    "- 대부분은 이렇게 쓰진 않고, scrapy나 celery로 구현..."
   ]
  },
  {
   "cell_type": "markdown",
   "metadata": {},
   "source": [
    "- time.sleep(1) : 1초 뒤에 다음코드 실행 ... 이거 개꿀이네"
   ]
  },
  {
   "cell_type": "code",
   "execution_count": 27,
   "metadata": {
    "ExecuteTime": {
     "end_time": "2021-01-25T07:20:18.127536Z",
     "start_time": "2021-01-25T07:20:11.041476Z"
    }
   },
   "outputs": [
    {
     "name": "stdout",
     "output_type": "stream",
     "text": [
      "1 2 3 4 5 Crawling : 1\n",
      "Crawling : 2\n",
      "Crawling : 4\n",
      "6 Crawling : 3\n",
      "7 "
     ]
    }
   ],
   "source": [
    "import time\n",
    "sec = 0\n",
    "while len(article_list) < 80:\n",
    "    time.sleep(1)\n",
    "    sec += 1\n",
    "    print(sec, end=\" \")"
   ]
  },
  {
   "cell_type": "markdown",
   "metadata": {},
   "source": [
    "- Thread방식을 사용하니 약 7~8초 걸림"
   ]
  },
  {
   "cell_type": "code",
   "execution_count": null,
   "metadata": {},
   "outputs": [],
   "source": []
  },
  {
   "cell_type": "code",
   "execution_count": null,
   "metadata": {},
   "outputs": [],
   "source": []
  },
  {
   "cell_type": "code",
   "execution_count": null,
   "metadata": {},
   "outputs": [],
   "source": []
  },
  {
   "cell_type": "code",
   "execution_count": null,
   "metadata": {},
   "outputs": [],
   "source": []
  },
  {
   "cell_type": "code",
   "execution_count": null,
   "metadata": {},
   "outputs": [],
   "source": []
  },
  {
   "cell_type": "code",
   "execution_count": null,
   "metadata": {},
   "outputs": [],
   "source": []
  },
  {
   "cell_type": "code",
   "execution_count": null,
   "metadata": {},
   "outputs": [],
   "source": []
  },
  {
   "cell_type": "code",
   "execution_count": null,
   "metadata": {},
   "outputs": [],
   "source": []
  },
  {
   "cell_type": "code",
   "execution_count": null,
   "metadata": {},
   "outputs": [],
   "source": []
  }
 ],
 "metadata": {
  "hide_input": false,
  "kernelspec": {
   "display_name": "Python 3",
   "language": "python",
   "name": "python3"
  },
  "language_info": {
   "codemirror_mode": {
    "name": "ipython",
    "version": 3
   },
   "file_extension": ".py",
   "mimetype": "text/x-python",
   "name": "python",
   "nbconvert_exporter": "python",
   "pygments_lexer": "ipython3",
   "version": "3.8.5"
  },
  "toc": {
   "base_numbering": 1,
   "nav_menu": {},
   "number_sections": true,
   "sideBar": true,
   "skip_h1_title": false,
   "title_cell": "Table of Contents",
   "title_sidebar": "Contents",
   "toc_cell": false,
   "toc_position": {},
   "toc_section_display": true,
   "toc_window_display": false
  },
  "varInspector": {
   "cols": {
    "lenName": 16,
    "lenType": 16,
    "lenVar": 40
   },
   "kernels_config": {
    "python": {
     "delete_cmd_postfix": "",
     "delete_cmd_prefix": "del ",
     "library": "var_list.py",
     "varRefreshCmd": "print(var_dic_list())"
    },
    "r": {
     "delete_cmd_postfix": ") ",
     "delete_cmd_prefix": "rm(",
     "library": "var_list.r",
     "varRefreshCmd": "cat(var_dic_list()) "
    }
   },
   "types_to_exclude": [
    "module",
    "function",
    "builtin_function_or_method",
    "instance",
    "_Feature"
   ],
   "window_display": false
  }
 },
 "nbformat": 4,
 "nbformat_minor": 4
}
