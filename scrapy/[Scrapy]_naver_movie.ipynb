{
 "cells": [
  {
   "cell_type": "markdown",
   "id": "biblical-vintage",
   "metadata": {},
   "source": [
    "## Naver Movie\n",
    "- robots.txt 설정으로 크롤링 안됨."
   ]
  },
  {
   "cell_type": "markdown",
   "id": "removable-hanging",
   "metadata": {},
   "source": [
    "### 프로젝트 생성"
   ]
  },
  {
   "cell_type": "code",
   "execution_count": 2,
   "id": "daily-territory",
   "metadata": {
    "ExecuteTime": {
     "end_time": "2021-03-11T00:05:47.842417Z",
     "start_time": "2021-03-11T00:05:46.675324Z"
    }
   },
   "outputs": [
    {
     "name": "stdout",
     "output_type": "stream",
     "text": [
      "Error: scrapy.cfg already exists in C:\\jupyter_project\\data_science\\practice_web\\naver_movie\n"
     ]
    },
    {
     "name": "stderr",
     "output_type": "stream",
     "text": [
      ":0: UserWarning: You do not have a working installation of the service_identity module: 'No module named 'pyasn1_modules''.  Please install it from <https://pypi.python.org/pypi/service_identity> and make sure all of its dependencies are satisfied.  Without the service_identity module, Twisted can perform only rudimentary TLS client hostname verification.  Many valid certificate/hostname mappings may be rejected.\n"
     ]
    }
   ],
   "source": [
    "!scrapy startproject naver_movie"
   ]
  },
  {
   "cell_type": "markdown",
   "id": "caring-joining",
   "metadata": {},
   "source": [
    "### items 설정\n",
    "- https://movie.naver.com/movie/running/current.nhn\n",
    "- 제목, 관객수, 평점"
   ]
  },
  {
   "cell_type": "code",
   "execution_count": 3,
   "id": "orange-digit",
   "metadata": {
    "ExecuteTime": {
     "end_time": "2021-03-11T00:05:48.791814Z",
     "start_time": "2021-03-11T00:05:48.708422Z"
    }
   },
   "outputs": [
    {
     "name": "stdout",
     "output_type": "stream",
     "text": [
      "import scrapy\n",
      "\n",
      "\n",
      "class NaverMovieItem(scrapy.Item):\n",
      "    title = scrapy.Field()\n",
      "    count =  scrapy.Field()\n",
      "    star = scrapy.Field()\n"
     ]
    }
   ],
   "source": [
    "!cat naver_movie/naver_movie/items.py"
   ]
  },
  {
   "cell_type": "code",
   "execution_count": 4,
   "id": "extraordinary-personal",
   "metadata": {
    "ExecuteTime": {
     "end_time": "2021-03-11T00:05:48.968129Z",
     "start_time": "2021-03-11T00:05:48.951688Z"
    }
   },
   "outputs": [
    {
     "name": "stdout",
     "output_type": "stream",
     "text": [
      "Overwriting naver_movie/naver_movie/items.py\n"
     ]
    }
   ],
   "source": [
    "%%writefile naver_movie/naver_movie/items.py\n",
    "import scrapy\n",
    "\n",
    "\n",
    "class NaverMovieItem(scrapy.Item):\n",
    "    title = scrapy.Field()\n",
    "    count =  scrapy.Field()\n",
    "    star = scrapy.Field()"
   ]
  },
  {
   "cell_type": "markdown",
   "id": "rising-albuquerque",
   "metadata": {},
   "source": [
    "### xpath 확인"
   ]
  },
  {
   "cell_type": "code",
   "execution_count": 5,
   "id": "ambient-performance",
   "metadata": {
    "ExecuteTime": {
     "end_time": "2021-03-11T00:05:57.092592Z",
     "start_time": "2021-03-11T00:05:55.200815Z"
    }
   },
   "outputs": [
    {
     "name": "stderr",
     "output_type": "stream",
     "text": [
      ":0: UserWarning: You do not have a working installation of the service_identity module: 'No module named 'pyasn1_modules''.  Please install it from <https://pypi.python.org/pypi/service_identity> and make sure all of its dependencies are satisfied.  Without the service_identity module, Twisted can perform only rudimentary TLS client hostname verification.  Many valid certificate/hostname mappings may be rejected.\n"
     ]
    }
   ],
   "source": [
    "import requests\n",
    "import scrapy\n",
    "from scrapy.http import TextResponse"
   ]
  },
  {
   "cell_type": "code",
   "execution_count": 61,
   "id": "prime-auckland",
   "metadata": {
    "ExecuteTime": {
     "end_time": "2021-03-11T00:38:26.886448Z",
     "start_time": "2021-03-11T00:38:26.747367Z"
    }
   },
   "outputs": [],
   "source": [
    "req=  requests.get('https://movie.naver.com/movie/running/current.nhn')\n",
    "response = TextResponse(req.url, body=req.text, encoding='utf-8')"
   ]
  },
  {
   "cell_type": "code",
   "execution_count": 62,
   "id": "dramatic-landscape",
   "metadata": {
    "ExecuteTime": {
     "end_time": "2021-03-11T00:38:27.474643Z",
     "start_time": "2021-03-11T00:38:27.396513Z"
    }
   },
   "outputs": [
    {
     "data": {
      "text/plain": [
       "(109, '/movie/bi/mi/basic.nhn?code=187310')"
      ]
     },
     "execution_count": 62,
     "metadata": {},
     "output_type": "execute_result"
    }
   ],
   "source": [
    "links = response.xpath('//*[@id=\"content\"]/div[1]/div[1]/div[3]/ul/li/dl/dt/a/@href').extract()\n",
    "len(links), links[0]"
   ]
  },
  {
   "cell_type": "code",
   "execution_count": 8,
   "id": "liable-senate",
   "metadata": {
    "ExecuteTime": {
     "end_time": "2021-03-11T00:05:57.738724Z",
     "start_time": "2021-03-11T00:05:57.733583Z"
    }
   },
   "outputs": [
    {
     "data": {
      "text/plain": [
       "'https://movie.naver.com/movie/bi/mi/basic.nhn?code=187310'"
      ]
     },
     "execution_count": 8,
     "metadata": {},
     "output_type": "execute_result"
    }
   ],
   "source": [
    "link = response.urljoin(links[0])\n",
    "link"
   ]
  },
  {
   "cell_type": "code",
   "execution_count": 9,
   "id": "aging-bermuda",
   "metadata": {
    "ExecuteTime": {
     "end_time": "2021-03-11T00:05:59.050857Z",
     "start_time": "2021-03-11T00:05:58.770004Z"
    }
   },
   "outputs": [],
   "source": [
    "# 상세 페이지 데이터 수집\n",
    "req = requests.get(link)\n",
    "response = TextResponse(req.url, body=req.text, encoding='utf-8')"
   ]
  },
  {
   "cell_type": "code",
   "execution_count": 10,
   "id": "increased-karaoke",
   "metadata": {
    "ExecuteTime": {
     "end_time": "2021-03-11T00:05:59.751323Z",
     "start_time": "2021-03-11T00:05:59.707822Z"
    }
   },
   "outputs": [
    {
     "data": {
      "text/plain": [
       "('미나리', '346,304명', '8.41')"
      ]
     },
     "execution_count": 10,
     "metadata": {},
     "output_type": "execute_result"
    }
   ],
   "source": [
    "title = response.xpath('//*[@id=\"content\"]/div[1]/div[2]/div[1]/h3/a[1]/text()').extract()[0]\n",
    "count = response.xpath('//*[@id=\"content\"]/div[1]/div[2]/div[1]/dl/dd[5]/div/p[2]/text()').extract()[0]\n",
    "star = response.xpath('//*[@id=\"actualPointPersentBasic\"]/div/em/text()').extract()\n",
    "\n",
    "star = ''.join(star)\n",
    "title, count, star"
   ]
  },
  {
   "cell_type": "markdown",
   "id": "recent-palestine",
   "metadata": {},
   "source": [
    "### spider.py 작성"
   ]
  },
  {
   "cell_type": "code",
   "execution_count": 76,
   "id": "modern-cycling",
   "metadata": {
    "ExecuteTime": {
     "end_time": "2021-03-11T00:50:39.790226Z",
     "start_time": "2021-03-11T00:50:39.773535Z"
    }
   },
   "outputs": [
    {
     "name": "stdout",
     "output_type": "stream",
     "text": [
      "Overwriting naver_movie/naver_movie/spiders/spider.py\n"
     ]
    }
   ],
   "source": [
    "%%writefile naver_movie/naver_movie/spiders/spider.py\n",
    "\n",
    "import scrapy\n",
    "from naver_movie.items import NaverMovieItem\n",
    "\n",
    "class Spider(scrapy.Spider):\n",
    "    name = 'NaverMovie'\n",
    "    allow_domain = ['movie.naver.com/']\n",
    "    start_urls = ['https://movie.naver.com/movie/running/current.nhn']\n",
    "    \n",
    "    def parse(self, response):\n",
    "        links = response.xpath('//*[@id=\"content\"]/div[1]/div[1]/div[3]/ul/li/dl/dt/a/@href').extract()\n",
    "        for link in links:\n",
    "            link = response.urljoin(link)\n",
    "        #link = response.xpath('//*[@id=\"content\"]/div[1]/div[1]/div[3]/ul/li/dl/dt/a/@href').extract()[0]\n",
    "        #link = response.urljoin(link)\n",
    "            yield scrapy.Request(link, callback = self.parse_page_contents)\n",
    "            \n",
    "    def parse_page_contents(self, response):\n",
    "        item = NaverMovieItem()\n",
    "        item['title'] = response.xpath('//*[@id=\"content\"]/div[1]/div[2]/div[1]/h3/a[1]/text()').extract()[0]\n",
    "        try:\n",
    "            item['count'] = response.xpath('//*[@id=\"content\"]/div[1]/div[2]/div[1]/dl/dd[5]/div/p[2]/text()').extract()[0]\n",
    "        except:\n",
    "            item['count'] = '0명'\n",
    "        star = response.xpath('//*[@id=\"actualPointPersentBasic\"]/div/em/text()').extract()\n",
    "        item['star'] = ''.join(star)\n",
    "        yield item"
   ]
  },
  {
   "cell_type": "markdown",
   "id": "raising-moldova",
   "metadata": {},
   "source": [
    "### scrapy 실행"
   ]
  },
  {
   "cell_type": "code",
   "execution_count": 77,
   "id": "naughty-cleaners",
   "metadata": {
    "ExecuteTime": {
     "end_time": "2021-03-11T00:50:42.464354Z",
     "start_time": "2021-03-11T00:50:42.445100Z"
    }
   },
   "outputs": [
    {
     "name": "stdout",
     "output_type": "stream",
     "text": [
      "Overwriting run.sh\n"
     ]
    }
   ],
   "source": [
    "%%writefile run.sh\n",
    "cd naver_movie\n",
    "scrapy crawl NaverMovie -o naver_movie.csv"
   ]
  },
  {
   "cell_type": "code",
   "execution_count": 73,
   "id": "associate-digest",
   "metadata": {
    "ExecuteTime": {
     "end_time": "2021-03-11T00:44:24.206550Z",
     "start_time": "2021-03-11T00:44:24.116223Z"
    }
   },
   "outputs": [],
   "source": [
    "!chmod +x run.sh"
   ]
  },
  {
   "cell_type": "code",
   "execution_count": 49,
   "id": "accurate-batman",
   "metadata": {
    "ExecuteTime": {
     "end_time": "2021-03-11T00:36:09.825216Z",
     "start_time": "2021-03-11T00:36:04.891818Z"
    }
   },
   "outputs": [],
   "source": [
    "!run.sh"
   ]
  },
  {
   "cell_type": "markdown",
   "id": "amber-avenue",
   "metadata": {},
   "source": [
    "### settings.py 파일 변경\n",
    "- robots.txt에 의해 forbidden됨"
   ]
  },
  {
   "cell_type": "code",
   "execution_count": 65,
   "id": "accomplished-raise",
   "metadata": {
    "ExecuteTime": {
     "end_time": "2021-03-11T00:39:04.026362Z",
     "start_time": "2021-03-11T00:39:03.939658Z"
    }
   },
   "outputs": [
    {
     "name": "stdout",
     "output_type": "stream",
     "text": [
      "#USER_AGENT = 'naver_movie (+http://www.yourdomain.com)'\n",
      "\n",
      "# Obey robots.txt rules\n",
      "ROBOTSTXT_OBEY = False\n",
      "\n"
     ]
    }
   ],
   "source": [
    "!head -n 21 naver_movie/naver_movie/settings.py | tail -n 5"
   ]
  },
  {
   "cell_type": "code",
   "execution_count": 66,
   "id": "manual-allowance",
   "metadata": {
    "ExecuteTime": {
     "end_time": "2021-03-11T00:39:06.606713Z",
     "start_time": "2021-03-11T00:39:06.516815Z"
    }
   },
   "outputs": [],
   "source": [
    "!sed -i 's/ROBOTSTXT_OBEY = True/ROBOTSTXT_OBEY = False/' naver_movie/naver_movie/settings.py"
   ]
  },
  {
   "cell_type": "code",
   "execution_count": 78,
   "id": "continuous-biodiversity",
   "metadata": {
    "ExecuteTime": {
     "end_time": "2021-03-11T00:51:47.942492Z",
     "start_time": "2021-03-11T00:51:29.567401Z"
    }
   },
   "outputs": [],
   "source": [
    "!run.sh"
   ]
  },
  {
   "cell_type": "code",
   "execution_count": 82,
   "id": "acquired-portal",
   "metadata": {
    "ExecuteTime": {
     "end_time": "2021-03-11T00:52:26.804544Z",
     "start_time": "2021-03-11T00:52:26.766843Z"
    }
   },
   "outputs": [
    {
     "data": {
      "text/html": [
       "<div>\n",
       "<style scoped>\n",
       "    .dataframe tbody tr th:only-of-type {\n",
       "        vertical-align: middle;\n",
       "    }\n",
       "\n",
       "    .dataframe tbody tr th {\n",
       "        vertical-align: top;\n",
       "    }\n",
       "\n",
       "    .dataframe thead th {\n",
       "        text-align: right;\n",
       "    }\n",
       "</style>\n",
       "<table border=\"1\" class=\"dataframe\">\n",
       "  <thead>\n",
       "    <tr style=\"text-align: right;\">\n",
       "      <th></th>\n",
       "      <th>count</th>\n",
       "      <th>star</th>\n",
       "      <th>title</th>\n",
       "    </tr>\n",
       "  </thead>\n",
       "  <tbody>\n",
       "    <tr>\n",
       "      <th>0</th>\n",
       "      <td>0명</td>\n",
       "      <td>6.50</td>\n",
       "      <td>리틀드래곤 코코넛2: 정글대탐험</td>\n",
       "    </tr>\n",
       "    <tr>\n",
       "      <th>1</th>\n",
       "      <td>0명</td>\n",
       "      <td>9.40</td>\n",
       "      <td>해리 포터와 불의 잔</td>\n",
       "    </tr>\n",
       "    <tr>\n",
       "      <th>2</th>\n",
       "      <td>0명</td>\n",
       "      <td>10.00</td>\n",
       "      <td>UFO 스케치</td>\n",
       "    </tr>\n",
       "    <tr>\n",
       "      <th>3</th>\n",
       "      <td>0명</td>\n",
       "      <td>7.83</td>\n",
       "      <td>프라미싱 영 우먼</td>\n",
       "    </tr>\n",
       "    <tr>\n",
       "      <th>4</th>\n",
       "      <td>0명</td>\n",
       "      <td>8.77</td>\n",
       "      <td>분노</td>\n",
       "    </tr>\n",
       "    <tr>\n",
       "      <th>...</th>\n",
       "      <td>...</td>\n",
       "      <td>...</td>\n",
       "      <td>...</td>\n",
       "    </tr>\n",
       "    <tr>\n",
       "      <th>104</th>\n",
       "      <td>0명</td>\n",
       "      <td>7.86</td>\n",
       "      <td>더 레이서</td>\n",
       "    </tr>\n",
       "    <tr>\n",
       "      <th>105</th>\n",
       "      <td>141,745명</td>\n",
       "      <td>7.34</td>\n",
       "      <td>카오스 워킹</td>\n",
       "    </tr>\n",
       "    <tr>\n",
       "      <th>106</th>\n",
       "      <td>0명</td>\n",
       "      <td>NaN</td>\n",
       "      <td>암모나이트</td>\n",
       "    </tr>\n",
       "    <tr>\n",
       "      <th>107</th>\n",
       "      <td>42,814명</td>\n",
       "      <td>9.36</td>\n",
       "      <td>중경삼림</td>\n",
       "    </tr>\n",
       "    <tr>\n",
       "      <th>108</th>\n",
       "      <td>420,551명</td>\n",
       "      <td>8.45</td>\n",
       "      <td>미션 파서블</td>\n",
       "    </tr>\n",
       "  </tbody>\n",
       "</table>\n",
       "<p>109 rows × 3 columns</p>\n",
       "</div>"
      ],
      "text/plain": [
       "        count   star              title\n",
       "0          0명   6.50  리틀드래곤 코코넛2: 정글대탐험\n",
       "1          0명   9.40        해리 포터와 불의 잔\n",
       "2          0명  10.00            UFO 스케치\n",
       "3          0명   7.83          프라미싱 영 우먼\n",
       "4          0명   8.77                 분노\n",
       "..        ...    ...                ...\n",
       "104        0명   7.86              더 레이서\n",
       "105  141,745명   7.34             카오스 워킹\n",
       "106        0명    NaN              암모나이트\n",
       "107   42,814명   9.36               중경삼림\n",
       "108  420,551명   8.45             미션 파서블\n",
       "\n",
       "[109 rows x 3 columns]"
      ]
     },
     "execution_count": 82,
     "metadata": {},
     "output_type": "execute_result"
    }
   ],
   "source": [
    "movie_data = pd.read_csv('./naver_movie/naver_movie.csv')\n",
    "movie_data"
   ]
  },
  {
   "cell_type": "code",
   "execution_count": 85,
   "id": "handy-hello",
   "metadata": {
    "ExecuteTime": {
     "end_time": "2021-03-11T00:52:55.327630Z",
     "start_time": "2021-03-11T00:52:55.310071Z"
    }
   },
   "outputs": [
    {
     "data": {
      "text/plain": [
       "True"
      ]
     },
     "execution_count": 85,
     "metadata": {},
     "output_type": "execute_result"
    }
   ],
   "source": [
    "'미나리' in movie_data.title.values"
   ]
  },
  {
   "cell_type": "code",
   "execution_count": null,
   "id": "described-stone",
   "metadata": {},
   "outputs": [],
   "source": []
  }
 ],
 "metadata": {
  "hide_input": false,
  "kernelspec": {
   "display_name": "Python 3",
   "language": "python",
   "name": "python3"
  },
  "language_info": {
   "codemirror_mode": {
    "name": "ipython",
    "version": 3
   },
   "file_extension": ".py",
   "mimetype": "text/x-python",
   "name": "python",
   "nbconvert_exporter": "python",
   "pygments_lexer": "ipython3",
   "version": "3.8.5"
  },
  "toc": {
   "base_numbering": 1,
   "nav_menu": {},
   "number_sections": true,
   "sideBar": true,
   "skip_h1_title": false,
   "title_cell": "Table of Contents",
   "title_sidebar": "Contents",
   "toc_cell": false,
   "toc_position": {},
   "toc_section_display": true,
   "toc_window_display": false
  },
  "varInspector": {
   "cols": {
    "lenName": 16,
    "lenType": 16,
    "lenVar": 40
   },
   "kernels_config": {
    "python": {
     "delete_cmd_postfix": "",
     "delete_cmd_prefix": "del ",
     "library": "var_list.py",
     "varRefreshCmd": "print(var_dic_list())"
    },
    "r": {
     "delete_cmd_postfix": ") ",
     "delete_cmd_prefix": "rm(",
     "library": "var_list.r",
     "varRefreshCmd": "cat(var_dic_list()) "
    }
   },
   "types_to_exclude": [
    "module",
    "function",
    "builtin_function_or_method",
    "instance",
    "_Feature"
   ],
   "window_display": false
  }
 },
 "nbformat": 4,
 "nbformat_minor": 5
}
