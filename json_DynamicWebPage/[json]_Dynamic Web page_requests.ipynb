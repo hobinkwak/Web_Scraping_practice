{
 "cells": [
  {
   "cell_type": "markdown",
   "metadata": {},
   "source": [
    "### 0. web crawling\n",
    "- 1. requests : json : 동적페이지 (url의 변경 없이 데이터를 수정 및 추가)\n",
    "    - 더보기 눌렀는데 url변경 없이 웹페이지 데이터가 늘어나는 것\n",
    "- 2. requests : html : 정적페이지 (url 변경으로 데이터를 수정 및 추가)\n",
    "- 3. selenium : web browser : 1, 2번 방법을 사용하지 못할 때 사용\n",
    "    - 속도가 느림.\n",
    "    - 대부분 성공."
   ]
  },
  {
   "cell_type": "markdown",
   "metadata": {},
   "source": [
    "### 1. 네이버 주식 데이터 크롤링\n",
    "- 코스피 데이터 수집\n",
    "- 코스닥 데이터 수집\n",
    "- USD 환율 데이터 수집\n",
    "- 그래프, 상관계수 확인"
   ]
  },
  {
   "cell_type": "markdown",
   "metadata": {},
   "source": [
    "### 2. 크롤링 절차\n",
    "- 1. 웹 서비스 분석 : URL 확인\n",
    "    - 구성이 simple한 모바일 페이지로 접속\n",
    "- 2. request, response : json 데이터(문자열)를 얻기\n",
    "- 3. json 데이터 (문자열) -> dict로 파싱 -> 데이터 프레임"
   ]
  },
  {
   "cell_type": "markdown",
   "metadata": {},
   "source": [
    "- F12 -> 개발자 도구 -> Network -> XHR 탭\n",
    "    - https://m.stock.naver.com/sise/siseIndex.nhn?code=KOSPI 에서 하단 더보기를 눌렀을 때, 증가되는 kospi 데이터가 어떤 포맷으로 되어있는지 확인 가능\n",
    "    - XHR은 json데이터만 띄움\n",
    "    - hearders 탭\n",
    "        - request url, request method, request status, user-agent 확인\n",
    "    - Response 탭\n",
    "        - 실제로 받아오는 데이터 (문자열)"
   ]
  },
  {
   "cell_type": "code",
   "execution_count": 2,
   "metadata": {
    "ExecuteTime": {
     "end_time": "2021-01-12T11:12:26.659799Z",
     "start_time": "2021-01-12T11:12:26.645756Z"
    }
   },
   "outputs": [],
   "source": [
    "import requests"
   ]
  },
  {
   "cell_type": "code",
   "execution_count": 3,
   "metadata": {
    "ExecuteTime": {
     "end_time": "2021-01-12T11:12:26.844897Z",
     "start_time": "2021-01-12T11:12:26.821272Z"
    }
   },
   "outputs": [
    {
     "name": "stdout",
     "output_type": "stream",
     "text": [
      "https://m.stock.naver.com/api/json/sise/dailySiseIndexListJson.nhn?code=KOSPI&pageSize=20&page=1\n"
     ]
    }
   ],
   "source": [
    "# 1. 웹서비스 분석 : URL 찾기\n",
    "code, page_size, page = 'KOSPI', '20','1'\n",
    "\n",
    "# request url 사용\n",
    "url = 'https://m.stock.naver.com/api/json/sise/dailySiseIndexListJson.nhn?code={}&pageSize={}&page={}'.format(code, page_size, page)\n",
    "print(url)"
   ]
  },
  {
   "cell_type": "code",
   "execution_count": 4,
   "metadata": {
    "ExecuteTime": {
     "end_time": "2021-01-12T11:12:27.039294Z",
     "start_time": "2021-01-12T11:12:26.940901Z"
    }
   },
   "outputs": [
    {
     "data": {
      "text/plain": [
       "<Response [200]>"
      ]
     },
     "execution_count": 4,
     "metadata": {},
     "output_type": "execute_result"
    }
   ],
   "source": [
    "# 2. request, response : json 포맷의 데이터를 문자열로 가져오기\n",
    "response = requests.get(url)\n",
    "response  # status 양호"
   ]
  },
  {
   "cell_type": "code",
   "execution_count": 5,
   "metadata": {
    "ExecuteTime": {
     "end_time": "2021-01-12T11:12:27.121695Z",
     "start_time": "2021-01-12T11:12:27.105590Z"
    }
   },
   "outputs": [
    {
     "name": "stdout",
     "output_type": "stream",
     "text": [
      "<class 'str'>\n",
      "------------------------\n",
      "text속성에 담긴 것은 string형태의 json\n"
     ]
    },
    {
     "data": {
      "text/plain": [
       "'{\"result\":{\"siseList\":[{\"cd\":\"KOSPI\",\"dt\":\"20210112\",\"ncv\":3125.95,\"cv\":-22.5,\"cr\":-0.71,\"ov\":3145.87,\"hv\":3154.79,\"lv\":3047.56},{\"cd\":\"KOSPI\",\"dt\":\"20210111\",\"ncv\":3148.45,\"cv\":-3.73,\"cr\":-0.12,\"ov\":'"
      ]
     },
     "execution_count": 5,
     "metadata": {},
     "output_type": "execute_result"
    }
   ],
   "source": [
    "# 3. JSON(str) -> JSON(dict) -> DataFrame\n",
    "print(type(response.text))\n",
    "print('------------------------')\n",
    "print('text속성에 담긴 것은 string형태의 json')\n",
    "response.text[:200]"
   ]
  },
  {
   "cell_type": "code",
   "execution_count": 6,
   "metadata": {
    "ExecuteTime": {
     "end_time": "2021-01-12T11:12:27.283092Z",
     "start_time": "2021-01-12T11:12:27.265766Z"
    }
   },
   "outputs": [
    {
     "data": {
      "text/plain": [
       "[{'cd': 'KOSPI',\n",
       "  'dt': '20210112',\n",
       "  'ncv': 3125.95,\n",
       "  'cv': -22.5,\n",
       "  'cr': -0.71,\n",
       "  'ov': 3145.87,\n",
       "  'hv': 3154.79,\n",
       "  'lv': 3047.56},\n",
       " {'cd': 'KOSPI',\n",
       "  'dt': '20210111',\n",
       "  'ncv': 3148.45,\n",
       "  'cv': -3.73,\n",
       "  'cr': -0.12,\n",
       "  'ov': 3161.9,\n",
       "  'hv': 3266.23,\n",
       "  'lv': 3096.19},\n",
       " {'cd': 'KOSPI',\n",
       "  'dt': '20210108',\n",
       "  'ncv': 3152.18,\n",
       "  'cv': 120.5,\n",
       "  'cr': 3.97,\n",
       "  'ov': 3040.11,\n",
       "  'hv': 3161.11,\n",
       "  'lv': 3040.11},\n",
       " {'cd': 'KOSPI',\n",
       "  'dt': '20210107',\n",
       "  'ncv': 3031.68,\n",
       "  'cv': 63.47,\n",
       "  'cr': 2.14,\n",
       "  'ov': 2980.75,\n",
       "  'hv': 3055.28,\n",
       "  'lv': 2980.75},\n",
       " {'cd': 'KOSPI',\n",
       "  'dt': '20210106',\n",
       "  'ncv': 2968.21,\n",
       "  'cv': -22.36,\n",
       "  'cr': -0.75,\n",
       "  'ov': 2993.34,\n",
       "  'hv': 3027.16,\n",
       "  'lv': 2961.37},\n",
       " {'cd': 'KOSPI',\n",
       "  'dt': '20210105',\n",
       "  'ncv': 2990.57,\n",
       "  'cv': 46.12,\n",
       "  'cr': 1.57,\n",
       "  'ov': 2943.67,\n",
       "  'hv': 2990.57,\n",
       "  'lv': 2921.84},\n",
       " {'cd': 'KOSPI',\n",
       "  'dt': '20210104',\n",
       "  'ncv': 2944.45,\n",
       "  'cv': 70.98,\n",
       "  'cr': 2.47,\n",
       "  'ov': 2874.5,\n",
       "  'hv': 2946.54,\n",
       "  'lv': 2869.11},\n",
       " {'cd': 'KOSPI',\n",
       "  'dt': '20201230',\n",
       "  'ncv': 2873.47,\n",
       "  'cv': 52.96,\n",
       "  'cr': 1.88,\n",
       "  'ov': 2820.36,\n",
       "  'hv': 2878.21,\n",
       "  'lv': 2809.35},\n",
       " {'cd': 'KOSPI',\n",
       "  'dt': '20201229',\n",
       "  'ncv': 2820.51,\n",
       "  'cv': 11.91,\n",
       "  'cr': 0.42,\n",
       "  'ov': 2810.55,\n",
       "  'hv': 2823.44,\n",
       "  'lv': 2792.06},\n",
       " {'cd': 'KOSPI',\n",
       "  'dt': '20201228',\n",
       "  'ncv': 2808.6,\n",
       "  'cv': 1.74,\n",
       "  'cr': 0.06,\n",
       "  'ov': 2820.95,\n",
       "  'hv': 2834.59,\n",
       "  'lv': 2799.56},\n",
       " {'cd': 'KOSPI',\n",
       "  'dt': '20201224',\n",
       "  'ncv': 2806.86,\n",
       "  'cv': 47.04,\n",
       "  'cr': 1.7,\n",
       "  'ov': 2762.6,\n",
       "  'hv': 2812.16,\n",
       "  'lv': 2762.6},\n",
       " {'cd': 'KOSPI',\n",
       "  'dt': '20201223',\n",
       "  'ncv': 2759.82,\n",
       "  'cv': 26.14,\n",
       "  'cr': 0.96,\n",
       "  'ov': 2737.74,\n",
       "  'hv': 2769.08,\n",
       "  'lv': 2716.28},\n",
       " {'cd': 'KOSPI',\n",
       "  'dt': '20201222',\n",
       "  'ncv': 2733.68,\n",
       "  'cv': -44.97,\n",
       "  'cr': -1.62,\n",
       "  'ov': 2772.03,\n",
       "  'hv': 2774.22,\n",
       "  'lv': 2733.64},\n",
       " {'cd': 'KOSPI',\n",
       "  'dt': '20201221',\n",
       "  'ncv': 2778.65,\n",
       "  'cv': 6.47,\n",
       "  'cr': 0.23,\n",
       "  'ov': 2771.98,\n",
       "  'hv': 2780.24,\n",
       "  'lv': 2747.09},\n",
       " {'cd': 'KOSPI',\n",
       "  'dt': '20201218',\n",
       "  'ncv': 2772.18,\n",
       "  'cv': 1.75,\n",
       "  'cr': 0.06,\n",
       "  'ov': 2770.95,\n",
       "  'hv': 2782.15,\n",
       "  'lv': 2762.8},\n",
       " {'cd': 'KOSPI',\n",
       "  'dt': '20201217',\n",
       "  'ncv': 2770.43,\n",
       "  'cv': -1.36,\n",
       "  'cr': -0.05,\n",
       "  'ov': 2769.89,\n",
       "  'hv': 2772.71,\n",
       "  'lv': 2742.25},\n",
       " {'cd': 'KOSPI',\n",
       "  'dt': '20201216',\n",
       "  'ncv': 2771.79,\n",
       "  'cv': 14.97,\n",
       "  'cr': 0.54,\n",
       "  'ov': 2763.64,\n",
       "  'hv': 2781.08,\n",
       "  'lv': 2761.5},\n",
       " {'cd': 'KOSPI',\n",
       "  'dt': '20201215',\n",
       "  'ncv': 2756.82,\n",
       "  'cv': -5.38,\n",
       "  'cr': -0.19,\n",
       "  'ov': 2763.65,\n",
       "  'hv': 2769.37,\n",
       "  'lv': 2735.08},\n",
       " {'cd': 'KOSPI',\n",
       "  'dt': '20201214',\n",
       "  'ncv': 2762.2,\n",
       "  'cv': -7.86,\n",
       "  'cr': -0.28,\n",
       "  'ov': 2769.43,\n",
       "  'hv': 2782.79,\n",
       "  'lv': 2755.29},\n",
       " {'cd': 'KOSPI',\n",
       "  'dt': '20201211',\n",
       "  'ncv': 2770.06,\n",
       "  'cv': 23.6,\n",
       "  'cr': 0.86,\n",
       "  'ov': 2754.16,\n",
       "  'hv': 2781.04,\n",
       "  'lv': 2754.16}]"
      ]
     },
     "execution_count": 6,
     "metadata": {},
     "output_type": "execute_result"
    }
   ],
   "source": [
    "# json() 메서드로 dict형태로 파싱\n",
    "datas = response.json()['result']['siseList']\n",
    "datas"
   ]
  },
  {
   "cell_type": "code",
   "execution_count": 7,
   "metadata": {
    "ExecuteTime": {
     "end_time": "2021-01-12T11:12:27.475494Z",
     "start_time": "2021-01-12T11:12:27.436234Z"
    }
   },
   "outputs": [
    {
     "data": {
      "text/html": [
       "<div>\n",
       "<style scoped>\n",
       "    .dataframe tbody tr th:only-of-type {\n",
       "        vertical-align: middle;\n",
       "    }\n",
       "\n",
       "    .dataframe tbody tr th {\n",
       "        vertical-align: top;\n",
       "    }\n",
       "\n",
       "    .dataframe thead th {\n",
       "        text-align: right;\n",
       "    }\n",
       "</style>\n",
       "<table border=\"1\" class=\"dataframe\">\n",
       "  <thead>\n",
       "    <tr style=\"text-align: right;\">\n",
       "      <th></th>\n",
       "      <th>cd</th>\n",
       "      <th>dt</th>\n",
       "      <th>ncv</th>\n",
       "      <th>cv</th>\n",
       "      <th>cr</th>\n",
       "      <th>ov</th>\n",
       "      <th>hv</th>\n",
       "      <th>lv</th>\n",
       "    </tr>\n",
       "  </thead>\n",
       "  <tbody>\n",
       "    <tr>\n",
       "      <th>15</th>\n",
       "      <td>KOSPI</td>\n",
       "      <td>20201217</td>\n",
       "      <td>2770.43</td>\n",
       "      <td>-1.36</td>\n",
       "      <td>-0.05</td>\n",
       "      <td>2769.89</td>\n",
       "      <td>2772.71</td>\n",
       "      <td>2742.25</td>\n",
       "    </tr>\n",
       "    <tr>\n",
       "      <th>16</th>\n",
       "      <td>KOSPI</td>\n",
       "      <td>20201216</td>\n",
       "      <td>2771.79</td>\n",
       "      <td>14.97</td>\n",
       "      <td>0.54</td>\n",
       "      <td>2763.64</td>\n",
       "      <td>2781.08</td>\n",
       "      <td>2761.50</td>\n",
       "    </tr>\n",
       "    <tr>\n",
       "      <th>17</th>\n",
       "      <td>KOSPI</td>\n",
       "      <td>20201215</td>\n",
       "      <td>2756.82</td>\n",
       "      <td>-5.38</td>\n",
       "      <td>-0.19</td>\n",
       "      <td>2763.65</td>\n",
       "      <td>2769.37</td>\n",
       "      <td>2735.08</td>\n",
       "    </tr>\n",
       "    <tr>\n",
       "      <th>18</th>\n",
       "      <td>KOSPI</td>\n",
       "      <td>20201214</td>\n",
       "      <td>2762.20</td>\n",
       "      <td>-7.86</td>\n",
       "      <td>-0.28</td>\n",
       "      <td>2769.43</td>\n",
       "      <td>2782.79</td>\n",
       "      <td>2755.29</td>\n",
       "    </tr>\n",
       "    <tr>\n",
       "      <th>19</th>\n",
       "      <td>KOSPI</td>\n",
       "      <td>20201211</td>\n",
       "      <td>2770.06</td>\n",
       "      <td>23.60</td>\n",
       "      <td>0.86</td>\n",
       "      <td>2754.16</td>\n",
       "      <td>2781.04</td>\n",
       "      <td>2754.16</td>\n",
       "    </tr>\n",
       "  </tbody>\n",
       "</table>\n",
       "</div>"
      ],
      "text/plain": [
       "       cd        dt      ncv     cv    cr       ov       hv       lv\n",
       "15  KOSPI  20201217  2770.43  -1.36 -0.05  2769.89  2772.71  2742.25\n",
       "16  KOSPI  20201216  2771.79  14.97  0.54  2763.64  2781.08  2761.50\n",
       "17  KOSPI  20201215  2756.82  -5.38 -0.19  2763.65  2769.37  2735.08\n",
       "18  KOSPI  20201214  2762.20  -7.86 -0.28  2769.43  2782.79  2755.29\n",
       "19  KOSPI  20201211  2770.06  23.60  0.86  2754.16  2781.04  2754.16"
      ]
     },
     "execution_count": 7,
     "metadata": {},
     "output_type": "execute_result"
    }
   ],
   "source": [
    "# dict형태의 데이터를 key로 접근하여 추출 후, DF로 변환\n",
    "kospi_df = pd.DataFrame(datas)\n",
    "kospi_df.tail()"
   ]
  },
  {
   "cell_type": "markdown",
   "metadata": {},
   "source": [
    "---------------"
   ]
  },
  {
   "cell_type": "code",
   "execution_count": 8,
   "metadata": {
    "ExecuteTime": {
     "end_time": "2021-01-12T11:12:27.724548Z",
     "start_time": "2021-01-12T11:12:27.717135Z"
    }
   },
   "outputs": [],
   "source": [
    "# 함수로 만들기\n",
    "def get_stock_data(code, pagesize=20, page=1):\n",
    "    url = 'https://m.stock.naver.com/api/json/sise/dailySiseIndexListJson.nhn?code={}&pageSize={}&page={}'.format(code, pagesize, page)\n",
    "    response = requests.get(url)\n",
    "    datas = response.json()['result']['siseList']\n",
    "    return pd.DataFrame(datas)"
   ]
  },
  {
   "cell_type": "code",
   "execution_count": 9,
   "metadata": {
    "ExecuteTime": {
     "end_time": "2021-01-12T11:12:28.010009Z",
     "start_time": "2021-01-12T11:12:27.900413Z"
    },
    "scrolled": true
   },
   "outputs": [
    {
     "data": {
      "text/html": [
       "<div>\n",
       "<style scoped>\n",
       "    .dataframe tbody tr th:only-of-type {\n",
       "        vertical-align: middle;\n",
       "    }\n",
       "\n",
       "    .dataframe tbody tr th {\n",
       "        vertical-align: top;\n",
       "    }\n",
       "\n",
       "    .dataframe thead th {\n",
       "        text-align: right;\n",
       "    }\n",
       "</style>\n",
       "<table border=\"1\" class=\"dataframe\">\n",
       "  <thead>\n",
       "    <tr style=\"text-align: right;\">\n",
       "      <th></th>\n",
       "      <th>cd</th>\n",
       "      <th>dt</th>\n",
       "      <th>ncv</th>\n",
       "      <th>cv</th>\n",
       "      <th>cr</th>\n",
       "      <th>ov</th>\n",
       "      <th>hv</th>\n",
       "      <th>lv</th>\n",
       "    </tr>\n",
       "  </thead>\n",
       "  <tbody>\n",
       "    <tr>\n",
       "      <th>95</th>\n",
       "      <td>KOSDAQ</td>\n",
       "      <td>20200821</td>\n",
       "      <td>796.01</td>\n",
       "      <td>4.87</td>\n",
       "      <td>0.62</td>\n",
       "      <td>801.14</td>\n",
       "      <td>802.70</td>\n",
       "      <td>781.41</td>\n",
       "    </tr>\n",
       "    <tr>\n",
       "      <th>96</th>\n",
       "      <td>KOSDAQ</td>\n",
       "      <td>20200820</td>\n",
       "      <td>791.14</td>\n",
       "      <td>-27.60</td>\n",
       "      <td>-3.37</td>\n",
       "      <td>816.63</td>\n",
       "      <td>821.11</td>\n",
       "      <td>785.00</td>\n",
       "    </tr>\n",
       "    <tr>\n",
       "      <th>97</th>\n",
       "      <td>KOSDAQ</td>\n",
       "      <td>20200819</td>\n",
       "      <td>818.74</td>\n",
       "      <td>18.52</td>\n",
       "      <td>2.31</td>\n",
       "      <td>810.86</td>\n",
       "      <td>818.74</td>\n",
       "      <td>805.52</td>\n",
       "    </tr>\n",
       "    <tr>\n",
       "      <th>98</th>\n",
       "      <td>KOSDAQ</td>\n",
       "      <td>20200818</td>\n",
       "      <td>800.22</td>\n",
       "      <td>-34.81</td>\n",
       "      <td>-4.17</td>\n",
       "      <td>834.55</td>\n",
       "      <td>834.55</td>\n",
       "      <td>794.91</td>\n",
       "    </tr>\n",
       "    <tr>\n",
       "      <th>99</th>\n",
       "      <td>KOSDAQ</td>\n",
       "      <td>20200814</td>\n",
       "      <td>835.03</td>\n",
       "      <td>-19.74</td>\n",
       "      <td>-2.31</td>\n",
       "      <td>854.71</td>\n",
       "      <td>854.71</td>\n",
       "      <td>831.15</td>\n",
       "    </tr>\n",
       "  </tbody>\n",
       "</table>\n",
       "</div>"
      ],
      "text/plain": [
       "        cd        dt     ncv     cv    cr      ov      hv      lv\n",
       "95  KOSDAQ  20200821  796.01   4.87  0.62  801.14  802.70  781.41\n",
       "96  KOSDAQ  20200820  791.14 -27.60 -3.37  816.63  821.11  785.00\n",
       "97  KOSDAQ  20200819  818.74  18.52  2.31  810.86  818.74  805.52\n",
       "98  KOSDAQ  20200818  800.22 -34.81 -4.17  834.55  834.55  794.91\n",
       "99  KOSDAQ  20200814  835.03 -19.74 -2.31  854.71  854.71  831.15"
      ]
     },
     "execution_count": 9,
     "metadata": {},
     "output_type": "execute_result"
    }
   ],
   "source": [
    "kosdaq_df = get_stock_data('KOSDAQ', pagesize=100)\n",
    "kosdaq_df.tail()"
   ]
  },
  {
   "cell_type": "code",
   "execution_count": 10,
   "metadata": {
    "ExecuteTime": {
     "end_time": "2021-01-12T11:12:28.277286Z",
     "start_time": "2021-01-12T11:12:28.110349Z"
    }
   },
   "outputs": [],
   "source": [
    "kospi_df = get_stock_data(\"KOSPI\", 100)\n",
    "kosdaq_df = get_stock_data(\"KOSDAQ\", 100)"
   ]
  },
  {
   "cell_type": "code",
   "execution_count": 12,
   "metadata": {
    "ExecuteTime": {
     "end_time": "2021-01-12T11:12:42.039644Z",
     "start_time": "2021-01-12T11:12:42.022831Z"
    }
   },
   "outputs": [
    {
     "data": {
      "text/plain": [
       "(100, 100)"
      ]
     },
     "execution_count": 12,
     "metadata": {},
     "output_type": "execute_result"
    }
   ],
   "source": [
    "len(kospi_df), len(kosdaq_df)"
   ]
  },
  {
   "cell_type": "markdown",
   "metadata": {},
   "source": [
    "----------"
   ]
  },
  {
   "cell_type": "markdown",
   "metadata": {},
   "source": [
    "### USD 수집"
   ]
  },
  {
   "cell_type": "code",
   "execution_count": 13,
   "metadata": {
    "ExecuteTime": {
     "end_time": "2021-01-12T11:12:45.743602Z",
     "start_time": "2021-01-12T11:12:45.722164Z"
    }
   },
   "outputs": [
    {
     "name": "stdout",
     "output_type": "stream",
     "text": [
      "https://m.stock.naver.com/api/json/marketindex/marketIndexDay.nhn?marketIndexCd=FX_USDKRW&pageSize=100&page=1\n"
     ]
    }
   ],
   "source": [
    "# 1. 웹페이지 분석 : URL\n",
    "code, pagesize, page = 'FX_USDKRW', 100, 1\n",
    "\n",
    "url = 'https://m.stock.naver.com/api/json/marketindex/marketIndexDay.nhn?\\\n",
    "marketIndexCd={}&pageSize={}&page={}'.format(code, pagesize, page)\n",
    "\n",
    "print(url)"
   ]
  },
  {
   "cell_type": "code",
   "execution_count": 14,
   "metadata": {
    "ExecuteTime": {
     "end_time": "2021-01-12T11:12:46.570570Z",
     "start_time": "2021-01-12T11:12:46.499954Z"
    }
   },
   "outputs": [
    {
     "name": "stdout",
     "output_type": "stream",
     "text": [
      "<Response [200]>\n"
     ]
    },
    {
     "data": {
      "text/plain": [
       "'{\"result\":{\"errorMessage\":\"로그인이 필요한 서비스 입니다.\\\\n로그인 하시겠습니까?\",\"errorCode\":\"authenticationFail\"},\"resultCode\":\"error\"}'"
      ]
     },
     "execution_count": 14,
     "metadata": {},
     "output_type": "execute_result"
    }
   ],
   "source": [
    "# 2. request, response, json(str)\n",
    "response = requests.get(url)\n",
    "print(response)\n",
    "response.text[:200]"
   ]
  },
  {
   "cell_type": "markdown",
   "metadata": {},
   "source": [
    "- 로그인이 필요한 서비스입니다??"
   ]
  },
  {
   "cell_type": "markdown",
   "metadata": {},
   "source": [
    "- 쿠키데이터 (로그인 정보)를 추가해서 요청해야 함\n",
    "    - request headers에 쿠키데이터 정보 있음."
   ]
  },
  {
   "cell_type": "code",
   "execution_count": 15,
   "metadata": {
    "ExecuteTime": {
     "end_time": "2021-01-12T11:12:48.019341Z",
     "start_time": "2021-01-12T11:12:47.927156Z"
    }
   },
   "outputs": [
    {
     "name": "stdout",
     "output_type": "stream",
     "text": [
      "<Response [200]>\n"
     ]
    },
    {
     "data": {
      "text/plain": [
       "'{\"result\":{\"marketIndexDay\":[{\"dt\":\"20210112\",\"nv\":1099.0,\"cv\":1.0,\"cr\":0.09,\"cbv\":1118.23,\"csv\":1079.77,\"sv\":1109.7,\"rv\":1088.3},{\"dt\":\"20210111\",\"nv\":1098.0,\"cv\":6.0,\"cr\":0.55,\"cbv\":1117.21,\"csv\":1078.79,\"sv\":1108.7,\"rv\":1087.3},{\"dt\":\"20210108\",\"nv\":1092.0,\"cv\":0.0,\"cr\":0.0,\"cbv\":1111.11,\"csv\":10'"
      ]
     },
     "execution_count": 15,
     "metadata": {},
     "output_type": "execute_result"
    }
   ],
   "source": [
    "# 2-1. request with cookie\n",
    "\n",
    "params = {\n",
    "'cookie':'NNB=BQIZWUVEQM7V6; _fbp=fb.1.1598002288784.1358710430; NRTK=ag#20s_gr#0_ma#-1_si#1_en#-1_sp#1; ASID=709b210600000174106c7c000000004d; NID_AUT=n+AFjQZ4XTbSrtMx/peuEwUsQDhFemNI8HwVMi14eUHjwMQBMVKvkuxMqYr7WmoB; NID_JKL=u0nhcgoHyHEIFGVTrJDUCULHlGGM/1xK1hoQH3cKo+4=; nx_ssl=2; _ga_4BKHBFKFK0=GS1.1.1608644424.10.1.1608644432.52; NDARK=Y; _ga=GA1.1.345787151.1598002289; _ga_7VKFYR6RV1=GS1.1.1610250132.1.1.1610250868.60; NID_SES=AAABk0lHqjbKXXSJVLH1sFcPsykudoTyx/CU9CRfGDX4msWUr+gctUW5/NdjGWgNoC7cdN5vfUQ+6+mSF3cDOSxgpVt77+xK1hvVu7jw7lLGIcMYc1G52RjM35TRAgzIusLIVXdjICCIg+7q/WWJ8LfKsskWImlQmon7mDb5b8NHGsNAOVEqer5QMvzFCR4NO7geb11+V3YLm9i4xaoJ5mSAVrqZGw++yJldZN3zf9StsD8Psx8moDWW6iR0Vqup5TuTkddXcVlNVqCM0MN3/zuGgfquOVt7XG9L9BQW/kAIrFzlEZTJXY7DNBP43Y0bWJRV192zcAB/q/fSbcexmxVLhhUlLsKW1AGTRk5yDHrXEN3KcPFEWYaLszSX1e/PLJh3qS5uwUWWirUodTUFrEFNRM+axYikqDmKA18B/uzhgoyQNLPLzDJihmAtR8jCp281qsIoKgAPXMsA4F3ByjTFyNWr3CMK/B3NK/f8qAcse6nXJf6mmH1fdbTnH8cRlhV2bMa/HZegVLK8D/lP5mXW/r3r5hiNpfAmm7OlK/DjQZ0g; page_uid=U/1Ybwp0JXossPh8RR8ssssstpR-196879; naver_mobile_stock_codeList=048530%7C; JSESSIONID=234AD65644EB62DE7C9EF0AB8A0F56B7; BMR=; XSRF-TOKEN=290e93d1-7596-4f6d-8ac7-91f91aee953d'\n",
    "}\n",
    "\n",
    "response = requests.get(url, headers=params)\n",
    "print(response)\n",
    "response.text[:300]"
   ]
  },
  {
   "cell_type": "code",
   "execution_count": 16,
   "metadata": {
    "ExecuteTime": {
     "end_time": "2021-01-12T11:12:48.567645Z",
     "start_time": "2021-01-12T11:12:48.485945Z"
    }
   },
   "outputs": [
    {
     "data": {
      "text/html": [
       "<div>\n",
       "<style scoped>\n",
       "    .dataframe tbody tr th:only-of-type {\n",
       "        vertical-align: middle;\n",
       "    }\n",
       "\n",
       "    .dataframe tbody tr th {\n",
       "        vertical-align: top;\n",
       "    }\n",
       "\n",
       "    .dataframe thead th {\n",
       "        text-align: right;\n",
       "    }\n",
       "</style>\n",
       "<table border=\"1\" class=\"dataframe\">\n",
       "  <thead>\n",
       "    <tr style=\"text-align: right;\">\n",
       "      <th></th>\n",
       "      <th>dt</th>\n",
       "      <th>nv</th>\n",
       "      <th>cv</th>\n",
       "      <th>cr</th>\n",
       "      <th>cbv</th>\n",
       "      <th>csv</th>\n",
       "      <th>sv</th>\n",
       "      <th>rv</th>\n",
       "    </tr>\n",
       "  </thead>\n",
       "  <tbody>\n",
       "    <tr>\n",
       "      <th>95</th>\n",
       "      <td>20200824</td>\n",
       "      <td>1188.0</td>\n",
       "      <td>-1.5</td>\n",
       "      <td>-0.13</td>\n",
       "      <td>1208.79</td>\n",
       "      <td>1167.21</td>\n",
       "      <td>1199.6</td>\n",
       "      <td>1176.4</td>\n",
       "    </tr>\n",
       "    <tr>\n",
       "      <th>96</th>\n",
       "      <td>20200821</td>\n",
       "      <td>1189.5</td>\n",
       "      <td>1.0</td>\n",
       "      <td>0.08</td>\n",
       "      <td>1210.31</td>\n",
       "      <td>1168.69</td>\n",
       "      <td>1201.1</td>\n",
       "      <td>1177.9</td>\n",
       "    </tr>\n",
       "    <tr>\n",
       "      <th>97</th>\n",
       "      <td>20200820</td>\n",
       "      <td>1188.5</td>\n",
       "      <td>10.5</td>\n",
       "      <td>0.89</td>\n",
       "      <td>1209.29</td>\n",
       "      <td>1167.71</td>\n",
       "      <td>1200.1</td>\n",
       "      <td>1176.9</td>\n",
       "    </tr>\n",
       "    <tr>\n",
       "      <th>98</th>\n",
       "      <td>20200819</td>\n",
       "      <td>1178.0</td>\n",
       "      <td>-6.5</td>\n",
       "      <td>-0.55</td>\n",
       "      <td>1198.61</td>\n",
       "      <td>1157.39</td>\n",
       "      <td>1189.5</td>\n",
       "      <td>1166.5</td>\n",
       "    </tr>\n",
       "    <tr>\n",
       "      <th>99</th>\n",
       "      <td>20200818</td>\n",
       "      <td>1184.5</td>\n",
       "      <td>-3.0</td>\n",
       "      <td>-0.25</td>\n",
       "      <td>1205.22</td>\n",
       "      <td>1163.78</td>\n",
       "      <td>1196.1</td>\n",
       "      <td>1172.9</td>\n",
       "    </tr>\n",
       "  </tbody>\n",
       "</table>\n",
       "</div>"
      ],
      "text/plain": [
       "          dt      nv    cv    cr      cbv      csv      sv      rv\n",
       "95  20200824  1188.0  -1.5 -0.13  1208.79  1167.21  1199.6  1176.4\n",
       "96  20200821  1189.5   1.0  0.08  1210.31  1168.69  1201.1  1177.9\n",
       "97  20200820  1188.5  10.5  0.89  1209.29  1167.71  1200.1  1176.9\n",
       "98  20200819  1178.0  -6.5 -0.55  1198.61  1157.39  1189.5  1166.5\n",
       "99  20200818  1184.5  -3.0 -0.25  1205.22  1163.78  1196.1  1172.9"
      ]
     },
     "execution_count": 16,
     "metadata": {},
     "output_type": "execute_result"
    }
   ],
   "source": [
    "# 3. json(str) -> json(dict) -> DF\n",
    "datas = response.json()['result']['marketIndexDay']\n",
    "usd_df = pd.DataFrame(datas)\n",
    "usd_df.tail()"
   ]
  },
  {
   "cell_type": "code",
   "execution_count": 17,
   "metadata": {
    "ExecuteTime": {
     "end_time": "2021-01-12T11:12:50.971757Z",
     "start_time": "2021-01-12T11:12:50.958638Z"
    }
   },
   "outputs": [
    {
     "name": "stdout",
     "output_type": "stream",
     "text": [
      "['20210112' '20210111' '20210108' '20210107' '20210106' '20210105'\n",
      " '20210104' '20201231' '20201230' '20201229' '20201228' '20201224'\n",
      " '20201223' '20201222' '20201221' '20201218' '20201217' '20201216'\n",
      " '20201215' '20201214' '20201211' '20201210' '20201209' '20201208'\n",
      " '20201207' '20201204' '20201203' '20201202' '20201201' '20201130'\n",
      " '20201127' '20201126' '20201125' '20201124' '20201123' '20201120'\n",
      " '20201119' '20201118' '20201117' '20201116' '20201113' '20201112'\n",
      " '20201111' '20201110' '20201109' '20201106' '20201105' '20201104'\n",
      " '20201103' '20201102' '20201030' '20201029' '20201028' '20201027'\n",
      " '20201026' '20201023' '20201022' '20201021' '20201020' '20201019'\n",
      " '20201016' '20201015' '20201014' '20201013' '20201012' '20201008'\n",
      " '20201007' '20201006' '20201005' '20200929' '20200928' '20200925'\n",
      " '20200924' '20200923' '20200922' '20200921' '20200918' '20200917'\n",
      " '20200916' '20200915' '20200914' '20200911' '20200910' '20200909'\n",
      " '20200908' '20200907' '20200904' '20200903' '20200902' '20200901'\n",
      " '20200831' '20200828' '20200827' '20200826' '20200825' '20200824'\n",
      " '20200821' '20200820' '20200819' '20200818']\n"
     ]
    }
   ],
   "source": [
    "print(usd_df['dt'].values)"
   ]
  },
  {
   "cell_type": "code",
   "execution_count": 18,
   "metadata": {
    "ExecuteTime": {
     "end_time": "2021-01-12T11:13:34.473817Z",
     "start_time": "2021-01-12T11:13:34.461070Z"
    }
   },
   "outputs": [
    {
     "name": "stdout",
     "output_type": "stream",
     "text": [
      "['20210112' '20210111' '20210108' '20210107' '20210106' '20210105'\n",
      " '20210104' '20201230' '20201229' '20201228' '20201224' '20201223'\n",
      " '20201222' '20201221' '20201218' '20201217' '20201216' '20201215'\n",
      " '20201214' '20201211' '20201210' '20201209' '20201208' '20201207'\n",
      " '20201204' '20201203' '20201202' '20201201' '20201130' '20201127'\n",
      " '20201126' '20201125' '20201124' '20201123' '20201120' '20201119'\n",
      " '20201118' '20201117' '20201116' '20201113' '20201112' '20201111'\n",
      " '20201110' '20201109' '20201106' '20201105' '20201104' '20201103'\n",
      " '20201102' '20201030' '20201029' '20201028' '20201027' '20201026'\n",
      " '20201023' '20201022' '20201021' '20201020' '20201019' '20201016'\n",
      " '20201015' '20201014' '20201013' '20201012' '20201008' '20201007'\n",
      " '20201006' '20201005' '20200929' '20200928' '20200925' '20200924'\n",
      " '20200923' '20200922' '20200921' '20200918' '20200917' '20200916'\n",
      " '20200915' '20200914' '20200911' '20200910' '20200909' '20200908'\n",
      " '20200907' '20200904' '20200903' '20200902' '20200901' '20200831'\n",
      " '20200828' '20200827' '20200826' '20200825' '20200824' '20200821'\n",
      " '20200820' '20200819' '20200818' '20200814']\n"
     ]
    }
   ],
   "source": [
    "print(kospi_df['dt'].values)"
   ]
  },
  {
   "cell_type": "code",
   "execution_count": 27,
   "metadata": {
    "ExecuteTime": {
     "end_time": "2021-01-12T11:16:14.460340Z",
     "start_time": "2021-01-12T11:16:14.432447Z"
    }
   },
   "outputs": [
    {
     "data": {
      "text/html": [
       "<div>\n",
       "<style scoped>\n",
       "    .dataframe tbody tr th:only-of-type {\n",
       "        vertical-align: middle;\n",
       "    }\n",
       "\n",
       "    .dataframe tbody tr th {\n",
       "        vertical-align: top;\n",
       "    }\n",
       "\n",
       "    .dataframe thead th {\n",
       "        text-align: right;\n",
       "    }\n",
       "</style>\n",
       "<table border=\"1\" class=\"dataframe\">\n",
       "  <thead>\n",
       "    <tr style=\"text-align: right;\">\n",
       "      <th></th>\n",
       "      <th>cd</th>\n",
       "      <th>dt</th>\n",
       "      <th>ncv</th>\n",
       "      <th>cv</th>\n",
       "      <th>cr</th>\n",
       "      <th>ov</th>\n",
       "      <th>hv</th>\n",
       "      <th>lv</th>\n",
       "    </tr>\n",
       "  </thead>\n",
       "  <tbody>\n",
       "  </tbody>\n",
       "</table>\n",
       "</div>"
      ],
      "text/plain": [
       "Empty DataFrame\n",
       "Columns: [cd, dt, ncv, cv, cr, ov, hv, lv]\n",
       "Index: []"
      ]
     },
     "execution_count": 27,
     "metadata": {},
     "output_type": "execute_result"
    }
   ],
   "source": [
    "filters= (kospi_df['dt'] != kosdaq_df['dt'])\n",
    "kospi_df[filters]"
   ]
  },
  {
   "cell_type": "code",
   "execution_count": 30,
   "metadata": {
    "ExecuteTime": {
     "end_time": "2021-01-12T11:16:46.962294Z",
     "start_time": "2021-01-12T11:16:46.945204Z"
    }
   },
   "outputs": [
    {
     "data": {
      "text/html": [
       "<div>\n",
       "<style scoped>\n",
       "    .dataframe tbody tr th:only-of-type {\n",
       "        vertical-align: middle;\n",
       "    }\n",
       "\n",
       "    .dataframe tbody tr th {\n",
       "        vertical-align: top;\n",
       "    }\n",
       "\n",
       "    .dataframe thead th {\n",
       "        text-align: right;\n",
       "    }\n",
       "</style>\n",
       "<table border=\"1\" class=\"dataframe\">\n",
       "  <thead>\n",
       "    <tr style=\"text-align: right;\">\n",
       "      <th></th>\n",
       "      <th>cd</th>\n",
       "      <th>dt</th>\n",
       "      <th>ncv</th>\n",
       "      <th>cv</th>\n",
       "      <th>cr</th>\n",
       "      <th>ov</th>\n",
       "      <th>hv</th>\n",
       "      <th>lv</th>\n",
       "    </tr>\n",
       "  </thead>\n",
       "  <tbody>\n",
       "    <tr>\n",
       "      <th>7</th>\n",
       "      <td>KOSPI</td>\n",
       "      <td>20201230</td>\n",
       "      <td>2873.47</td>\n",
       "      <td>52.96</td>\n",
       "      <td>1.88</td>\n",
       "      <td>2820.36</td>\n",
       "      <td>2878.21</td>\n",
       "      <td>2809.35</td>\n",
       "    </tr>\n",
       "    <tr>\n",
       "      <th>8</th>\n",
       "      <td>KOSPI</td>\n",
       "      <td>20201229</td>\n",
       "      <td>2820.51</td>\n",
       "      <td>11.91</td>\n",
       "      <td>0.42</td>\n",
       "      <td>2810.55</td>\n",
       "      <td>2823.44</td>\n",
       "      <td>2792.06</td>\n",
       "    </tr>\n",
       "    <tr>\n",
       "      <th>9</th>\n",
       "      <td>KOSPI</td>\n",
       "      <td>20201228</td>\n",
       "      <td>2808.60</td>\n",
       "      <td>1.74</td>\n",
       "      <td>0.06</td>\n",
       "      <td>2820.95</td>\n",
       "      <td>2834.59</td>\n",
       "      <td>2799.56</td>\n",
       "    </tr>\n",
       "    <tr>\n",
       "      <th>10</th>\n",
       "      <td>KOSPI</td>\n",
       "      <td>20201224</td>\n",
       "      <td>2806.86</td>\n",
       "      <td>47.04</td>\n",
       "      <td>1.70</td>\n",
       "      <td>2762.60</td>\n",
       "      <td>2812.16</td>\n",
       "      <td>2762.60</td>\n",
       "    </tr>\n",
       "    <tr>\n",
       "      <th>11</th>\n",
       "      <td>KOSPI</td>\n",
       "      <td>20201223</td>\n",
       "      <td>2759.82</td>\n",
       "      <td>26.14</td>\n",
       "      <td>0.96</td>\n",
       "      <td>2737.74</td>\n",
       "      <td>2769.08</td>\n",
       "      <td>2716.28</td>\n",
       "    </tr>\n",
       "    <tr>\n",
       "      <th>...</th>\n",
       "      <td>...</td>\n",
       "      <td>...</td>\n",
       "      <td>...</td>\n",
       "      <td>...</td>\n",
       "      <td>...</td>\n",
       "      <td>...</td>\n",
       "      <td>...</td>\n",
       "      <td>...</td>\n",
       "    </tr>\n",
       "    <tr>\n",
       "      <th>95</th>\n",
       "      <td>KOSPI</td>\n",
       "      <td>20200821</td>\n",
       "      <td>2304.59</td>\n",
       "      <td>30.37</td>\n",
       "      <td>1.34</td>\n",
       "      <td>2306.16</td>\n",
       "      <td>2329.34</td>\n",
       "      <td>2280.97</td>\n",
       "    </tr>\n",
       "    <tr>\n",
       "      <th>96</th>\n",
       "      <td>KOSPI</td>\n",
       "      <td>20200820</td>\n",
       "      <td>2274.22</td>\n",
       "      <td>-86.32</td>\n",
       "      <td>-3.66</td>\n",
       "      <td>2339.91</td>\n",
       "      <td>2357.08</td>\n",
       "      <td>2270.85</td>\n",
       "    </tr>\n",
       "    <tr>\n",
       "      <th>97</th>\n",
       "      <td>KOSPI</td>\n",
       "      <td>20200819</td>\n",
       "      <td>2360.54</td>\n",
       "      <td>12.30</td>\n",
       "      <td>0.52</td>\n",
       "      <td>2370.87</td>\n",
       "      <td>2380.10</td>\n",
       "      <td>2353.17</td>\n",
       "    </tr>\n",
       "    <tr>\n",
       "      <th>98</th>\n",
       "      <td>KOSPI</td>\n",
       "      <td>20200818</td>\n",
       "      <td>2348.24</td>\n",
       "      <td>-59.25</td>\n",
       "      <td>-2.46</td>\n",
       "      <td>2405.84</td>\n",
       "      <td>2419.65</td>\n",
       "      <td>2336.78</td>\n",
       "    </tr>\n",
       "    <tr>\n",
       "      <th>99</th>\n",
       "      <td>KOSPI</td>\n",
       "      <td>20200814</td>\n",
       "      <td>2407.49</td>\n",
       "      <td>-30.04</td>\n",
       "      <td>-1.23</td>\n",
       "      <td>2427.85</td>\n",
       "      <td>2435.00</td>\n",
       "      <td>2383.69</td>\n",
       "    </tr>\n",
       "  </tbody>\n",
       "</table>\n",
       "<p>93 rows × 8 columns</p>\n",
       "</div>"
      ],
      "text/plain": [
       "       cd        dt      ncv     cv    cr       ov       hv       lv\n",
       "7   KOSPI  20201230  2873.47  52.96  1.88  2820.36  2878.21  2809.35\n",
       "8   KOSPI  20201229  2820.51  11.91  0.42  2810.55  2823.44  2792.06\n",
       "9   KOSPI  20201228  2808.60   1.74  0.06  2820.95  2834.59  2799.56\n",
       "10  KOSPI  20201224  2806.86  47.04  1.70  2762.60  2812.16  2762.60\n",
       "11  KOSPI  20201223  2759.82  26.14  0.96  2737.74  2769.08  2716.28\n",
       "..    ...       ...      ...    ...   ...      ...      ...      ...\n",
       "95  KOSPI  20200821  2304.59  30.37  1.34  2306.16  2329.34  2280.97\n",
       "96  KOSPI  20200820  2274.22 -86.32 -3.66  2339.91  2357.08  2270.85\n",
       "97  KOSPI  20200819  2360.54  12.30  0.52  2370.87  2380.10  2353.17\n",
       "98  KOSPI  20200818  2348.24 -59.25 -2.46  2405.84  2419.65  2336.78\n",
       "99  KOSPI  20200814  2407.49 -30.04 -1.23  2427.85  2435.00  2383.69\n",
       "\n",
       "[93 rows x 8 columns]"
      ]
     },
     "execution_count": 30,
     "metadata": {},
     "output_type": "execute_result"
    }
   ],
   "source": [
    "filters2= (kospi_df['dt'] != usd_df['dt'])\n",
    "kospi_df[filters2]"
   ]
  },
  {
   "cell_type": "markdown",
   "metadata": {},
   "source": [
    "------------------"
   ]
  },
  {
   "cell_type": "code",
   "execution_count": 19,
   "metadata": {
    "ExecuteTime": {
     "end_time": "2021-01-12T11:13:34.946504Z",
     "start_time": "2021-01-12T11:13:34.929072Z"
    }
   },
   "outputs": [],
   "source": [
    "# merge로 데이터 합치기"
   ]
  },
  {
   "cell_type": "code",
   "execution_count": 20,
   "metadata": {
    "ExecuteTime": {
     "end_time": "2021-01-12T11:13:35.102049Z",
     "start_time": "2021-01-12T11:13:35.066874Z"
    }
   },
   "outputs": [
    {
     "data": {
      "text/html": [
       "<div>\n",
       "<style scoped>\n",
       "    .dataframe tbody tr th:only-of-type {\n",
       "        vertical-align: middle;\n",
       "    }\n",
       "\n",
       "    .dataframe tbody tr th {\n",
       "        vertical-align: top;\n",
       "    }\n",
       "\n",
       "    .dataframe thead th {\n",
       "        text-align: right;\n",
       "    }\n",
       "</style>\n",
       "<table border=\"1\" class=\"dataframe\">\n",
       "  <thead>\n",
       "    <tr style=\"text-align: right;\">\n",
       "      <th></th>\n",
       "      <th>dt</th>\n",
       "      <th>ncv_kospi</th>\n",
       "      <th>ncv_kosdaq</th>\n",
       "    </tr>\n",
       "  </thead>\n",
       "  <tbody>\n",
       "    <tr>\n",
       "      <th>98</th>\n",
       "      <td>20200818</td>\n",
       "      <td>2348.24</td>\n",
       "      <td>800.22</td>\n",
       "    </tr>\n",
       "    <tr>\n",
       "      <th>99</th>\n",
       "      <td>20200814</td>\n",
       "      <td>2407.49</td>\n",
       "      <td>835.03</td>\n",
       "    </tr>\n",
       "  </tbody>\n",
       "</table>\n",
       "</div>"
      ],
      "text/plain": [
       "          dt  ncv_kospi  ncv_kosdaq\n",
       "98  20200818    2348.24      800.22\n",
       "99  20200814    2407.49      835.03"
      ]
     },
     "execution_count": 20,
     "metadata": {},
     "output_type": "execute_result"
    }
   ],
   "source": [
    "merge_df_1 = pd.merge(kospi_df, kosdaq_df, left_on = 'dt', right_on='dt')\n",
    "merge_df_1 = merge_df_1.rename(columns={'ncv_x':'ncv_kospi', 'ncv_y':'ncv_kosdaq'})\n",
    "merge_df_1 = merge_df_1[['dt','ncv_kospi','ncv_kosdaq']]\n",
    "merge_df_1.tail(2)"
   ]
  },
  {
   "cell_type": "code",
   "execution_count": 22,
   "metadata": {
    "ExecuteTime": {
     "end_time": "2021-01-12T11:13:38.491279Z",
     "start_time": "2021-01-12T11:13:38.450601Z"
    }
   },
   "outputs": [
    {
     "data": {
      "text/html": [
       "<div>\n",
       "<style scoped>\n",
       "    .dataframe tbody tr th:only-of-type {\n",
       "        vertical-align: middle;\n",
       "    }\n",
       "\n",
       "    .dataframe tbody tr th {\n",
       "        vertical-align: top;\n",
       "    }\n",
       "\n",
       "    .dataframe thead th {\n",
       "        text-align: right;\n",
       "    }\n",
       "</style>\n",
       "<table border=\"1\" class=\"dataframe\">\n",
       "  <thead>\n",
       "    <tr style=\"text-align: right;\">\n",
       "      <th></th>\n",
       "      <th>dt</th>\n",
       "      <th>ncv_kospi</th>\n",
       "      <th>ncv_kosdaq</th>\n",
       "      <th>nv</th>\n",
       "    </tr>\n",
       "  </thead>\n",
       "  <tbody>\n",
       "    <tr>\n",
       "      <th>94</th>\n",
       "      <td>20200824</td>\n",
       "      <td>2329.83</td>\n",
       "      <td>815.74</td>\n",
       "      <td>1188.0</td>\n",
       "    </tr>\n",
       "    <tr>\n",
       "      <th>95</th>\n",
       "      <td>20200821</td>\n",
       "      <td>2304.59</td>\n",
       "      <td>796.01</td>\n",
       "      <td>1189.5</td>\n",
       "    </tr>\n",
       "    <tr>\n",
       "      <th>96</th>\n",
       "      <td>20200820</td>\n",
       "      <td>2274.22</td>\n",
       "      <td>791.14</td>\n",
       "      <td>1188.5</td>\n",
       "    </tr>\n",
       "    <tr>\n",
       "      <th>97</th>\n",
       "      <td>20200819</td>\n",
       "      <td>2360.54</td>\n",
       "      <td>818.74</td>\n",
       "      <td>1178.0</td>\n",
       "    </tr>\n",
       "    <tr>\n",
       "      <th>98</th>\n",
       "      <td>20200818</td>\n",
       "      <td>2348.24</td>\n",
       "      <td>800.22</td>\n",
       "      <td>1184.5</td>\n",
       "    </tr>\n",
       "  </tbody>\n",
       "</table>\n",
       "</div>"
      ],
      "text/plain": [
       "          dt  ncv_kospi  ncv_kosdaq      nv\n",
       "94  20200824    2329.83      815.74  1188.0\n",
       "95  20200821    2304.59      796.01  1189.5\n",
       "96  20200820    2274.22      791.14  1188.5\n",
       "97  20200819    2360.54      818.74  1178.0\n",
       "98  20200818    2348.24      800.22  1184.5"
      ]
     },
     "execution_count": 22,
     "metadata": {},
     "output_type": "execute_result"
    }
   ],
   "source": [
    "merge_df = pd.merge(merge_df_1, usd_df)[['dt','ncv_kospi','ncv_kosdaq', 'nv']]\n",
    "merge_df.tail()"
   ]
  },
  {
   "cell_type": "markdown",
   "metadata": {},
   "source": [
    "---------------------"
   ]
  },
  {
   "cell_type": "markdown",
   "metadata": {},
   "source": [
    "### 그래프 그리기"
   ]
  },
  {
   "cell_type": "code",
   "execution_count": 71,
   "metadata": {
    "ExecuteTime": {
     "end_time": "2021-01-12T10:58:23.269194Z",
     "start_time": "2021-01-12T10:58:23.246902Z"
    }
   },
   "outputs": [
    {
     "data": {
      "text/plain": [
       "[0, 9, 18, 27, 36, 45, 54, 63, 72, 81, 90]"
      ]
     },
     "execution_count": 71,
     "metadata": {},
     "output_type": "execute_result"
    }
   ],
   "source": [
    "ls = range(99)\n",
    "list(ls[::9])"
   ]
  },
  {
   "cell_type": "code",
   "execution_count": 70,
   "metadata": {
    "ExecuteTime": {
     "end_time": "2021-01-12T10:57:54.977243Z",
     "start_time": "2021-01-12T10:57:54.372349Z"
    },
    "scrolled": true
   },
   "outputs": [
    {
     "data": {
      "image/png": "[encoded data removed]",
      "text/plain": [
       "<Figure size 1440x360 with 1 Axes>"
      ]
     },
     "metadata": {
      "image/png": {
       "height": 305,
       "width": 1164
      }
     },
     "output_type": "display_data"
    }
   ],
   "source": [
    "plt.figure(figsize=(20,5))\n",
    "plt.plot(merge_df['dt'], merge_df['ncv_kospi'], 'r*:', label='kospi')\n",
    "plt.plot(merge_df['dt'], merge_df['ncv_kosdaq'], 'bo--', label='kosdaq')\n",
    "plt.plot(merge_df['dt'], merge_df['nv'], 'g^-', label='usd')\n",
    "\n",
    "step = len(merge_df) // 10\n",
    "plt.xticks(merge_df[::step]['dt'])\n",
    "\n",
    "plt.show()"
   ]
  },
  {
   "cell_type": "markdown",
   "metadata": {},
   "source": [
    "### 정규화"
   ]
  },
  {
   "cell_type": "code",
   "execution_count": 85,
   "metadata": {
    "ExecuteTime": {
     "end_time": "2021-01-12T11:01:36.663425Z",
     "start_time": "2021-01-12T11:01:36.650175Z"
    }
   },
   "outputs": [],
   "source": [
    "from sklearn.preprocessing import MinMaxScaler, minmax_scale"
   ]
  },
  {
   "cell_type": "code",
   "execution_count": 87,
   "metadata": {
    "ExecuteTime": {
     "end_time": "2021-01-12T11:01:53.173350Z",
     "start_time": "2021-01-12T11:01:53.150997Z"
    }
   },
   "outputs": [
    {
     "data": {
      "text/plain": [
       "array([0.97036259, 0.99578545, 1.        , 0.86384642, 0.79213134,\n",
       "       0.81739602, 0.76528479, 0.68508412, 0.62524434, 0.61178717,\n",
       "       0.60982114, 0.5566704 , 0.52713467, 0.57794651, 0.57063602,\n",
       "       0.56865869, 0.57019536, 0.55328068, 0.55935957, 0.56824062,\n",
       "       0.54157486, 0.55175531, 0.49013028, 0.54042236, 0.52461498,\n",
       "       0.48480842, 0.46184875, 0.4147882 , 0.36630397, 0.41388428,\n",
       "       0.40536479, 0.377829  , 0.39615606, 0.3790154 , 0.32354835,\n",
       "       0.31667853, 0.3146673 , 0.30733421, 0.31171825, 0.25617211,\n",
       "       0.23555134, 0.24713287, 0.2098008 , 0.20343943, 0.16875134,\n",
       "       0.1656893 , 0.10188355, 0.08605358, 0.03729817, 0.        ,\n",
       "       0.06725196, 0.0882569 , 0.07196366, 0.08673152, 0.10582692,\n",
       "       0.09931867, 0.11718247, 0.10311515, 0.08992915, 0.08404235,\n",
       "       0.10627888, 0.12805216, 0.15366711, 0.15432245, 0.14102347,\n",
       "       0.13535134, 0.11157814, 0.10265189, 0.06863044, 0.04624702,\n",
       "       0.0131521 , 0.00627097, 0.07467543, 0.073941  , 0.13811961,\n",
       "       0.16411873, 0.15707942, 0.1906941 , 0.19934917, 0.18164356,\n",
       "       0.14636792, 0.14613064, 0.1227755 , 0.15226602, 0.132278  ,\n",
       "       0.11423342, 0.14547529, 0.10984938, 0.09310419, 0.066687  ,\n",
       "       0.09790629, 0.08734167, 0.11544241, 0.11251596, 0.07082246,\n",
       "       0.04230365, 0.00798843, 0.10552185, 0.09162401])"
      ]
     },
     "execution_count": 87,
     "metadata": {},
     "output_type": "execute_result"
    }
   ],
   "source": [
    "minmax_scale(merge_df['ncv_kospi'])"
   ]
  },
  {
   "cell_type": "code",
   "execution_count": 88,
   "metadata": {
    "ExecuteTime": {
     "end_time": "2021-01-12T11:02:35.484134Z",
     "start_time": "2021-01-12T11:02:34.614685Z"
    },
    "scrolled": true
   },
   "outputs": [
    {
     "data": {
      "image/png": "[encoded data removed]",
      "text/plain": [
       "<Figure size 1440x360 with 1 Axes>"
      ]
     },
     "metadata": {
      "image/png": {
       "height": 305,
       "width": 1155
      }
     },
     "output_type": "display_data"
    }
   ],
   "source": [
    "plt.figure(figsize=(20,5))\n",
    "plt.plot(merge_df['dt'], minmax_scale(merge_df['ncv_kospi']), 'r*:', label='kospi')\n",
    "plt.plot(merge_df['dt'], minmax_scale(merge_df['ncv_kosdaq']), 'bo--', label='kosdaq')\n",
    "plt.plot(merge_df['dt'], minmax_scale(merge_df['nv']), 'g^-', label='usd')\n",
    "\n",
    "plt.legend()\n",
    "\n",
    "step = len(merge_df) // 10\n",
    "plt.xticks(merge_df[::step]['dt'])\n",
    "\n",
    "plt.show()"
   ]
  },
  {
   "cell_type": "markdown",
   "metadata": {},
   "source": [
    "### 상관계수"
   ]
  },
  {
   "cell_type": "code",
   "execution_count": 90,
   "metadata": {
    "ExecuteTime": {
     "end_time": "2021-01-12T11:03:51.168656Z",
     "start_time": "2021-01-12T11:03:51.098834Z"
    }
   },
   "outputs": [
    {
     "data": {
      "text/plain": [
       "0.9015038575914553"
      ]
     },
     "execution_count": 90,
     "metadata": {},
     "output_type": "execute_result"
    }
   ],
   "source": [
    "# kospi와 kosdaq\n",
    "np.corrcoef(merge_df['ncv_kospi'], merge_df['ncv_kosdaq'])[0,1]"
   ]
  },
  {
   "cell_type": "code",
   "execution_count": 91,
   "metadata": {
    "ExecuteTime": {
     "end_time": "2021-01-12T11:04:12.287961Z",
     "start_time": "2021-01-12T11:04:12.267516Z"
    }
   },
   "outputs": [
    {
     "data": {
      "text/plain": [
       "-0.7812923500155786"
      ]
     },
     "execution_count": 91,
     "metadata": {},
     "output_type": "execute_result"
    }
   ],
   "source": [
    "# kospi와 usd\n",
    "np.corrcoef(merge_df['ncv_kospi'], merge_df['nv'])[0,1]"
   ]
  },
  {
   "cell_type": "code",
   "execution_count": 92,
   "metadata": {
    "ExecuteTime": {
     "end_time": "2021-01-12T11:04:31.738342Z",
     "start_time": "2021-01-12T11:04:31.721964Z"
    }
   },
   "outputs": [
    {
     "data": {
      "text/plain": [
       "-0.5640775305367268"
      ]
     },
     "execution_count": 92,
     "metadata": {},
     "output_type": "execute_result"
    }
   ],
   "source": [
    "# kosdaq와 usd\n",
    "np.corrcoef(merge_df['ncv_kosdaq'], merge_df['nv'])[0,1]"
   ]
  },
  {
   "cell_type": "code",
   "execution_count": null,
   "metadata": {},
   "outputs": [],
   "source": []
  },
  {
   "cell_type": "code",
   "execution_count": null,
   "metadata": {},
   "outputs": [],
   "source": []
  },
  {
   "cell_type": "code",
   "execution_count": null,
   "metadata": {},
   "outputs": [],
   "source": []
  },
  {
   "cell_type": "code",
   "execution_count": null,
   "metadata": {},
   "outputs": [],
   "source": []
  },
  {
   "cell_type": "code",
   "execution_count": null,
   "metadata": {},
   "outputs": [],
   "source": []
  }
 ],
 "metadata": {
  "hide_input": false,
  "kernelspec": {
   "display_name": "Python 3",
   "language": "python",
   "name": "python3"
  },
  "language_info": {
   "codemirror_mode": {
    "name": "ipython",
    "version": 3
   },
   "file_extension": ".py",
   "mimetype": "text/x-python",
   "name": "python",
   "nbconvert_exporter": "python",
   "pygments_lexer": "ipython3",
   "version": "3.8.5"
  },
  "toc": {
   "base_numbering": 1,
   "nav_menu": {},
   "number_sections": true,
   "sideBar": true,
   "skip_h1_title": false,
   "title_cell": "Table of Contents",
   "title_sidebar": "Contents",
   "toc_cell": false,
   "toc_position": {},
   "toc_section_display": true,
   "toc_window_display": false
  },
  "varInspector": {
   "cols": {
    "lenName": 16,
    "lenType": 16,
    "lenVar": 40
   },
   "kernels_config": {
    "python": {
     "delete_cmd_postfix": "",
     "delete_cmd_prefix": "del ",
     "library": "var_list.py",
     "varRefreshCmd": "print(var_dic_list())"
    },
    "r": {
     "delete_cmd_postfix": ") ",
     "delete_cmd_prefix": "rm(",
     "library": "var_list.r",
     "varRefreshCmd": "cat(var_dic_list()) "
    }
   },
   "types_to_exclude": [
    "module",
    "function",
    "builtin_function_or_method",
    "instance",
    "_Feature"
   ],
   "window_display": false
  }
 },
 "nbformat": 4,
 "nbformat_minor": 4
}
