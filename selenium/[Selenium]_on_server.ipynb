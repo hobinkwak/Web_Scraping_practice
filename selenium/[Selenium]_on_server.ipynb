{
 "cells": [
  {
   "cell_type": "markdown",
   "metadata": {},
   "source": [
    "## 서버에서 Selenium 사용하기\n",
    "- 크롬 브라우저 설치\n",
    "    - sudo apt-get install -y chromium-browser\n",
    "        - 자동으로 인스톨러 yes눌러주는 옵션\n",
    "        - chromium-browser -version\n",
    "            - 버전 확인\n",
    "- 크롬 드라이버 다운로드\n",
    "    - 크롬 드라이버 다운로드 페이지 개발자옵션에서 href값 가져오기\n",
    "    -  'https://chromedriver.storage.googleapis.com/87.0.4280.88/chromedriver_linux64.zip'\n",
    "    - wget https://chromedriver.storage.googleapis.com/87.0.4280.88/chromedriver_linux64.zip\n",
    "    - sudo apt install unzip \n",
    "        - zip파일 압축해제용 프로그램 설치\n",
    "        - unzip chromedriver_linux64.zip\n",
    "            - apt는 패키지 설치 관리자임\n",
    "            - sudo는 super user라는 뜻. 관리자 권한으로 실행한다는 뜻\n",
    "    - sudo mv chromedriver /usr/local/bin\n",
    "        - 실행파일을 글로벌하게 사용하기 위하여 /usr/local/bin 디렉토리로 이동시킴\n",
    "        - mv는 move의 약자\n",
    "    - rm chromedriver_linux64.zip\n",
    "        - 파일 제거\n",
    "- selenium 패키지 설치\n",
    "    - pip install selenium\n",
    "    - pip install pillow\n",
    "\n",
    "\n",
    "- ps -e | grep\n",
    "    - 크롬용 브라우저 몇개 떴는지  화인\n",
    "    \n",
    "- 한글용 폰트 다운로드\n",
    "    - sudo apt-get install -y fonts-nanum*"
   ]
  },
  {
   "cell_type": "markdown",
   "metadata": {},
   "source": [
    "아래 내용은 서버 상 주피터 노트북에 작성한 것"
   ]
  },
  {
   "cell_type": "markdown",
   "metadata": {},
   "source": [
    "```python\n",
    "from selenium import webdriver\n",
    "from PIL import Image as pil\n",
    "\n",
    "options = webdriver.ChromeOptions()\n",
    "options.add_argument('headless')\n",
    "options.add_argument('window-size=1920x1080')\n",
    "driver = webdriver.Chrome(options=options)\n",
    "```"
   ]
  },
  {
   "cell_type": "markdown",
   "metadata": {},
   "source": [
    "- ps -e | grep bro\n",
    "    - 크롬용 브라우저가 몇 개 떴는지 확인"
   ]
  },
  {
   "cell_type": "markdown",
   "metadata": {},
   "source": [
    "```python\n",
    "driver.get('https://naver.com')\n",
    "driver.save_screenshot('naver_main.png')\n",
    "driver.quit()\n",
    "```"
   ]
  },
  {
   "cell_type": "markdown",
   "metadata": {},
   "source": [
    "- sudo apt-get install -y fonts-nanum* "
   ]
  }
 ],
 "metadata": {
  "hide_input": false,
  "kernelspec": {
   "display_name": "Python 3",
   "language": "python",
   "name": "python3"
  },
  "language_info": {
   "codemirror_mode": {
    "name": "ipython",
    "version": 3
   },
   "file_extension": ".py",
   "mimetype": "text/x-python",
   "name": "python",
   "nbconvert_exporter": "python",
   "pygments_lexer": "ipython3",
   "version": "3.8.5"
  },
  "toc": {
   "base_numbering": 1,
   "nav_menu": {},
   "number_sections": true,
   "sideBar": true,
   "skip_h1_title": false,
   "title_cell": "Table of Contents",
   "title_sidebar": "Contents",
   "toc_cell": false,
   "toc_position": {},
   "toc_section_display": true,
   "toc_window_display": false
  },
  "varInspector": {
   "cols": {
    "lenName": 16,
    "lenType": 16,
    "lenVar": 40
   },
   "kernels_config": {
    "python": {
     "delete_cmd_postfix": "",
     "delete_cmd_prefix": "del ",
     "library": "var_list.py",
     "varRefreshCmd": "print(var_dic_list())"
    },
    "r": {
     "delete_cmd_postfix": ") ",
     "delete_cmd_prefix": "rm(",
     "library": "var_list.r",
     "varRefreshCmd": "cat(var_dic_list()) "
    }
   },
   "types_to_exclude": [
    "module",
    "function",
    "builtin_function_or_method",
    "instance",
    "_Feature"
   ],
   "window_display": false
  }
 },
 "nbformat": 4,
 "nbformat_minor": 4
}
