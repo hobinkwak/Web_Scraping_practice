{
 "cells": [
  {
   "cell_type": "markdown",
   "metadata": {},
   "source": [
    "## Gmarket 베스트 상품 200개 크롤링\n",
    "- robots.txt 결과 모두 허용...\n",
    "- 상품명, 원가, 판매가\n",
    "- 썸네일 이미지"
   ]
  },
  {
   "cell_type": "code",
   "execution_count": 1,
   "metadata": {
    "ExecuteTime": {
     "end_time": "2021-01-22T13:12:33.965065Z",
     "start_time": "2021-01-22T13:12:33.961076Z"
    }
   },
   "outputs": [],
   "source": [
    "import requests"
   ]
  },
  {
   "cell_type": "code",
   "execution_count": 2,
   "metadata": {
    "ExecuteTime": {
     "end_time": "2021-01-22T13:13:25.767126Z",
     "start_time": "2021-01-22T13:13:25.651230Z"
    },
    "scrolled": true
   },
   "outputs": [
    {
     "data": {
      "text/plain": [
       "<Response [200]>"
      ]
     },
     "execution_count": 2,
     "metadata": {},
     "output_type": "execute_result"
    }
   ],
   "source": [
    "response = requests.get('http://corners.gmarket.co.kr/Bestsellers')\n",
    "response"
   ]
  },
  {
   "cell_type": "code",
   "execution_count": 4,
   "metadata": {
    "ExecuteTime": {
     "end_time": "2021-01-22T13:23:22.735437Z",
     "start_time": "2021-01-22T13:23:22.246184Z"
    }
   },
   "outputs": [],
   "source": [
    "doc = BeautifulSoup(response.text, 'html5lib')"
   ]
  },
  {
   "cell_type": "code",
   "execution_count": 5,
   "metadata": {
    "ExecuteTime": {
     "end_time": "2021-01-22T13:23:23.128419Z",
     "start_time": "2021-01-22T13:23:23.022702Z"
    }
   },
   "outputs": [
    {
     "data": {
      "text/plain": [
       "200"
      ]
     },
     "execution_count": 5,
     "metadata": {},
     "output_type": "execute_result"
    }
   ],
   "source": [
    "selector = '#gBestWrap > div > div:nth-child(5) > div:nth-child(3) > ul > li'\n",
    "elements = doc.select(selector)\n",
    "len(elements)"
   ]
  },
  {
   "cell_type": "markdown",
   "metadata": {},
   "source": [
    "- 상품코드, 제목, 판매가"
   ]
  },
  {
   "cell_type": "code",
   "execution_count": 50,
   "metadata": {
    "ExecuteTime": {
     "end_time": "2021-01-22T13:45:12.445372Z",
     "start_time": "2021-01-22T13:45:12.422789Z"
    },
    "scrolled": true
   },
   "outputs": [
    {
     "data": {
      "text/plain": [
       "1992687537"
      ]
     },
     "execution_count": 50,
     "metadata": {},
     "output_type": "execute_result"
    }
   ],
   "source": [
    "int(re.search('goodscode=(\\d+)', elements[0].select_one('a').get('href')).groups()[0])"
   ]
  },
  {
   "cell_type": "code",
   "execution_count": 36,
   "metadata": {
    "ExecuteTime": {
     "end_time": "2021-01-22T13:37:01.573869Z",
     "start_time": "2021-01-22T13:37:01.558069Z"
    },
    "scrolled": false
   },
   "outputs": [
    {
     "data": {
      "text/plain": [
       "'[브리타]막스트라 플러스 필터 3개월분'"
      ]
     },
     "execution_count": 36,
     "metadata": {},
     "output_type": "execute_result"
    }
   ],
   "source": [
    "import re\n",
    "elements[0].select_one('.itemname').text"
   ]
  },
  {
   "cell_type": "code",
   "execution_count": 40,
   "metadata": {
    "ExecuteTime": {
     "end_time": "2021-01-22T13:38:20.699869Z",
     "start_time": "2021-01-22T13:38:20.685915Z"
    },
    "scrolled": true
   },
   "outputs": [
    {
     "data": {
      "text/plain": [
       "'20,900원'"
      ]
     },
     "execution_count": 40,
     "metadata": {},
     "output_type": "execute_result"
    }
   ],
   "source": [
    "elements[0].select_one('.s-price').text.strip().split('\\n')[0]"
   ]
  },
  {
   "cell_type": "code",
   "execution_count": 52,
   "metadata": {
    "ExecuteTime": {
     "end_time": "2021-01-22T13:45:43.894310Z",
     "start_time": "2021-01-22T13:45:43.789881Z"
    },
    "scrolled": true
   },
   "outputs": [
    {
     "data": {
      "text/html": [
       "<div>\n",
       "<style scoped>\n",
       "    .dataframe tbody tr th:only-of-type {\n",
       "        vertical-align: middle;\n",
       "    }\n",
       "\n",
       "    .dataframe tbody tr th {\n",
       "        vertical-align: top;\n",
       "    }\n",
       "\n",
       "    .dataframe thead th {\n",
       "        text-align: right;\n",
       "    }\n",
       "</style>\n",
       "<table border=\"1\" class=\"dataframe\">\n",
       "  <thead>\n",
       "    <tr style=\"text-align: right;\">\n",
       "      <th></th>\n",
       "      <th>code</th>\n",
       "      <th>title</th>\n",
       "      <th>price</th>\n",
       "    </tr>\n",
       "  </thead>\n",
       "  <tbody>\n",
       "    <tr>\n",
       "      <th>195</th>\n",
       "      <td>1986796870</td>\n",
       "      <td>꿀당도 서귀포 한라봉 4.5kg내외/(25-28과/중소과)</td>\n",
       "      <td>16,900원</td>\n",
       "    </tr>\n",
       "    <tr>\n",
       "      <th>196</th>\n",
       "      <td>1552234801</td>\n",
       "      <td>[스팸]스팸 클래식 200g 10개</td>\n",
       "      <td>22,900원</td>\n",
       "    </tr>\n",
       "    <tr>\n",
       "      <th>197</th>\n",
       "      <td>805459425</td>\n",
       "      <td>[슈프림]남녀공용 후드티 남성여성 빅사이즈티셔츠 기모맨투맨</td>\n",
       "      <td>9,900원</td>\n",
       "    </tr>\n",
       "    <tr>\n",
       "      <th>198</th>\n",
       "      <td>1980690983</td>\n",
       "      <td>[삼양]삼양 육개장 1박스 (24개입) /컵라면/라면</td>\n",
       "      <td>15,900원</td>\n",
       "    </tr>\n",
       "    <tr>\n",
       "      <th>199</th>\n",
       "      <td>1688878141</td>\n",
       "      <td>[팬콧키즈]22%쿠폰 패딩 플리스 기모 티셔츠 팬츠 상하복 바지</td>\n",
       "      <td>17,900원</td>\n",
       "    </tr>\n",
       "  </tbody>\n",
       "</table>\n",
       "</div>"
      ],
      "text/plain": [
       "           code                                title    price\n",
       "195  1986796870     꿀당도 서귀포 한라봉 4.5kg내외/(25-28과/중소과)  16,900원\n",
       "196  1552234801                  [스팸]스팸 클래식 200g 10개  22,900원\n",
       "197   805459425     [슈프림]남녀공용 후드티 남성여성 빅사이즈티셔츠 기모맨투맨   9,900원\n",
       "198  1980690983        [삼양]삼양 육개장 1박스 (24개입) /컵라면/라면  15,900원\n",
       "199  1688878141  [팬콧키즈]22%쿠폰 패딩 플리스 기모 티셔츠 팬츠 상하복 바지  17,900원"
      ]
     },
     "execution_count": 52,
     "metadata": {},
     "output_type": "execute_result"
    }
   ],
   "source": [
    "datas = []\n",
    "for element in elements:\n",
    "    datas.append({\n",
    "        'code' :int(re.search('goodscode=(\\d+)', element.select_one('a').get('href')).groups()[0]),\n",
    "        'title':element.select_one('.itemname').text,\n",
    "        'price':element.select_one('.s-price').text.strip().split('\\n')[0],\n",
    "    })\n",
    "items_df = pd.DataFrame(datas)\n",
    "items_df.tail()"
   ]
  },
  {
   "cell_type": "markdown",
   "metadata": {},
   "source": [
    "### 이미지 크롤링"
   ]
  },
  {
   "cell_type": "code",
   "execution_count": 56,
   "metadata": {
    "ExecuteTime": {
     "end_time": "2021-01-22T13:53:30.679111Z",
     "start_time": "2021-01-22T13:53:30.632112Z"
    }
   },
   "outputs": [
    {
     "name": "stdout",
     "output_type": "stream",
     "text": [
      "http://gdimg.gmarket.co.kr/1992687537/still/300 [브리타]막스트라 플러스 필터 3개월분.png\n",
      "http://gdimg.gmarket.co.kr/1564736958/still/300 NEW 리뉴얼 그로미미 PPSU스테인리스 빨대컵 1+1.png\n",
      "http://gdimg.gmarket.co.kr/2009842804/still/300 마카롱리빙박스72L4개 정리함 수납박스 장난감정리함.png\n",
      "http://gdimg.gmarket.co.kr/1953059281/still/300 에티카  KF94 중형대형 30매 블랙화이트.png\n",
      "http://gdimg.gmarket.co.kr/1884627218/still/300 [실리쿡][실리쿡] 하프트레이 12개 세트(특대4 + 대4개 + 소4개).png\n",
      "http://gdimg.gmarket.co.kr/1602730714/still/300 정직한 젓갈   비빔오징어젓 1kg 밥도둑 쿠폰가 9620원.png\n",
      "http://gdimg.gmarket.co.kr/1798397615/still/300 [케피](125일단하루1+1+1)케피버블 클렌저 목욕놀이거품.png\n",
      "http://gdimg.gmarket.co.kr/1999349775/still/300 해남 꿀 고구마 3kg 대(300g이상).png\n",
      "http://gdimg.gmarket.co.kr/1729698859/still/300 [3M]표준형 베이직 물걸레 더블액션 청소포 180매.png\n",
      "http://gdimg.gmarket.co.kr/2011066048/still/300 숨마 주니어 중학 국어 비문학독해 123어휘력123문법연습 연습12.png\n",
      "http://gdimg.gmarket.co.kr/1910040585/still/300 [프렌치카페]프렌치카페 커피믹스 300T +10T.png\n",
      "http://gdimg.gmarket.co.kr/1962034682/still/300 [오늘]현대제지 오늘 천연펄프 키친타올 125매4롤4팩 총16롤.png\n",
      "http://gdimg.gmarket.co.kr/1805841852/still/300 [참도깨비]누들 마법 떡볶이 9인분누들떡3봉+스프32세트 어묵탕.png\n",
      "http://gdimg.gmarket.co.kr/1836449519/still/300 [하남 핫푸드] 하남쭈꾸미 500g X3팩.png\n",
      "http://gdimg.gmarket.co.kr/1830552870/still/300 [실리쿡][실리쿡] 하프트레이 대 10개.png\n",
      "http://gdimg.gmarket.co.kr/1799265896/still/300 [닥스_LIVING] 베스트 타월 선물세트 6종 택1.png\n",
      "http://gdimg.gmarket.co.kr/1732927023/still/300 고당도 노지 한라봉 5KG 혼합과 전상품 첫수확기념특가.png\n",
      "http://gdimg.gmarket.co.kr/1670679082/still/300 양평해장국 600g X 3팩 즉석국 탕 찌개 복수구매할인.png\n",
      "http://gdimg.gmarket.co.kr/1889474737/still/300 [지프] JEEP 남성 더블플리스 에디션 3종 (플리스+맨투맨+후드티).png\n",
      "http://gdimg.gmarket.co.kr/2014080662/still/300 초등중등 듣기평가대비 실용영어듣기Early Listeners Good Listeners.png\n",
      "http://gdimg.gmarket.co.kr/891916293/still/300 [허쉬]매일 허쉬드링크 190ml 24팩우유.png\n",
      "http://gdimg.gmarket.co.kr/1968679982/still/300 미국 칼로스쌀 20kg (10% 기본 쿠폰 + 15% 추가 쿠폰).png\n",
      "http://gdimg.gmarket.co.kr/1503717275/still/300 [크리넥스]안심클래식 키친타올 120매 4롤 4팩  화장지 휴지.png\n",
      "http://gdimg.gmarket.co.kr/1786778936/still/300 달콤 쫄깃한 영양간식 청도 감말랭이500g(가정용).png\n",
      "http://gdimg.gmarket.co.kr/1561667875/still/300 [주호데코](현대Hmall)여울 피그먼트 누빔패드 겸 이불 견고한 14mm 줄누빔.png\n",
      "http://gdimg.gmarket.co.kr/1798110680/still/300 [한상궁김치]100% 국산 겉절이 2kg 출고당일 버무린 배추 김치.png\n",
      "http://gdimg.gmarket.co.kr/1988172326/still/300 [블랙야크키즈]BKO토미플리스자켓.png\n",
      "http://gdimg.gmarket.co.kr/993622026/still/300 벨라쿠진 멀티 팟 세트 16cm.png\n",
      "http://gdimg.gmarket.co.kr/1958001929/still/300 찹쌀 모싯잎 오쟁이 떡  1.2kg (40g x 30개).png\n",
      "http://gdimg.gmarket.co.kr/890254237/still/300 HACCP 국산쌀(일반미)떡국떡1kgx2개떡국 쌀떡.png\n",
      "http://gdimg.gmarket.co.kr/1941697945/still/300 [꼼짝마스크]국산 블루본 블루 KF80 새부리형 2D 마스크 소형 50매.png\n",
      "http://gdimg.gmarket.co.kr/1549310335/still/300 보존료 없는 건자두 2kg 푸룬건과일.png\n",
      "http://gdimg.gmarket.co.kr/1916065166/still/300 [스매쉬]네바퀴 접이식 핸드카트 쇼핑카트 장바구니 캐리어.png\n",
      "http://gdimg.gmarket.co.kr/1889474728/still/300 [지프] JEEP 여성 더블플리스 에디션 3종 (플리스+맨투맨+후드티).png\n",
      "http://gdimg.gmarket.co.kr/1952708335/still/300 [블랙야크](신세계하남점)블랙야크[L프레리자켓1] 20년 가을겨울 신상 남성용  보온성이뛰어난 플리스 자켓 3BYJK....png\n",
      "http://gdimg.gmarket.co.kr/769284968/still/300 [라벨영]호랑이비누 2개구매시 1개증정여.드름+좁쌀 제거병풀.png\n",
      "http://gdimg.gmarket.co.kr/1849890603/still/300 kf94 소형 코끼리 어린이 마스크 100매 + 스트랩 1개.png\n",
      "http://gdimg.gmarket.co.kr/1562556277/still/300 [짜파게티]올리브짜파게티 40개입 짜파게티짜장라면라면.png\n",
      "http://gdimg.gmarket.co.kr/1984152791/still/300 KF94 KOY 황사 방역마스크 대형 100매 국산 개별포장.png\n",
      "http://gdimg.gmarket.co.kr/1635063363/still/300 [정직한밥상]진짜맛있는 흑마늘 왕족발 1kg.png\n",
      "http://gdimg.gmarket.co.kr/955182070/still/300 푹신한 온열 극세사 토퍼 1+1 (슈퍼싱글퀸킹).png\n",
      "http://gdimg.gmarket.co.kr/1899274105/still/300 [미래생활]미래생활 순수PURE천연펄프 25m 30롤 x 3팩.png\n",
      "http://gdimg.gmarket.co.kr/1583658466/still/300 강블리라이프 블링 휴 3겹 무형광 롤화장지 30M30롤2팩.png\n",
      "http://gdimg.gmarket.co.kr/1957397595/still/300 KF94 국산 마스크 100매 식약처인증 의약외품 개별포장.png\n",
      "http://gdimg.gmarket.co.kr/1369809437/still/300 [테리파머]호텔수건 무형광 200g 수건 10장 수건세트 타올 타월.png\n",
      "http://gdimg.gmarket.co.kr/695764140/still/300 25%쿠폰+~85% 제비집 특별기획구성 외 보습특가.png\n",
      "http://gdimg.gmarket.co.kr/1728110507/still/300 [리챔]동원 리챔 (햄통조림) 200g x10캔.png\n",
      "http://gdimg.gmarket.co.kr/1623067580/still/300 [밧드야](현대백화점)[VATYA] 밧드야 18-8 풀스텐 키친랙 (물받이 포함).png\n",
      "http://gdimg.gmarket.co.kr/1870254192/still/300 [아토세이프]타트체리 저분자 피쉬콜라겐 젤리스틱 4박스(60포).png\n",
      "http://gdimg.gmarket.co.kr/1912211871/still/300 [아디다스]아디다스푸마 홈쇼핑 남녀 겨울 내복 단품세트 특가.png\n",
      "http://gdimg.gmarket.co.kr/2009819067/still/300 셀렙샵 에디션 21spring 퀼팅 구스다운.png\n",
      "http://gdimg.gmarket.co.kr/1670609306/still/300 비니수 기획특가 겨울 신상모음전.png\n",
      "http://gdimg.gmarket.co.kr/1911174848/still/300 [길림양행]허니버터+와사비+군옥수수 아몬드130g_3봉 세트.png\n",
      "http://gdimg.gmarket.co.kr/1917483047/still/300 호주산 냉동 요리만능 차돌양지 다짐육 250gX3팩.png\n",
      "http://gdimg.gmarket.co.kr/1655242371/still/300 [구글플레이](카드가능) 기프트코드 10만원  구글 기프트카드.png\n",
      "http://gdimg.gmarket.co.kr/1157707109/still/300 [베베숲]아기물티슈 프리미어 캡70매 20팩.png\n",
      "http://gdimg.gmarket.co.kr/1285636243/still/300 [휴비딕]저주파자극기 HMB-1000 + 흡착패드 WP-400 세트H.png\n",
      "http://gdimg.gmarket.co.kr/1964989218/still/300 [순둥이]그린에디션(새해) 리필 80매 10팩wRaR-01 레이온100%.png\n",
      "http://gdimg.gmarket.co.kr/1199195638/still/300 [테리파머]호텔수건 무형광 180g 다이아보더 수건 10장 타올 특가.png\n",
      "http://gdimg.gmarket.co.kr/1975599165/still/300 [롯데제과]퀘이커 마시는오트밀그레인서리태 낱봉 20개입  1박스.png\n",
      "http://gdimg.gmarket.co.kr/1503353718/still/300 [오뚜기밥]맛있는 오뚜기밥 210g 24개.png\n",
      "http://gdimg.gmarket.co.kr/1883532433/still/300 [대우]대우 와플메이커 3 in 1(메탈블랙) 분리형.png\n",
      "http://gdimg.gmarket.co.kr/1993625771/still/300 빅마마 이혜정의 블랙앵거스 LA갈비 500g 8팩.png\n",
      "http://gdimg.gmarket.co.kr/1947674863/still/300 [돌]Dole 마녀 비법 레드 190ml 1박스 24팩 야채주스+증정.png\n",
      "http://gdimg.gmarket.co.kr/1510933479/still/300 [놋담](신세계강남점)유기 달수저 2인 누빔수저집 포함+백화점선물포장.png\n",
      "http://gdimg.gmarket.co.kr/1522021180/still/300 [깨끗한나라][100%천연펄프프리미엄] 깨끗한나라  벚꽃  27m x 30롤 x 3팩.png\n",
      "http://gdimg.gmarket.co.kr/1941634802/still/300 닌텐도 스위치 SWITCH 저스트댄스 2021 컴퓨존.png\n",
      "http://gdimg.gmarket.co.kr/1909869939/still/300 [코렐][대구백화점 II관] [코렐(Corelle)][코렐]리틀블루 냉면기4p.png\n",
      "http://gdimg.gmarket.co.kr/1804292168/still/300 [크리넥스]크리넥스 3겹 데코앤소프트 37MX24롤 2팩 화장지 휴지.png\n",
      "http://gdimg.gmarket.co.kr/2012029896/still/300 뿌리깊은 초등국어 독해력 시리즈 독해 어휘 시작단계 구매선택.png\n",
      "http://gdimg.gmarket.co.kr/2010880575/still/300 [엠엘비키즈]팀로고 볼캡(72CP78011).png\n",
      "http://gdimg.gmarket.co.kr/1853404348/still/300 (G) KF94 노이몬 마스크 중형 50매 새부리형 미세먼지.png\n",
      "http://gdimg.gmarket.co.kr/2005282472/still/300 [블랑슈]블랑슈 센시티브 아기물티슈 캡형 100매x10팩.png\n",
      "http://gdimg.gmarket.co.kr/1638381557/still/300 [코카콜라]코카콜라 190ml x 60캔탄산음료.png\n",
      "http://gdimg.gmarket.co.kr/2007100224/still/300 [앙방]프리미엄 디퓨저 200ml 7종 1+1개 +1개(7종 중 향 택1).png\n",
      "http://gdimg.gmarket.co.kr/1923847116/still/300 간장게장 2.3kg30년전통 여수 백용준님의 간장 꽃게장.png\n",
      "http://gdimg.gmarket.co.kr/1672879544/still/300 해담은 통순살 아귀포  5마리.png\n",
      "http://gdimg.gmarket.co.kr/1770672077/still/300 [빙그레]인기 아이스크림 40개 골라담기.png\n",
      "http://gdimg.gmarket.co.kr/1775007657/still/300 (논장)아스트리드 린드그렌 전8권Astrid Lindgren 안데르센상 수상작가의 대표 유년 동화.png\n",
      "http://gdimg.gmarket.co.kr/1708751772/still/300 전남생협 해풍맞고자란 시금치 (1kg).png\n",
      "http://gdimg.gmarket.co.kr/882358862/still/300 [빌레로이 앤 보흐]빌레로이앤보흐 디자인 나이프 머그잔 햄릿.png\n",
      "http://gdimg.gmarket.co.kr/1895097525/still/300 kf94 마스크 블랙 대형 100매 + 스트랩 1개 합리적인.png\n",
      "http://gdimg.gmarket.co.kr/1991966006/still/300 에어데이즈 KF94 새부리형 국산 마스크 대형 50매.png\n",
      "http://gdimg.gmarket.co.kr/1969140335/still/300 [아웃백스테이크하우스](아웃백빕스)Pays 외식카페 결합 금액권 5만원권.png\n",
      "http://gdimg.gmarket.co.kr/1988449825/still/300 [envy][고당도]씻어나온 프리미엄 ENVY(엔비) 사과 총 4.4kg(2.2kg 2box).png\n",
      "http://gdimg.gmarket.co.kr/2011913213/still/300 [그린핑거]우리아이 입체마스크 베이비용30P.png\n",
      "http://gdimg.gmarket.co.kr/1518171142/still/300 [보뚜]석류즙 100 석류과즙100% 실속형 100포 1박스.png\n",
      "http://gdimg.gmarket.co.kr/1913472646/still/300 [정관장]홍삼정 에브리타임 밸런스 10ml x30포.png\n",
      "http://gdimg.gmarket.co.kr/2002289782/still/300 [리복](신세계강남점)리복  남녀공용 프리미어1000 (Premier1000) 런닝화 FZ1065(아이보리)FZ1066(블랙).png\n",
      "http://gdimg.gmarket.co.kr/1885277229/still/300 [테팔]쿠퍼 딜라이트 인덕션 프라이팬 28cm티타늄프로코팅.png\n",
      "http://gdimg.gmarket.co.kr/1280233513/still/300 티메이 겨울신상 니트 가디건 기모맨투맨 트레이.png\n",
      "http://gdimg.gmarket.co.kr/898903185/still/300 [우르오스]우르오스 올인원 스킨밀크스킨로션 200ml 택1.png\n",
      "http://gdimg.gmarket.co.kr/1655241628/still/300 [구글플레이](카드가능) 기프트코드 3만원  구글 기프트카드.png\n",
      "http://gdimg.gmarket.co.kr/1949079667/still/300 NEW 오제끄 실크 고마주 바디필링 프리미엄 방송 최다패키지.png\n",
      "http://gdimg.gmarket.co.kr/1827693577/still/300 [광동옥수수수염차]광동 옥수수 수염차 1.5L x12입.png\n",
      "http://gdimg.gmarket.co.kr/1658922195/still/300 [오롯담] 우리소 양념 찜갈비500g 6팩.png\n",
      "http://gdimg.gmarket.co.kr/2007693201/still/300 (2권이상 무료배송)자녀교육서 추천 베스트.png\n",
      "http://gdimg.gmarket.co.kr/484828506/still/300 [아침농산]국산 농부의아침 쌀10kg  2020년산 햅쌀.png\n",
      "http://gdimg.gmarket.co.kr/1791565626/still/300 [에그머니](카드가능)(에그머니) 온라인 게임상품권 5만원.png\n",
      "http://gdimg.gmarket.co.kr/1730935249/still/300 [쉬크]쉬크 하이드로5 커스텀 하이드레이트 싱글팩(면도기1+날15+폼1+케이스1).png\n",
      "http://gdimg.gmarket.co.kr/1955584051/still/300 브레스마스크 KF-94 대형  100매입.png\n",
      "http://gdimg.gmarket.co.kr/2005702245/still/300 아이 스스로 성장하는 똑똑하게 레벨 업 세트(전7권).png\n",
      "http://gdimg.gmarket.co.kr/2013024635/still/300 [크리넥스]크리넥스 KF80 입체형 마스크 소형 10PX4개.png\n",
      "http://gdimg.gmarket.co.kr/1904145773/still/300 [폴햄]폴햄 맨투맨후드 외 이너 모음.png\n",
      "http://gdimg.gmarket.co.kr/1658859485/still/300 [릴리유]릴리유 퓨어그린 아기물티슈 캡 80매 10팩 E.png\n",
      "http://gdimg.gmarket.co.kr/2005874455/still/300 3중 필터 샤워기 (+리필필터 10P).png\n",
      "http://gdimg.gmarket.co.kr/1636284317/still/300 엄마애바다 국내가공 백진미채 1kg.png\n",
      "http://gdimg.gmarket.co.kr/1468424485/still/300 로지텍 G304 무선 게이밍 마우스 병행 밀봉박스새상품.png\n",
      "http://gdimg.gmarket.co.kr/1872366168/still/300 얼라이브즈 슬라이딩 리빙박스 3P SET.png\n",
      "http://gdimg.gmarket.co.kr/2006318469/still/300 [한샘]양날개 튼튼 빨래 건조대 + 사은품 3종택1.png\n",
      "http://gdimg.gmarket.co.kr/2004307722/still/300 [휠라]휠라볼란테 98 스웨이드 FS1HTB1167XWRD.png\n",
      "http://gdimg.gmarket.co.kr/2004425139/still/300 [뉴발란스]본사최대 75% 혜택 신학기가방맨투맨운동화기획전.png\n",
      "http://gdimg.gmarket.co.kr/2005886978/still/300 (행사상품)믿고먹는_안심농협쌀_20KG 포 .png\n",
      "http://gdimg.gmarket.co.kr/1896140332/still/300 [애슐리]애슐리 볶음밥 (갈릭스테이크4인분+깍두기치즈4인분).png\n",
      "http://gdimg.gmarket.co.kr/1918253986/still/300 [착한떡](숏핑) 착한떡 우유꿀백설기 40개 택1(우유설기 인절미 찹쌀떡).png\n",
      "http://gdimg.gmarket.co.kr/1901000786/still/300 두리 3.0 유아변기커버+디딤대상단 화이트 트리플 무소음 아기변기 항균소재.png\n",
      "http://gdimg.gmarket.co.kr/858294811/still/300 황금미가 쌀 20kg 20년산 (당일도정).png\n",
      "http://gdimg.gmarket.co.kr/1926860218/still/300 [크리넥스]크리넥스 3겹 순수소프트화장지 27m30롤x2팩 휴지.png\n",
      "http://gdimg.gmarket.co.kr/1655242060/still/300 [구글플레이](카드가능) 기프트코드 5만원  구글 기프트카드.png\n",
      "http://gdimg.gmarket.co.kr/1891034597/still/300 kf80 소형 코끼리 어린이 마스크 100매 + 스트랩 1개.png\n",
      "http://gdimg.gmarket.co.kr/1943837116/still/300 블루본 먼지어흥 KF80 소형 마스크 50매 당일배송.png\n",
      "http://gdimg.gmarket.co.kr/1756575576/still/300 [르크루제]갤러리아   르크루제  카술레 서빙볼 (로즈쿼츠 재입고).png\n",
      "http://gdimg.gmarket.co.kr/1909968960/still/300 [오제끄][싱글구성]오제끄 프리미엄 실크 바디필링 10종 시즌2.png\n",
      "http://gdimg.gmarket.co.kr/1623157407/still/300 [밧드야](현대백화점)[VATYA] 밧드야 18-8 스테인레스 3L 음식물쓰레기통.png\n",
      "http://gdimg.gmarket.co.kr/2008631885/still/300 [쉬크][포토상품평]쉬크 하이드로5 커스텀  패밀리팩(면도기2+날34+폼2+케이스2).png\n",
      "http://gdimg.gmarket.co.kr/2011906245/still/300 [그린핑거]우리아이 입체마스크 키즈용30P.png\n",
      "http://gdimg.gmarket.co.kr/1711339174/still/300 통통생굴 2kg  횟감용 밤 12시까지만 게릴라 무배특가.png\n",
      "http://gdimg.gmarket.co.kr/1964433227/still/300 [켈로그]켈로그 그래놀라 3종(블루베리+크렌베리+현미).png\n",
      "http://gdimg.gmarket.co.kr/175202294/still/300 1+1 피그먼트워싱 극세사 침대패드 겸 카페트.png\n",
      "http://gdimg.gmarket.co.kr/1784364135/still/300 [안다르]20+10% 안다르 홈트 특가 이태리 레깅스 Chp.2.png\n",
      "http://gdimg.gmarket.co.kr/1888498231/still/300 알앤알 HACCP 구운 커피콩빵 커피맛 20개 R1.png\n",
      "http://gdimg.gmarket.co.kr/1490019603/still/300 센스물티슈 악어 캡형 100매 10팩+10팩  한장씩톡톡.png\n",
      "http://gdimg.gmarket.co.kr/1835970332/still/300 kf94 마스크 소형 화이트 100매 합리적인 어린이 아동.png\n",
      "http://gdimg.gmarket.co.kr/1492207853/still/300 컴퓨존 닌텐도 SWITCH 슈퍼 마리오 파티 재고보유.png\n",
      "http://gdimg.gmarket.co.kr/1701292660/still/300 [강블리라이프]블링미 쌀 20kg 강블리라이프 20년 햅쌀 당일도정.png\n",
      "http://gdimg.gmarket.co.kr/1998047713/still/300 NIX 닉스 초특가 남성 기모데님 + 플리스점퍼.png\n",
      "http://gdimg.gmarket.co.kr/1882866545/still/300 [비비고]비비고 언양식바싹불고기 x2 + 한입떡갈비 x2번들 2개.png\n",
      "http://gdimg.gmarket.co.kr/354777561/still/300 [백옥생]기초화장품 세트 스킨로션  기능성 한방 3종 명절선물.png\n",
      "http://gdimg.gmarket.co.kr/1985403891/still/300 [코모도스퀘어][코모도스퀘어]3-WAY 다운코트.png\n",
      "http://gdimg.gmarket.co.kr/1672763948/still/300 |서울 중구| 서울신라호텔(신라신라호텔서울신라호텔수영장호텔추천특1급중구호텔호텔신라).png\n",
      "http://gdimg.gmarket.co.kr/2013804207/still/300 크리넥스 데코앤소프트화장지 35m 24롤 2팩 3겹 108mm.png\n",
      "http://gdimg.gmarket.co.kr/1754998124/still/300 [크리넥스]크리넥스 3겹 데코소프트 33MX24롤 X2팩화장지휴지.png\n",
      "http://gdimg.gmarket.co.kr/2005142128/still/300 멀티고정걸이 10개세트.png\n",
      "http://gdimg.gmarket.co.kr/1751677034/still/300 갤러리아  앙시 보클링 알사스앙시.png\n",
      "http://gdimg.gmarket.co.kr/1757960913/still/300 [해피바스]해피바스 마이크로미셀라 딥클렌징폼 120g 3개.png\n",
      "http://gdimg.gmarket.co.kr/1888337932/still/300 [필립스]PHILIPS 전기면도기 SkinIQ 5000 S558110 버건디레드.png\n",
      "http://gdimg.gmarket.co.kr/884898729/still/300 [깨끗한나라]보솜이 액션핏앤모션 팬티 기저귀 4팩 (1BOX).png\n",
      "http://gdimg.gmarket.co.kr/1954571095/still/300 감귤나라 10kg 혼합과 (골고루) 단독기획 특가찬스.png\n",
      "http://gdimg.gmarket.co.kr/1999592269/still/300 끈조절가능 블루나 페이스핏 KF94 보건용마스크 60매.png\n",
      "http://gdimg.gmarket.co.kr/1991919485/still/300 [브리타]마렐라XL 3.5L 화이트 +필터 1개월분 (기본구성).png\n",
      "http://gdimg.gmarket.co.kr/1541343146/still/300 [가쯔]마카롱리빙박스24L4개 정리함 다용도 공간박스 정리.png\n",
      "http://gdimg.gmarket.co.kr/1878273571/still/300 엔비 마카롱 칫솔 10개입 미세모 1+1+1세트 (ALS135).png\n",
      "http://gdimg.gmarket.co.kr/1938112152/still/300 [가수 진성이 선택한 견과 ]프리미엄트러플견과 120봉+무료체험3봉.png\n",
      "http://gdimg.gmarket.co.kr/1830552871/still/300 [실리쿡][실리쿡] 하프트레이 대5개 + 하프트레이 소5개.png\n",
      "http://gdimg.gmarket.co.kr/1991998513/still/300 한라봉 4.5kg(중과)20-22과내외.png\n",
      "http://gdimg.gmarket.co.kr/1914628991/still/300 [빅마마](천연조미료육수한알) 빅마마 이혜정의 시크릿코인200개 개별포장 18가지 자연재료.png\n",
      "http://gdimg.gmarket.co.kr/1885190404/still/300 [폴햄]폴햄 티셔츠셔츠 외 이너모음.png\n",
      "http://gdimg.gmarket.co.kr/1895033274/still/300 [키즈마루]국산 3중 비말차단 마스크 300매 KF-AD MB필터 마스크.png\n",
      "http://gdimg.gmarket.co.kr/1548083569/still/300 [팬콧키즈]22%중복쿠폰 팬콧키즈 맨투맨셋업실내복레깅스.png\n",
      "http://gdimg.gmarket.co.kr/1430266775/still/300 시크루즈10%기모원피스SET상품니트빅사이즈.png\n",
      "http://gdimg.gmarket.co.kr/1824782268/still/300 [츄앤]청정원 크랩봉츄육포 골라담기.png\n",
      "http://gdimg.gmarket.co.kr/1556677802/still/300 [로투스]비스코프 비스킷 싱글팩 300개 (50Px6개입) 커피과자.png\n",
      "http://gdimg.gmarket.co.kr/1983500711/still/300 [커블체어] 와이더 2 + 와이더 1 EVENT.png\n",
      "http://gdimg.gmarket.co.kr/1506413620/still/300 [스타벅스]컵커피 스키니라떼 200mlX10컵 X클래식토트백+전용포장.png\n",
      "http://gdimg.gmarket.co.kr/1656031429/still/300 [맥심]모카골드 선물세트 20호 200T x4입 (1박스) 맥심.png\n",
      "http://gdimg.gmarket.co.kr/2000931582/still/300 [쉬즈홈]몰랑이 옥스포드 삼각 등쿠션 (3color).png\n",
      "http://gdimg.gmarket.co.kr/2011853546/still/300 JYBOOKS Top student 선택구매.png\n",
      "http://gdimg.gmarket.co.kr/1703723582/still/300 이동식 반신욕조 대형_1200.png\n",
      "http://gdimg.gmarket.co.kr/701343009/still/300 (행사상품)[20년산]The Plus 좋은쌀_20KG 포 .png\n",
      "http://gdimg.gmarket.co.kr/1747691937/still/300 [테리파머]뱀부얀 호텔수건 180g 항균 수건 10장 무형광 자연항균.png\n",
      "http://gdimg.gmarket.co.kr/1654805524/still/300 [구글플레이](카드가능) 기프트코드 1만원  구글 기프트카드.png\n",
      "http://gdimg.gmarket.co.kr/1965130647/still/300 국내산 KF94 마스크 100매 개별포장 대형 식약처 인증.png\n",
      "http://gdimg.gmarket.co.kr/1892435032/still/300 [해즈브로]해즈브로 모노폴리 K부동산 + 모노폴리 클래식 한글판.png\n",
      "http://gdimg.gmarket.co.kr/2005164467/still/300 뒹굴 피치 팬츠 안입은듯한 편안함 강남킴스.png\n",
      "http://gdimg.gmarket.co.kr/1761073392/still/300 [동원에프앤비]동원 샘물 2Lx6병x6팩(총36병).png\n",
      "http://gdimg.gmarket.co.kr/1894874197/still/300 [테리파머]호텔수건 무형광 200g 수건 10장 수건세트 타올 타월.png\n",
      "http://gdimg.gmarket.co.kr/1703723747/still/300 이동식 반신욕조.png\n",
      "http://gdimg.gmarket.co.kr/2004391422/still/300 (풀빛)풀빛 핀두스의 아주 특별한 이야기 시리즈 전9권+워크북재정가세트.png\n",
      "http://gdimg.gmarket.co.kr/417478438/still/300 [삼성전자]인증점 삼성 전자레인지 MS23K3513AW 23L (7%중복쿠폰).png\n",
      "http://gdimg.gmarket.co.kr/1991907821/still/300 네퓨어 1장당 최저가 뉴네퓨어 방역용마스크 KF94 70.png\n",
      "http://gdimg.gmarket.co.kr/1969907291/still/300 블루본 먼지어흥 KF94 소형 마스크 50매 당일배송.png\n",
      "http://gdimg.gmarket.co.kr/1742740943/still/300 고려홍삼중앙회 투데이 녹용홍삼스틱 10ml100포대용량.png\n",
      "http://gdimg.gmarket.co.kr/1991746716/still/300 한복선 양념LA갈비 500gX6팩.png\n",
      "http://gdimg.gmarket.co.kr/1962937984/still/300 닌자 프로페셔널 초퍼 블렌더 믹서기 NJ1001KR.png\n",
      "http://gdimg.gmarket.co.kr/1885279582/still/300 [테팔]쿠퍼 딜라이트 인덕션 프라이팬 24cm티타늄프로코팅.png\n",
      "http://gdimg.gmarket.co.kr/2006415906/still/300 [푸마](2+2)푸마골프 20FW 남성 모크넥4종.png\n",
      "http://gdimg.gmarket.co.kr/1890904736/still/300 씨드비 물염색 100% 물로 하는 프리미엄 염색 최다(브라운24회분).png\n",
      "http://gdimg.gmarket.co.kr/1778558468/still/300 (논장)소녀 탐정 캠 시리즈 전5권.png\n",
      "http://gdimg.gmarket.co.kr/1686035302/still/300 [제주삼다수]제주삼다수 2L 12병생수전문배송.png\n",
      "http://gdimg.gmarket.co.kr/1615409666/still/300 에이블린포근니트기모원피스티셔츠맨투맨스커트.png\n",
      "http://gdimg.gmarket.co.kr/2007710556/still/300 어린이과학동아 1년 정기구독 (도치맘 전용).png\n",
      "http://gdimg.gmarket.co.kr/1766184747/still/300 [릴리유]릴리유 퓨어퍼플 물티슈 캡72매X10팩(1BOX).png\n",
      "http://gdimg.gmarket.co.kr/1766223234/still/300 [금성농협] 20년산 대숲맑은담양쌀 10kg새청무특등급당일도정.png\n",
      "http://gdimg.gmarket.co.kr/1984103751/still/300 [좋은느낌]입는 오버나이트 L 8매X2팩생리대팬티형 증정.png\n",
      "http://gdimg.gmarket.co.kr/1841569561/still/300 [개성]개성 교자만두 1kg 4개.png\n",
      "http://gdimg.gmarket.co.kr/1986796870/still/300 꿀당도 서귀포 한라봉 4.5kg내외(25-28과중소과).png\n",
      "http://gdimg.gmarket.co.kr/1552234801/still/300 [스팸]스팸 클래식 200g 10개.png\n",
      "http://gdimg.gmarket.co.kr/805459425/still/300 [슈프림]남녀공용 후드티 남성여성 빅사이즈티셔츠 기모맨투맨.png\n",
      "http://gdimg.gmarket.co.kr/1980690983/still/300 [삼양]삼양 육개장 1박스 (24개입) 컵라면라면.png\n",
      "http://gdimg.gmarket.co.kr/1688878141/still/300 [팬콧키즈]22%쿠폰 패딩 플리스 기모 티셔츠 팬츠 상하복 바지.png\n"
     ]
    }
   ],
   "source": [
    "for idx, row in items_df.iterrows():\n",
    "    link = 'http://gdimg.gmarket.co.kr/{}/still/300'.format(row['code'])\n",
    "    title = row['title'] + '.png'\n",
    "    title = title.replace('/', '')\n",
    "    print(link, title)"
   ]
  },
  {
   "cell_type": "code",
   "execution_count": 57,
   "metadata": {
    "ExecuteTime": {
     "end_time": "2021-01-22T13:55:43.243585Z",
     "start_time": "2021-01-22T13:55:43.204210Z"
    }
   },
   "outputs": [],
   "source": [
    "!mkdir datas"
   ]
  },
  {
   "cell_type": "code",
   "execution_count": 58,
   "metadata": {
    "ExecuteTime": {
     "end_time": "2021-01-22T13:58:13.367179Z",
     "start_time": "2021-01-22T13:58:13.352356Z"
    }
   },
   "outputs": [],
   "source": [
    "def download(title, link):\n",
    "    # stream : 데이터를 잘게 쪼개서\n",
    "    # 대용량 데이터일 경우, 전송되는 데이터 중 한 번 깨지면 처음부터 다시 보냄\n",
    "    response = requests.get(link, stream=True) \n",
    "    path = \"./datas/{}\".format(title)\n",
    "    \n",
    "    with open(path, 'wb') as f:\n",
    "        # 파일 분할해서 저장하는 것\n",
    "        for chunk in response.iter_content(chunk_size=1024):\n",
    "            if chunk:\n",
    "                f.write(chunk)"
   ]
  },
  {
   "cell_type": "code",
   "execution_count": 59,
   "metadata": {
    "ExecuteTime": {
     "end_time": "2021-01-22T13:59:46.156266Z",
     "start_time": "2021-01-22T13:59:42.837809Z"
    }
   },
   "outputs": [
    {
     "name": "stdout",
     "output_type": "stream",
     "text": [
      "[브리타]막스트라 플러스 필터 3개월분.png http://gdimg.gmarket.co.kr/1992687537/still/300\n",
      "NEW 리뉴얼 그로미미 PPSU스테인리스 빨대컵 1+1.png http://gdimg.gmarket.co.kr/1564736958/still/300\n",
      "마카롱리빙박스72L4개 정리함 수납박스 장난감정리함.png http://gdimg.gmarket.co.kr/2009842804/still/300\n",
      "에티카  KF94 중형대형 30매 블랙화이트.png http://gdimg.gmarket.co.kr/1953059281/still/300\n",
      "[실리쿡][실리쿡] 하프트레이 12개 세트(특대4 + 대4개 + 소4개).png http://gdimg.gmarket.co.kr/1884627218/still/300\n",
      "정직한 젓갈   비빔오징어젓 1kg 밥도둑 쿠폰가 9620원.png http://gdimg.gmarket.co.kr/1602730714/still/300\n",
      "[케피](125일단하루1+1+1)케피버블 클렌저 목욕놀이거품.png http://gdimg.gmarket.co.kr/1798397615/still/300\n",
      "해남 꿀 고구마 3kg 대(300g이상).png http://gdimg.gmarket.co.kr/1999349775/still/300\n",
      "[3M]표준형 베이직 물걸레 더블액션 청소포 180매.png http://gdimg.gmarket.co.kr/1729698859/still/300\n",
      "숨마 주니어 중학 국어 비문학독해 123어휘력123문법연습 연습12.png http://gdimg.gmarket.co.kr/2011066048/still/300\n",
      "[프렌치카페]프렌치카페 커피믹스 300T +10T.png http://gdimg.gmarket.co.kr/1910040585/still/300\n",
      "[오늘]현대제지 오늘 천연펄프 키친타올 125매4롤4팩 총16롤.png http://gdimg.gmarket.co.kr/1962034682/still/300\n",
      "[참도깨비]누들 마법 떡볶이 9인분누들떡3봉+스프32세트 어묵탕.png http://gdimg.gmarket.co.kr/1805841852/still/300\n",
      "[하남 핫푸드] 하남쭈꾸미 500g X3팩.png http://gdimg.gmarket.co.kr/1836449519/still/300\n",
      "[실리쿡][실리쿡] 하프트레이 대 10개.png http://gdimg.gmarket.co.kr/1830552870/still/300\n",
      "[닥스_LIVING] 베스트 타월 선물세트 6종 택1.png http://gdimg.gmarket.co.kr/1799265896/still/300\n",
      "고당도 노지 한라봉 5KG 혼합과 전상품 첫수확기념특가.png http://gdimg.gmarket.co.kr/1732927023/still/300\n",
      "양평해장국 600g X 3팩 즉석국 탕 찌개 복수구매할인.png http://gdimg.gmarket.co.kr/1670679082/still/300\n",
      "[지프] JEEP 남성 더블플리스 에디션 3종 (플리스+맨투맨+후드티).png http://gdimg.gmarket.co.kr/1889474737/still/300\n",
      "초등중등 듣기평가대비 실용영어듣기Early Listeners Good Listeners.png http://gdimg.gmarket.co.kr/2014080662/still/300\n",
      "[허쉬]매일 허쉬드링크 190ml 24팩우유.png http://gdimg.gmarket.co.kr/891916293/still/300\n",
      "미국 칼로스쌀 20kg (10% 기본 쿠폰 + 15% 추가 쿠폰).png http://gdimg.gmarket.co.kr/1968679982/still/300\n",
      "[크리넥스]안심클래식 키친타올 120매 4롤 4팩  화장지 휴지.png http://gdimg.gmarket.co.kr/1503717275/still/300\n",
      "달콤 쫄깃한 영양간식 청도 감말랭이500g(가정용).png http://gdimg.gmarket.co.kr/1786778936/still/300\n",
      "[주호데코](현대Hmall)여울 피그먼트 누빔패드 겸 이불 견고한 14mm 줄누빔.png http://gdimg.gmarket.co.kr/1561667875/still/300\n",
      "[한상궁김치]100% 국산 겉절이 2kg 출고당일 버무린 배추 김치.png http://gdimg.gmarket.co.kr/1798110680/still/300\n",
      "[블랙야크키즈]BKO토미플리스자켓.png http://gdimg.gmarket.co.kr/1988172326/still/300\n",
      "벨라쿠진 멀티 팟 세트 16cm.png http://gdimg.gmarket.co.kr/993622026/still/300\n",
      "찹쌀 모싯잎 오쟁이 떡  1.2kg (40g x 30개).png http://gdimg.gmarket.co.kr/1958001929/still/300\n",
      "HACCP 국산쌀(일반미)떡국떡1kgx2개떡국 쌀떡.png http://gdimg.gmarket.co.kr/890254237/still/300\n",
      "[꼼짝마스크]국산 블루본 블루 KF80 새부리형 2D 마스크 소형 50매.png http://gdimg.gmarket.co.kr/1941697945/still/300\n",
      "보존료 없는 건자두 2kg 푸룬건과일.png http://gdimg.gmarket.co.kr/1549310335/still/300\n",
      "[스매쉬]네바퀴 접이식 핸드카트 쇼핑카트 장바구니 캐리어.png http://gdimg.gmarket.co.kr/1916065166/still/300\n",
      "[지프] JEEP 여성 더블플리스 에디션 3종 (플리스+맨투맨+후드티).png http://gdimg.gmarket.co.kr/1889474728/still/300\n",
      "[블랙야크](신세계하남점)블랙야크[L프레리자켓1] 20년 가을겨울 신상 남성용  보온성이뛰어난 플리스 자켓 3BYJK....png http://gdimg.gmarket.co.kr/1952708335/still/300\n",
      "[라벨영]호랑이비누 2개구매시 1개증정여.드름+좁쌀 제거병풀.png http://gdimg.gmarket.co.kr/769284968/still/300\n",
      "kf94 소형 코끼리 어린이 마스크 100매 + 스트랩 1개.png http://gdimg.gmarket.co.kr/1849890603/still/300\n",
      "[짜파게티]올리브짜파게티 40개입 짜파게티짜장라면라면.png http://gdimg.gmarket.co.kr/1562556277/still/300\n",
      "KF94 KOY 황사 방역마스크 대형 100매 국산 개별포장.png http://gdimg.gmarket.co.kr/1984152791/still/300\n",
      "[정직한밥상]진짜맛있는 흑마늘 왕족발 1kg.png http://gdimg.gmarket.co.kr/1635063363/still/300\n",
      "푹신한 온열 극세사 토퍼 1+1 (슈퍼싱글퀸킹).png http://gdimg.gmarket.co.kr/955182070/still/300\n",
      "[미래생활]미래생활 순수PURE천연펄프 25m 30롤 x 3팩.png http://gdimg.gmarket.co.kr/1899274105/still/300\n",
      "강블리라이프 블링 휴 3겹 무형광 롤화장지 30M30롤2팩.png http://gdimg.gmarket.co.kr/1583658466/still/300\n",
      "KF94 국산 마스크 100매 식약처인증 의약외품 개별포장.png http://gdimg.gmarket.co.kr/1957397595/still/300\n",
      "[테리파머]호텔수건 무형광 200g 수건 10장 수건세트 타올 타월.png http://gdimg.gmarket.co.kr/1369809437/still/300\n",
      "25%쿠폰+~85% 제비집 특별기획구성 외 보습특가.png http://gdimg.gmarket.co.kr/695764140/still/300\n",
      "[리챔]동원 리챔 (햄통조림) 200g x10캔.png http://gdimg.gmarket.co.kr/1728110507/still/300\n",
      "[밧드야](현대백화점)[VATYA] 밧드야 18-8 풀스텐 키친랙 (물받이 포함).png http://gdimg.gmarket.co.kr/1623067580/still/300\n",
      "[아토세이프]타트체리 저분자 피쉬콜라겐 젤리스틱 4박스(60포).png http://gdimg.gmarket.co.kr/1870254192/still/300\n",
      "[아디다스]아디다스푸마 홈쇼핑 남녀 겨울 내복 단품세트 특가.png http://gdimg.gmarket.co.kr/1912211871/still/300\n",
      "셀렙샵 에디션 21spring 퀼팅 구스다운.png http://gdimg.gmarket.co.kr/2009819067/still/300\n",
      "비니수 기획특가 겨울 신상모음전.png http://gdimg.gmarket.co.kr/1670609306/still/300\n",
      "[길림양행]허니버터+와사비+군옥수수 아몬드130g_3봉 세트.png http://gdimg.gmarket.co.kr/1911174848/still/300\n",
      "호주산 냉동 요리만능 차돌양지 다짐육 250gX3팩.png http://gdimg.gmarket.co.kr/1917483047/still/300\n",
      "[구글플레이](카드가능) 기프트코드 10만원  구글 기프트카드.png http://gdimg.gmarket.co.kr/1655242371/still/300\n",
      "[베베숲]아기물티슈 프리미어 캡70매 20팩.png http://gdimg.gmarket.co.kr/1157707109/still/300\n",
      "[휴비딕]저주파자극기 HMB-1000 + 흡착패드 WP-400 세트H.png http://gdimg.gmarket.co.kr/1285636243/still/300\n",
      "[순둥이]그린에디션(새해) 리필 80매 10팩wRaR-01 레이온100%.png http://gdimg.gmarket.co.kr/1964989218/still/300\n",
      "[테리파머]호텔수건 무형광 180g 다이아보더 수건 10장 타올 특가.png http://gdimg.gmarket.co.kr/1199195638/still/300\n",
      "[롯데제과]퀘이커 마시는오트밀그레인서리태 낱봉 20개입  1박스.png http://gdimg.gmarket.co.kr/1975599165/still/300\n",
      "[오뚜기밥]맛있는 오뚜기밥 210g 24개.png http://gdimg.gmarket.co.kr/1503353718/still/300\n",
      "[대우]대우 와플메이커 3 in 1(메탈블랙) 분리형.png http://gdimg.gmarket.co.kr/1883532433/still/300\n",
      "빅마마 이혜정의 블랙앵거스 LA갈비 500g 8팩.png http://gdimg.gmarket.co.kr/1993625771/still/300\n",
      "[돌]Dole 마녀 비법 레드 190ml 1박스 24팩 야채주스+증정.png http://gdimg.gmarket.co.kr/1947674863/still/300\n",
      "[놋담](신세계강남점)유기 달수저 2인 누빔수저집 포함+백화점선물포장.png http://gdimg.gmarket.co.kr/1510933479/still/300\n",
      "[깨끗한나라][100%천연펄프프리미엄] 깨끗한나라  벚꽃  27m x 30롤 x 3팩.png http://gdimg.gmarket.co.kr/1522021180/still/300\n",
      "닌텐도 스위치 SWITCH 저스트댄스 2021 컴퓨존.png http://gdimg.gmarket.co.kr/1941634802/still/300\n",
      "[코렐][대구백화점 II관] [코렐(Corelle)][코렐]리틀블루 냉면기4p.png http://gdimg.gmarket.co.kr/1909869939/still/300\n",
      "[크리넥스]크리넥스 3겹 데코앤소프트 37MX24롤 2팩 화장지 휴지.png http://gdimg.gmarket.co.kr/1804292168/still/300\n",
      "뿌리깊은 초등국어 독해력 시리즈 독해 어휘 시작단계 구매선택.png http://gdimg.gmarket.co.kr/2012029896/still/300\n",
      "[엠엘비키즈]팀로고 볼캡(72CP78011).png http://gdimg.gmarket.co.kr/2010880575/still/300\n",
      "(G) KF94 노이몬 마스크 중형 50매 새부리형 미세먼지.png http://gdimg.gmarket.co.kr/1853404348/still/300\n",
      "[블랑슈]블랑슈 센시티브 아기물티슈 캡형 100매x10팩.png http://gdimg.gmarket.co.kr/2005282472/still/300\n",
      "[코카콜라]코카콜라 190ml x 60캔탄산음료.png http://gdimg.gmarket.co.kr/1638381557/still/300\n",
      "[앙방]프리미엄 디퓨저 200ml 7종 1+1개 +1개(7종 중 향 택1).png http://gdimg.gmarket.co.kr/2007100224/still/300\n",
      "간장게장 2.3kg30년전통 여수 백용준님의 간장 꽃게장.png http://gdimg.gmarket.co.kr/1923847116/still/300\n",
      "해담은 통순살 아귀포  5마리.png http://gdimg.gmarket.co.kr/1672879544/still/300\n",
      "[빙그레]인기 아이스크림 40개 골라담기.png http://gdimg.gmarket.co.kr/1770672077/still/300\n",
      "(논장)아스트리드 린드그렌 전8권Astrid Lindgren 안데르센상 수상작가의 대표 유년 동화.png http://gdimg.gmarket.co.kr/1775007657/still/300\n",
      "전남생협 해풍맞고자란 시금치 (1kg).png http://gdimg.gmarket.co.kr/1708751772/still/300\n",
      "[빌레로이 앤 보흐]빌레로이앤보흐 디자인 나이프 머그잔 햄릿.png http://gdimg.gmarket.co.kr/882358862/still/300\n",
      "kf94 마스크 블랙 대형 100매 + 스트랩 1개 합리적인.png http://gdimg.gmarket.co.kr/1895097525/still/300\n",
      "에어데이즈 KF94 새부리형 국산 마스크 대형 50매.png http://gdimg.gmarket.co.kr/1991966006/still/300\n",
      "[아웃백스테이크하우스](아웃백빕스)Pays 외식카페 결합 금액권 5만원권.png http://gdimg.gmarket.co.kr/1969140335/still/300\n",
      "[envy][고당도]씻어나온 프리미엄 ENVY(엔비) 사과 총 4.4kg(2.2kg 2box).png http://gdimg.gmarket.co.kr/1988449825/still/300\n",
      "[그린핑거]우리아이 입체마스크 베이비용30P.png http://gdimg.gmarket.co.kr/2011913213/still/300\n",
      "[보뚜]석류즙 100 석류과즙100% 실속형 100포 1박스.png http://gdimg.gmarket.co.kr/1518171142/still/300\n",
      "[정관장]홍삼정 에브리타임 밸런스 10ml x30포.png http://gdimg.gmarket.co.kr/1913472646/still/300\n",
      "[리복](신세계강남점)리복  남녀공용 프리미어1000 (Premier1000) 런닝화 FZ1065(아이보리)FZ1066(블랙).png http://gdimg.gmarket.co.kr/2002289782/still/300\n",
      "[테팔]쿠퍼 딜라이트 인덕션 프라이팬 28cm티타늄프로코팅.png http://gdimg.gmarket.co.kr/1885277229/still/300\n",
      "티메이 겨울신상 니트 가디건 기모맨투맨 트레이.png http://gdimg.gmarket.co.kr/1280233513/still/300\n",
      "[우르오스]우르오스 올인원 스킨밀크스킨로션 200ml 택1.png http://gdimg.gmarket.co.kr/898903185/still/300\n",
      "[구글플레이](카드가능) 기프트코드 3만원  구글 기프트카드.png http://gdimg.gmarket.co.kr/1655241628/still/300\n",
      "NEW 오제끄 실크 고마주 바디필링 프리미엄 방송 최다패키지.png http://gdimg.gmarket.co.kr/1949079667/still/300\n",
      "[광동옥수수수염차]광동 옥수수 수염차 1.5L x12입.png http://gdimg.gmarket.co.kr/1827693577/still/300\n",
      "[오롯담] 우리소 양념 찜갈비500g 6팩.png http://gdimg.gmarket.co.kr/1658922195/still/300\n",
      "(2권이상 무료배송)자녀교육서 추천 베스트.png http://gdimg.gmarket.co.kr/2007693201/still/300\n",
      "[아침농산]국산 농부의아침 쌀10kg  2020년산 햅쌀.png http://gdimg.gmarket.co.kr/484828506/still/300\n",
      "[에그머니](카드가능)(에그머니) 온라인 게임상품권 5만원.png http://gdimg.gmarket.co.kr/1791565626/still/300\n",
      "[쉬크]쉬크 하이드로5 커스텀 하이드레이트 싱글팩(면도기1+날15+폼1+케이스1).png http://gdimg.gmarket.co.kr/1730935249/still/300\n"
     ]
    },
    {
     "name": "stdout",
     "output_type": "stream",
     "text": [
      "브레스마스크 KF-94 대형  100매입.png http://gdimg.gmarket.co.kr/1955584051/still/300\n",
      "아이 스스로 성장하는 똑똑하게 레벨 업 세트(전7권).png http://gdimg.gmarket.co.kr/2005702245/still/300\n",
      "[크리넥스]크리넥스 KF80 입체형 마스크 소형 10PX4개.png http://gdimg.gmarket.co.kr/2013024635/still/300\n",
      "[폴햄]폴햄 맨투맨후드 외 이너 모음.png http://gdimg.gmarket.co.kr/1904145773/still/300\n",
      "[릴리유]릴리유 퓨어그린 아기물티슈 캡 80매 10팩 E.png http://gdimg.gmarket.co.kr/1658859485/still/300\n",
      "3중 필터 샤워기 (+리필필터 10P).png http://gdimg.gmarket.co.kr/2005874455/still/300\n",
      "엄마애바다 국내가공 백진미채 1kg.png http://gdimg.gmarket.co.kr/1636284317/still/300\n",
      "로지텍 G304 무선 게이밍 마우스 병행 밀봉박스새상품.png http://gdimg.gmarket.co.kr/1468424485/still/300\n",
      "얼라이브즈 슬라이딩 리빙박스 3P SET.png http://gdimg.gmarket.co.kr/1872366168/still/300\n",
      "[한샘]양날개 튼튼 빨래 건조대 + 사은품 3종택1.png http://gdimg.gmarket.co.kr/2006318469/still/300\n",
      "[휠라]휠라볼란테 98 스웨이드 FS1HTB1167XWRD.png http://gdimg.gmarket.co.kr/2004307722/still/300\n",
      "[뉴발란스]본사최대 75% 혜택 신학기가방맨투맨운동화기획전.png http://gdimg.gmarket.co.kr/2004425139/still/300\n",
      "(행사상품)믿고먹는_안심농협쌀_20KG 포 .png http://gdimg.gmarket.co.kr/2005886978/still/300\n",
      "[애슐리]애슐리 볶음밥 (갈릭스테이크4인분+깍두기치즈4인분).png http://gdimg.gmarket.co.kr/1896140332/still/300\n",
      "[착한떡](숏핑) 착한떡 우유꿀백설기 40개 택1(우유설기 인절미 찹쌀떡).png http://gdimg.gmarket.co.kr/1918253986/still/300\n",
      "두리 3.0 유아변기커버+디딤대상단 화이트 트리플 무소음 아기변기 항균소재.png http://gdimg.gmarket.co.kr/1901000786/still/300\n",
      "황금미가 쌀 20kg 20년산 (당일도정).png http://gdimg.gmarket.co.kr/858294811/still/300\n",
      "[크리넥스]크리넥스 3겹 순수소프트화장지 27m30롤x2팩 휴지.png http://gdimg.gmarket.co.kr/1926860218/still/300\n",
      "[구글플레이](카드가능) 기프트코드 5만원  구글 기프트카드.png http://gdimg.gmarket.co.kr/1655242060/still/300\n",
      "kf80 소형 코끼리 어린이 마스크 100매 + 스트랩 1개.png http://gdimg.gmarket.co.kr/1891034597/still/300\n",
      "블루본 먼지어흥 KF80 소형 마스크 50매 당일배송.png http://gdimg.gmarket.co.kr/1943837116/still/300\n",
      "[르크루제]갤러리아   르크루제  카술레 서빙볼 (로즈쿼츠 재입고).png http://gdimg.gmarket.co.kr/1756575576/still/300\n",
      "[오제끄][싱글구성]오제끄 프리미엄 실크 바디필링 10종 시즌2.png http://gdimg.gmarket.co.kr/1909968960/still/300\n",
      "[밧드야](현대백화점)[VATYA] 밧드야 18-8 스테인레스 3L 음식물쓰레기통.png http://gdimg.gmarket.co.kr/1623157407/still/300\n",
      "[쉬크][포토상품평]쉬크 하이드로5 커스텀  패밀리팩(면도기2+날34+폼2+케이스2).png http://gdimg.gmarket.co.kr/2008631885/still/300\n",
      "[그린핑거]우리아이 입체마스크 키즈용30P.png http://gdimg.gmarket.co.kr/2011906245/still/300\n",
      "통통생굴 2kg  횟감용 밤 12시까지만 게릴라 무배특가.png http://gdimg.gmarket.co.kr/1711339174/still/300\n",
      "[켈로그]켈로그 그래놀라 3종(블루베리+크렌베리+현미).png http://gdimg.gmarket.co.kr/1964433227/still/300\n",
      "1+1 피그먼트워싱 극세사 침대패드 겸 카페트.png http://gdimg.gmarket.co.kr/175202294/still/300\n",
      "[안다르]20+10% 안다르 홈트 특가 이태리 레깅스 Chp.2.png http://gdimg.gmarket.co.kr/1784364135/still/300\n",
      "알앤알 HACCP 구운 커피콩빵 커피맛 20개 R1.png http://gdimg.gmarket.co.kr/1888498231/still/300\n",
      "센스물티슈 악어 캡형 100매 10팩+10팩  한장씩톡톡.png http://gdimg.gmarket.co.kr/1490019603/still/300\n",
      "kf94 마스크 소형 화이트 100매 합리적인 어린이 아동.png http://gdimg.gmarket.co.kr/1835970332/still/300\n",
      "컴퓨존 닌텐도 SWITCH 슈퍼 마리오 파티 재고보유.png http://gdimg.gmarket.co.kr/1492207853/still/300\n",
      "[강블리라이프]블링미 쌀 20kg 강블리라이프 20년 햅쌀 당일도정.png http://gdimg.gmarket.co.kr/1701292660/still/300\n",
      "NIX 닉스 초특가 남성 기모데님 + 플리스점퍼.png http://gdimg.gmarket.co.kr/1998047713/still/300\n",
      "[비비고]비비고 언양식바싹불고기 x2 + 한입떡갈비 x2번들 2개.png http://gdimg.gmarket.co.kr/1882866545/still/300\n",
      "[백옥생]기초화장품 세트 스킨로션  기능성 한방 3종 명절선물.png http://gdimg.gmarket.co.kr/354777561/still/300\n",
      "[코모도스퀘어][코모도스퀘어]3-WAY 다운코트.png http://gdimg.gmarket.co.kr/1985403891/still/300\n",
      "|서울 중구| 서울신라호텔(신라신라호텔서울신라호텔수영장호텔추천특1급중구호텔호텔신라).png http://gdimg.gmarket.co.kr/1672763948/still/300\n"
     ]
    },
    {
     "ename": "OSError",
     "evalue": "[Errno 22] Invalid argument: './datas/|서울 중구| 서울신라호텔(신라신라호텔서울신라호텔수영장호텔추천특1급중구호텔호텔신라).png'",
     "output_type": "error",
     "traceback": [
      "\u001b[1;31m---------------------------------------------------------------------------\u001b[0m",
      "\u001b[1;31mOSError\u001b[0m                                   Traceback (most recent call last)",
      "\u001b[1;32m<ipython-input-59-bf6cb853f909>\u001b[0m in \u001b[0;36m<module>\u001b[1;34m\u001b[0m\n\u001b[0;32m      4\u001b[0m     \u001b[0mtitle\u001b[0m \u001b[1;33m=\u001b[0m \u001b[0mtitle\u001b[0m\u001b[1;33m.\u001b[0m\u001b[0mreplace\u001b[0m\u001b[1;33m(\u001b[0m\u001b[1;34m'/'\u001b[0m\u001b[1;33m,\u001b[0m \u001b[1;34m''\u001b[0m\u001b[1;33m)\u001b[0m\u001b[1;33m\u001b[0m\u001b[1;33m\u001b[0m\u001b[0m\n\u001b[0;32m      5\u001b[0m     \u001b[0mprint\u001b[0m\u001b[1;33m(\u001b[0m\u001b[0mtitle\u001b[0m\u001b[1;33m,\u001b[0m \u001b[0mlink\u001b[0m\u001b[1;33m)\u001b[0m\u001b[1;33m\u001b[0m\u001b[1;33m\u001b[0m\u001b[0m\n\u001b[1;32m----> 6\u001b[1;33m     \u001b[0mdownload\u001b[0m\u001b[1;33m(\u001b[0m\u001b[0mtitle\u001b[0m\u001b[1;33m,\u001b[0m \u001b[0mlink\u001b[0m\u001b[1;33m)\u001b[0m\u001b[1;33m\u001b[0m\u001b[1;33m\u001b[0m\u001b[0m\n\u001b[0m",
      "\u001b[1;32m<ipython-input-58-e6c13be243b8>\u001b[0m in \u001b[0;36mdownload\u001b[1;34m(title, link)\u001b[0m\n\u001b[0;32m      5\u001b[0m     \u001b[0mpath\u001b[0m \u001b[1;33m=\u001b[0m \u001b[1;34m\"./datas/{}\"\u001b[0m\u001b[1;33m.\u001b[0m\u001b[0mformat\u001b[0m\u001b[1;33m(\u001b[0m\u001b[0mtitle\u001b[0m\u001b[1;33m)\u001b[0m\u001b[1;33m\u001b[0m\u001b[1;33m\u001b[0m\u001b[0m\n\u001b[0;32m      6\u001b[0m \u001b[1;33m\u001b[0m\u001b[0m\n\u001b[1;32m----> 7\u001b[1;33m     \u001b[1;32mwith\u001b[0m \u001b[0mopen\u001b[0m\u001b[1;33m(\u001b[0m\u001b[0mpath\u001b[0m\u001b[1;33m,\u001b[0m \u001b[1;34m'wb'\u001b[0m\u001b[1;33m)\u001b[0m \u001b[1;32mas\u001b[0m \u001b[0mf\u001b[0m\u001b[1;33m:\u001b[0m\u001b[1;33m\u001b[0m\u001b[1;33m\u001b[0m\u001b[0m\n\u001b[0m\u001b[0;32m      8\u001b[0m         \u001b[1;31m# 파일 분할해서 저장하는 것\u001b[0m\u001b[1;33m\u001b[0m\u001b[1;33m\u001b[0m\u001b[1;33m\u001b[0m\u001b[0m\n\u001b[0;32m      9\u001b[0m         \u001b[1;32mfor\u001b[0m \u001b[0mchunk\u001b[0m \u001b[1;32min\u001b[0m \u001b[0mresponse\u001b[0m\u001b[1;33m.\u001b[0m\u001b[0miter_content\u001b[0m\u001b[1;33m(\u001b[0m\u001b[0mchunk_size\u001b[0m\u001b[1;33m=\u001b[0m\u001b[1;36m1024\u001b[0m\u001b[1;33m)\u001b[0m\u001b[1;33m:\u001b[0m\u001b[1;33m\u001b[0m\u001b[1;33m\u001b[0m\u001b[0m\n",
      "\u001b[1;31mOSError\u001b[0m: [Errno 22] Invalid argument: './datas/|서울 중구| 서울신라호텔(신라신라호텔서울신라호텔수영장호텔추천특1급중구호텔호텔신라).png'"
     ]
    }
   ],
   "source": [
    "for idx, row in items_df.iterrows():\n",
    "    link = 'http://gdimg.gmarket.co.kr/{}/still/300'.format(row['code'])\n",
    "    title = row['title'] + '.png'\n",
    "    title = title.replace('/', '')\n",
    "    print(title, link)\n",
    "    download(title, link)"
   ]
  },
  {
   "cell_type": "code",
   "execution_count": null,
   "metadata": {},
   "outputs": [],
   "source": []
  },
  {
   "cell_type": "code",
   "execution_count": null,
   "metadata": {},
   "outputs": [],
   "source": []
  },
  {
   "cell_type": "code",
   "execution_count": null,
   "metadata": {},
   "outputs": [],
   "source": []
  },
  {
   "cell_type": "code",
   "execution_count": null,
   "metadata": {},
   "outputs": [],
   "source": []
  }
 ],
 "metadata": {
  "hide_input": false,
  "kernelspec": {
   "display_name": "Python 3",
   "language": "python",
   "name": "python3"
  },
  "language_info": {
   "codemirror_mode": {
    "name": "ipython",
    "version": 3
   },
   "file_extension": ".py",
   "mimetype": "text/x-python",
   "name": "python",
   "nbconvert_exporter": "python",
   "pygments_lexer": "ipython3",
   "version": "3.8.5"
  },
  "toc": {
   "base_numbering": 1,
   "nav_menu": {},
   "number_sections": true,
   "sideBar": true,
   "skip_h1_title": false,
   "title_cell": "Table of Contents",
   "title_sidebar": "Contents",
   "toc_cell": false,
   "toc_position": {},
   "toc_section_display": true,
   "toc_window_display": false
  },
  "varInspector": {
   "cols": {
    "lenName": 16,
    "lenType": 16,
    "lenVar": 40
   },
   "kernels_config": {
    "python": {
     "delete_cmd_postfix": "",
     "delete_cmd_prefix": "del ",
     "library": "var_list.py",
     "varRefreshCmd": "print(var_dic_list())"
    },
    "r": {
     "delete_cmd_postfix": ") ",
     "delete_cmd_prefix": "rm(",
     "library": "var_list.r",
     "varRefreshCmd": "cat(var_dic_list()) "
    }
   },
   "types_to_exclude": [
    "module",
    "function",
    "builtin_function_or_method",
    "instance",
    "_Feature"
   ],
   "window_display": false
  }
 },
 "nbformat": 4,
 "nbformat_minor": 4
}
